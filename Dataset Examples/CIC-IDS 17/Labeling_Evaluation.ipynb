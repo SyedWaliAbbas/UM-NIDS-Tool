{
 "cells": [
  {
   "cell_type": "code",
   "execution_count": 1,
   "id": "9f3b63b3-59ca-45c7-b3a9-bee73b914e69",
   "metadata": {},
   "outputs": [],
   "source": [
    "import nfstream\n",
    "from nfstream import NFStreamer, NFPlugin\n",
    "import pandas as pd\n",
    "import os\n",
    "import sys\n"
   ]
  },
  {
   "cell_type": "code",
   "execution_count": 2,
   "id": "e6bfa798-795a-4b54-a27b-e5c18fd808fd",
   "metadata": {},
   "outputs": [
    {
     "name": "stderr",
     "output_type": "stream",
     "text": [
      "INFO:label.parallel_label:Processed /scratch/user/syedwali/Datasets/CIC_2017/provided_CSVs/Friday-WorkingHours-Afternoon-DDos.pcap_ISCX.csv: Min timestamp = 1499452200000.0, Max timestamp = 1499457720000.0\n",
      "INFO:label.parallel_label:Processed /scratch/user/syedwali/Datasets/CIC_2017/provided_CSVs/Thursday-WorkingHours-Afternoon-Infilteration.pcap_ISCX.csv: Min timestamp = 1499356800000.0, Max timestamp = 1499371440000.0\n",
      "INFO:label.parallel_label:Processed /scratch/user/syedwali/Datasets/CIC_2017/provided_CSVs/Thursday-WorkingHours-Morning-WebAttacks.pcap_ISCX.csv: Min timestamp = 1499342340000.0, Max timestamp = 1499356740000.0\n",
      "INFO:label.parallel_label:Processed /scratch/user/syedwali/Datasets/CIC_2017/provided_CSVs/Tuesday-WorkingHours.pcap_ISCX.csv: Min timestamp = 1499169180000.0, Max timestamp = 1499198400000.0\n",
      "INFO:label.parallel_label:Processed /scratch/user/syedwali/Datasets/CIC_2017/provided_CSVs/Friday-WorkingHours-Morning.pcap_ISCX.csv: Min timestamp = 1499428740000.0, Max timestamp = 1499443140000.0\n",
      "INFO:label.parallel_label:Processed /scratch/user/syedwali/Datasets/CIC_2017/provided_CSVs/Friday-WorkingHours-Afternoon-PortScan.pcap_ISCX.csv: Min timestamp = 1499443200000.0, Max timestamp = 1499452140000.0\n",
      "INFO:label.parallel_label:Processed /scratch/user/syedwali/Datasets/CIC_2017/provided_CSVs/Monday-WorkingHours.pcap_ISCX.csv: Min timestamp = 1499082958000.0, Max timestamp = 1499112094000.0\n",
      "INFO:label.parallel_label:Processed /scratch/user/syedwali/Datasets/CIC_2017/provided_CSVs/Wednesday-workingHours.pcap_ISCX.csv: Min timestamp = 1499254920000.0, Max timestamp = 1499285400000.0\n"
     ]
    },
    {
     "name": "stdout",
     "output_type": "stream",
     "text": [
      "                                           file_path  min_timestamp  \\\n",
      "0  /scratch/user/syedwali/Datasets/CIC_2017/provi...   1.499342e+12   \n",
      "1  /scratch/user/syedwali/Datasets/CIC_2017/provi...   1.499169e+12   \n",
      "2  /scratch/user/syedwali/Datasets/CIC_2017/provi...   1.499357e+12   \n",
      "3  /scratch/user/syedwali/Datasets/CIC_2017/provi...   1.499452e+12   \n",
      "4  /scratch/user/syedwali/Datasets/CIC_2017/provi...   1.499429e+12   \n",
      "5  /scratch/user/syedwali/Datasets/CIC_2017/provi...   1.499443e+12   \n",
      "6  /scratch/user/syedwali/Datasets/CIC_2017/provi...   1.499255e+12   \n",
      "7  /scratch/user/syedwali/Datasets/CIC_2017/provi...   1.499083e+12   \n",
      "\n",
      "   max_timestamp  \n",
      "0   1.499357e+12  \n",
      "1   1.499198e+12  \n",
      "2   1.499371e+12  \n",
      "3   1.499458e+12  \n",
      "4   1.499443e+12  \n",
      "5   1.499452e+12  \n",
      "6   1.499285e+12  \n",
      "7   1.499112e+12  \n"
     ]
    }
   ],
   "source": [
    "from label.parallel_label import *\n",
    "if __name__ == '__main__':\n",
    "    #set_start_method(\"fork\")  # or \"spawn\" depending on your system\n",
    "\n",
    "    # Example usage:\n",
    "    folders = [\"/scratch/user/syedwali/Datasets/CIC_2017/provided_CSVs\"]\n",
    "\n",
    "    # Step 1: Extract time ranges from CSV files in all folders using multiple cores\n",
    "    meta_data = extract_time_ranges_from_csvs(folders, timestamp_column='timestamp', batch_size=5)\n",
    "\n",
    "    # Print resulting metadata\n",
    "    print(meta_data)"
   ]
  },
  {
   "cell_type": "code",
   "execution_count": 3,
   "id": "166e2cdd-93b9-4a8a-8d96-1797af48e9ee",
   "metadata": {
    "scrolled": true
   },
   "outputs": [
    {
     "name": "stdout",
     "output_type": "stream",
     "text": [
      "['wed_processed.0_part_5.csv', 'wed_processed.9.csv', 'wed_processed.0_part_3.csv', 'wed_processed.0_part_20.csv', 'wed_processed.2.csv', 'thur_processed.7.csv', 'wed_processed.0_part_4.csv', 'wed_processed.7.csv', 'thur_processed.5.csv', 'thur_processed.6.csv', 'thur_processed.1.csv', 'wed_processed.0_part_10.csv', 'wed_processed.0_part_13.csv', 'wed_processed.0_part_1.csv', 'wed_processed.0_part_9.csv', 'wed_processed.0_part_19.csv', 'wed_processed.6.csv', 'wed_processed.0_part_2.csv', 'wed_processed.3.csv', 'wed_processed.5.csv', 'wed_processed.0_part_14.csv', 'thur_processed.2.csv', 'thur_processed.4.csv', 'thur_processed.0.csv', 'thur_processed.3.csv', 'wed_processed.0_part_7.csv', 'wed_processed.0_part_18.csv', 'wed_processed.0_part_11.csv', 'wed_processed.0_part_8.csv', 'wed_processed.0_part_6.csv', 'wed_processed.8.csv', 'wed_processed.0_part_12.csv', 'wed_processed.0_part_15.csv', 'wed_processed.0_part_17.csv', 'wed_processed.1.csv', 'wed_processed.4.csv', 'wed_processed.0_part_16.csv']\n"
     ]
    },
    {
     "name": "stderr",
     "output_type": "stream",
     "text": [
      "Processing CSVs:   0%|          | 0/37 [00:00<?, ?it/s]"
     ]
    },
    {
     "name": "stdout",
     "output_type": "stream",
     "text": [
      "Reading: /scratch/user/syedwali/Datasets/CIC_2017/provided_CSVs/Thursday-WorkingHours-Afternoon-Infilteration.pcap_ISCX.csv\n",
      "Reading: /scratch/user/syedwali/Datasets/CIC_2017/provided_CSVs/Wednesday-workingHours.pcap_ISCX.csv\n",
      "Reading: /scratch/user/syedwali/Datasets/CIC_2017/provided_CSVs/Wednesday-workingHours.pcap_ISCX.csv\n",
      "Reading: /scratch/user/syedwali/Datasets/CIC_2017/provided_CSVs/Wednesday-workingHours.pcap_ISCX.csv\n",
      "Reading: /scratch/user/syedwali/Datasets/CIC_2017/provided_CSVs/Wednesday-workingHours.pcap_ISCX.csv\n",
      "Reading: /scratch/user/syedwali/Datasets/CIC_2017/provided_CSVs/Wednesday-workingHours.pcap_ISCX.csv\n",
      "Reading: /scratch/user/syedwali/Datasets/CIC_2017/provided_CSVs/Wednesday-workingHours.pcap_ISCX.csv\n",
      "Reading: /scratch/user/syedwali/Datasets/CIC_2017/provided_CSVs/Wednesday-workingHours.pcap_ISCX.csv\n"
     ]
    },
    {
     "name": "stderr",
     "output_type": "stream",
     "text": [
      "Processing CSVs:   3%|▎         | 1/37 [01:19<47:27, 79.11s/it]"
     ]
    },
    {
     "name": "stdout",
     "output_type": "stream",
     "text": [
      "Finished processing thur_processed.7.csv.\n",
      "Label distribution:\n",
      "label\n",
      "BENIGN    11959\n",
      "Name: count, dtype: int64\n"
     ]
    },
    {
     "name": "stderr",
     "output_type": "stream",
     "text": [
      "Processing CSVs:   5%|▌         | 2/37 [01:24<20:44, 35.55s/it]"
     ]
    },
    {
     "name": "stdout",
     "output_type": "stream",
     "text": [
      "Finished processing wed_processed.0_part_20.csv.\n",
      "Label distribution:\n",
      "label\n",
      "BENIGN      3635\n",
      "DoS Hulk    1205\n",
      "Name: count, dtype: int64\n",
      "Reading: /scratch/user/syedwali/Datasets/CIC_2017/provided_CSVs/Thursday-WorkingHours-Afternoon-Infilteration.pcap_ISCX.csv\n",
      "Reading: /scratch/user/syedwali/Datasets/CIC_2017/provided_CSVs/Thursday-WorkingHours-Afternoon-Infilteration.pcap_ISCX.csv\n"
     ]
    },
    {
     "name": "stderr",
     "output_type": "stream",
     "text": [
      "Processing CSVs:   8%|▊         | 3/37 [02:15<24:16, 42.83s/it]"
     ]
    },
    {
     "name": "stdout",
     "output_type": "stream",
     "text": [
      "Finished processing wed_processed.0_part_3.csv.\n",
      "Label distribution:\n",
      "label\n",
      "BENIGN    4900\n",
      "Name: count, dtype: int64\n",
      "Reading: /scratch/user/syedwali/Datasets/CIC_2017/provided_CSVs/Thursday-WorkingHours-Morning-WebAttacks.pcap_ISCX.csv\n"
     ]
    },
    {
     "name": "stderr",
     "output_type": "stream",
     "text": [
      "Processing CSVs:  11%|█         | 4/37 [02:57<23:19, 42.41s/it]"
     ]
    },
    {
     "name": "stdout",
     "output_type": "stream",
     "text": [
      "Finished processing wed_processed.0_part_4.csv.\n",
      "Label distribution:\n",
      "label\n",
      "BENIGN    4895\n",
      "Name: count, dtype: int64\n"
     ]
    },
    {
     "name": "stderr",
     "output_type": "stream",
     "text": [
      "Processing CSVs:  14%|█▎        | 5/37 [03:04<15:47, 29.62s/it]"
     ]
    },
    {
     "name": "stdout",
     "output_type": "stream",
     "text": [
      "Finished processing wed_processed.9.csv.\n",
      "Label distribution:\n",
      "label\n",
      "BENIGN    16943\n",
      "Name: count, dtype: int64\n",
      "Reading: /scratch/user/syedwali/Datasets/CIC_2017/provided_CSVs/Wednesday-workingHours.pcap_ISCX.csv\n",
      "Reading: /scratch/user/syedwali/Datasets/CIC_2017/provided_CSVs/Wednesday-workingHours.pcap_ISCX.csv\n"
     ]
    },
    {
     "name": "stderr",
     "output_type": "stream",
     "text": [
      "Processing CSVs:  16%|█▌        | 6/37 [04:01<20:09, 39.02s/it]"
     ]
    },
    {
     "name": "stdout",
     "output_type": "stream",
     "text": [
      "Finished processing wed_processed.0_part_10.csv.\n",
      "Label distribution:\n",
      "label\n",
      "BENIGN    4941\n",
      "Name: count, dtype: int64\n"
     ]
    },
    {
     "name": "stderr",
     "output_type": "stream",
     "text": [
      "Processing CSVs:  19%|█▉        | 7/37 [04:05<13:47, 27.59s/it]"
     ]
    },
    {
     "name": "stdout",
     "output_type": "stream",
     "text": [
      "Finished processing wed_processed.0_part_13.csv.\n",
      "Label distribution:\n",
      "label\n",
      "BENIGN    4862\n",
      "Name: count, dtype: int64\n"
     ]
    },
    {
     "name": "stderr",
     "output_type": "stream",
     "text": [
      "Processing CSVs:  22%|██▏       | 8/37 [04:17<10:49, 22.41s/it]"
     ]
    },
    {
     "name": "stdout",
     "output_type": "stream",
     "text": [
      "Finished processing wed_processed.0_part_5.csv.\n",
      "Label distribution:\n",
      "label\n",
      "BENIGN      4909\n",
      "DoS Hulk       2\n",
      "Name: count, dtype: int64\n",
      "Reading: /scratch/user/syedwali/Datasets/CIC_2017/provided_CSVs/Wednesday-workingHours.pcap_ISCX.csv\n",
      "Reading: /scratch/user/syedwali/Datasets/CIC_2017/provided_CSVs/Wednesday-workingHours.pcap_ISCX.csv\n",
      "Reading: /scratch/user/syedwali/Datasets/CIC_2017/provided_CSVs/Wednesday-workingHours.pcap_ISCX.csv\n"
     ]
    },
    {
     "name": "stderr",
     "output_type": "stream",
     "text": [
      "Processing CSVs:  24%|██▍       | 9/37 [05:06<14:28, 31.02s/it]"
     ]
    },
    {
     "name": "stdout",
     "output_type": "stream",
     "text": [
      "Finished processing wed_processed.0_part_9.csv.\n",
      "Label distribution:\n",
      "label\n",
      "BENIGN    4906\n",
      "Name: count, dtype: int64\n"
     ]
    },
    {
     "name": "stderr",
     "output_type": "stream",
     "text": [
      "Processing CSVs:  27%|██▋       | 10/37 [05:28<12:36, 28.02s/it]"
     ]
    },
    {
     "name": "stdout",
     "output_type": "stream",
     "text": [
      "Finished processing wed_processed.0_part_19.csv.\n",
      "Label distribution:\n",
      "label\n",
      "BENIGN      3199\n",
      "DoS Hulk    1609\n",
      "Name: count, dtype: int64\n",
      "Reading: /scratch/user/syedwali/Datasets/CIC_2017/provided_CSVs/Wednesday-workingHours.pcap_ISCX.csv\n",
      "Reading: /scratch/user/syedwali/Datasets/CIC_2017/provided_CSVs/Wednesday-workingHours.pcap_ISCX.csv\n"
     ]
    },
    {
     "name": "stderr",
     "output_type": "stream",
     "text": [
      "Processing CSVs:  30%|██▉       | 11/37 [06:15<14:44, 34.01s/it]"
     ]
    },
    {
     "name": "stdout",
     "output_type": "stream",
     "text": [
      "Finished processing wed_processed.0_part_1.csv.\n",
      "Label distribution:\n",
      "label\n",
      "BENIGN    4869\n",
      "Name: count, dtype: int64\n",
      "Reading: /scratch/user/syedwali/Datasets/CIC_2017/provided_CSVs/Wednesday-workingHours.pcap_ISCX.csv\n"
     ]
    },
    {
     "name": "stderr",
     "output_type": "stream",
     "text": [
      "Processing CSVs:  32%|███▏      | 12/37 [07:05<16:11, 38.86s/it]"
     ]
    },
    {
     "name": "stdout",
     "output_type": "stream",
     "text": [
      "Finished processing wed_processed.0_part_2.csv.\n",
      "Label distribution:\n",
      "label\n",
      "BENIGN    4917\n",
      "Name: count, dtype: int64\n",
      "Reading: /scratch/user/syedwali/Datasets/CIC_2017/provided_CSVs/Wednesday-workingHours.pcap_ISCX.csv\n"
     ]
    },
    {
     "name": "stderr",
     "output_type": "stream",
     "text": [
      "Processing CSVs:  35%|███▌      | 13/37 [21:41<1:56:59, 292.46s/it]"
     ]
    },
    {
     "name": "stdout",
     "output_type": "stream",
     "text": [
      "Finished processing thur_processed.1.csv.\n",
      "Label distribution:\n",
      "label\n",
      "BENIGN                        96170\n",
      "Web Attack  XSS               1459\n",
      "Web Attack  Brute Force        413\n",
      "Web Attack  Sql Injection       15\n",
      "Name: count, dtype: int64\n",
      "Reading: /scratch/user/syedwali/Datasets/CIC_2017/provided_CSVs/Wednesday-workingHours.pcap_ISCX.csv\n"
     ]
    },
    {
     "name": "stderr",
     "output_type": "stream",
     "text": [
      "Processing CSVs:  38%|███▊      | 14/37 [22:46<1:25:44, 223.66s/it]"
     ]
    },
    {
     "name": "stdout",
     "output_type": "stream",
     "text": [
      "Finished processing wed_processed.0_part_14.csv.\n",
      "Label distribution:\n",
      "label\n",
      "BENIGN    4869\n",
      "Name: count, dtype: int64\n"
     ]
    },
    {
     "name": "stderr",
     "output_type": "stream",
     "text": [
      "Processing CSVs:  41%|████      | 15/37 [23:05<59:26, 162.10s/it]  "
     ]
    },
    {
     "name": "stdout",
     "output_type": "stream",
     "text": [
      "Finished processing thur_processed.6.csv.\n",
      "Label distribution:\n",
      "label\n",
      "BENIGN          98069\n",
      "Infiltration        2\n",
      "Name: count, dtype: int64\n",
      "Reading: /scratch/user/syedwali/Datasets/CIC_2017/provided_CSVs/Thursday-WorkingHours-Morning-WebAttacks.pcap_ISCX.csv\n",
      "Reading: /scratch/user/syedwali/Datasets/CIC_2017/provided_CSVs/Thursday-WorkingHours-Afternoon-Infilteration.pcap_ISCX.csv\n",
      "Reading: /scratch/user/syedwali/Datasets/CIC_2017/provided_CSVs/Thursday-WorkingHours-Afternoon-Infilteration.pcap_ISCX.csv\n"
     ]
    },
    {
     "name": "stderr",
     "output_type": "stream",
     "text": [
      "Processing CSVs:  43%|████▎     | 16/37 [28:10<1:11:42, 204.90s/it]"
     ]
    },
    {
     "name": "stdout",
     "output_type": "stream",
     "text": [
      "Finished processing thur_processed.5.csv.\n",
      "Label distribution:\n",
      "label\n",
      "BENIGN          98121\n",
      "Infiltration       36\n",
      "Name: count, dtype: int64\n",
      "Reading: /scratch/user/syedwali/Datasets/CIC_2017/provided_CSVs/Thursday-WorkingHours-Morning-WebAttacks.pcap_ISCX.csv\n"
     ]
    },
    {
     "name": "stderr",
     "output_type": "stream",
     "text": [
      "Processing CSVs:  46%|████▌     | 17/37 [32:46<1:15:26, 226.33s/it]"
     ]
    },
    {
     "name": "stdout",
     "output_type": "stream",
     "text": [
      "Finished processing wed_processed.7.csv.\n",
      "Label distribution:\n",
      "label\n",
      "BENIGN        97831\n",
      "Heartbleed        1\n",
      "Name: count, dtype: int64\n",
      "Reading: /scratch/user/syedwali/Datasets/CIC_2017/provided_CSVs/Thursday-WorkingHours-Afternoon-Infilteration.pcap_ISCX.csv\n"
     ]
    },
    {
     "name": "stderr",
     "output_type": "stream",
     "text": [
      "Processing CSVs:  49%|████▊     | 18/37 [36:22<1:10:40, 223.20s/it]"
     ]
    },
    {
     "name": "stdout",
     "output_type": "stream",
     "text": [
      "Finished processing wed_processed.5.csv.\n",
      "Label distribution:\n",
      "label\n",
      "BENIGN    98070\n",
      "Name: count, dtype: int64\n",
      "Reading: /scratch/user/syedwali/Datasets/CIC_2017/provided_CSVs/Wednesday-workingHours.pcap_ISCX.csv\n"
     ]
    },
    {
     "name": "stderr",
     "output_type": "stream",
     "text": [
      "Processing CSVs:  51%|█████▏    | 19/37 [37:21<52:10, 173.93s/it]  "
     ]
    },
    {
     "name": "stdout",
     "output_type": "stream",
     "text": [
      "Finished processing wed_processed.6.csv.\n",
      "Label distribution:\n",
      "label\n",
      "BENIGN           98199\n",
      "DoS slowloris        4\n",
      "Name: count, dtype: int64\n"
     ]
    },
    {
     "name": "stderr",
     "output_type": "stream",
     "text": [
      "Processing CSVs:  54%|█████▍    | 20/37 [37:35<35:40, 125.89s/it]"
     ]
    },
    {
     "name": "stdout",
     "output_type": "stream",
     "text": [
      "Finished processing wed_processed.0_part_7.csv.\n",
      "Label distribution:\n",
      "label\n",
      "BENIGN    4876\n",
      "Name: count, dtype: int64\n",
      "Reading: /scratch/user/syedwali/Datasets/CIC_2017/provided_CSVs/Wednesday-workingHours.pcap_ISCX.csv\n",
      "Reading: /scratch/user/syedwali/Datasets/CIC_2017/provided_CSVs/Wednesday-workingHours.pcap_ISCX.csv\n"
     ]
    },
    {
     "name": "stderr",
     "output_type": "stream",
     "text": [
      "Processing CSVs:  57%|█████▋    | 21/37 [38:46<29:09, 109.35s/it]"
     ]
    },
    {
     "name": "stdout",
     "output_type": "stream",
     "text": [
      "Finished processing wed_processed.0_part_11.csv.\n",
      "Label distribution:\n",
      "label\n",
      "BENIGN    4922\n",
      "Name: count, dtype: int64\n"
     ]
    },
    {
     "name": "stderr",
     "output_type": "stream",
     "text": [
      "Processing CSVs:  59%|█████▉    | 22/37 [38:46<19:11, 76.77s/it] "
     ]
    },
    {
     "name": "stdout",
     "output_type": "stream",
     "text": [
      "Finished processing wed_processed.0_part_18.csv.\n",
      "Label distribution:\n",
      "label\n",
      "BENIGN      3750\n",
      "DoS Hulk    1155\n",
      "Name: count, dtype: int64\n",
      "Reading: /scratch/user/syedwali/Datasets/CIC_2017/provided_CSVs/Wednesday-workingHours.pcap_ISCX.csv\n",
      "Reading: /scratch/user/syedwali/Datasets/CIC_2017/provided_CSVs/Wednesday-workingHours.pcap_ISCX.csv\n"
     ]
    },
    {
     "name": "stderr",
     "output_type": "stream",
     "text": [
      "Processing CSVs:  62%|██████▏   | 23/37 [40:26<19:31, 83.65s/it]"
     ]
    },
    {
     "name": "stdout",
     "output_type": "stream",
     "text": [
      "Finished processing wed_processed.0_part_8.csv.\n",
      "Label distribution:\n",
      "label\n",
      "BENIGN    4919\n",
      "Name: count, dtype: int64\n"
     ]
    },
    {
     "name": "stderr",
     "output_type": "stream",
     "text": [
      "Processing CSVs:  65%|██████▍   | 24/37 [40:48<14:05, 65.07s/it]"
     ]
    },
    {
     "name": "stdout",
     "output_type": "stream",
     "text": [
      "Finished processing wed_processed.0_part_6.csv.\n",
      "Label distribution:\n",
      "label\n",
      "BENIGN    4870\n",
      "Name: count, dtype: int64\n",
      "Reading: /scratch/user/syedwali/Datasets/CIC_2017/provided_CSVs/Wednesday-workingHours.pcap_ISCX.csvReading: /scratch/user/syedwali/Datasets/CIC_2017/provided_CSVs/Wednesday-workingHours.pcap_ISCX.csv\n",
      "\n"
     ]
    },
    {
     "name": "stderr",
     "output_type": "stream",
     "text": [
      "Processing CSVs:  68%|██████▊   | 25/37 [41:49<12:48, 64.03s/it]"
     ]
    },
    {
     "name": "stdout",
     "output_type": "stream",
     "text": [
      "Finished processing wed_processed.0_part_12.csv.\n",
      "Label distribution:\n",
      "label\n",
      "BENIGN    4920\n",
      "Name: count, dtype: int64\n",
      "Reading: /scratch/user/syedwali/Datasets/CIC_2017/provided_CSVs/Wednesday-workingHours.pcap_ISCX.csv\n"
     ]
    },
    {
     "name": "stderr",
     "output_type": "stream",
     "text": [
      "Processing CSVs:  70%|███████   | 26/37 [42:48<11:25, 62.30s/it]"
     ]
    },
    {
     "name": "stdout",
     "output_type": "stream",
     "text": [
      "Finished processing wed_processed.0_part_15.csv.\n",
      "Label distribution:\n",
      "label\n",
      "BENIGN    4897\n",
      "Name: count, dtype: int64\n",
      "Reading: /scratch/user/syedwali/Datasets/CIC_2017/provided_CSVs/Wednesday-workingHours.pcap_ISCX.csv\n"
     ]
    },
    {
     "name": "stderr",
     "output_type": "stream",
     "text": [
      "Processing CSVs:  73%|███████▎  | 27/37 [43:48<10:16, 61.67s/it]"
     ]
    },
    {
     "name": "stdout",
     "output_type": "stream",
     "text": [
      "Finished processing wed_processed.0_part_17.csv.\n",
      "Label distribution:\n",
      "label\n",
      "BENIGN    4926\n",
      "Name: count, dtype: int64\n",
      "Reading: /scratch/user/syedwali/Datasets/CIC_2017/provided_CSVs/Wednesday-workingHours.pcap_ISCX.csv\n"
     ]
    },
    {
     "name": "stderr",
     "output_type": "stream",
     "text": [
      "Processing CSVs:  76%|███████▌  | 28/37 [46:35<14:00, 93.34s/it]"
     ]
    },
    {
     "name": "stdout",
     "output_type": "stream",
     "text": [
      "Finished processing thur_processed.4.csv.\n",
      "Label distribution:\n",
      "label\n",
      "BENIGN          97760\n",
      "Infiltration       83\n",
      "Name: count, dtype: int64\n",
      "Reading: /scratch/user/syedwali/Datasets/CIC_2017/provided_CSVs/Wednesday-workingHours.pcap_ISCX.csv\n"
     ]
    },
    {
     "name": "stderr",
     "output_type": "stream",
     "text": [
      "Processing CSVs:  78%|███████▊  | 29/37 [50:14<17:26, 130.87s/it]"
     ]
    },
    {
     "name": "stdout",
     "output_type": "stream",
     "text": [
      "Finished processing thur_processed.0.csv.\n",
      "Label distribution:\n",
      "label\n",
      "BENIGN                      95432\n",
      "Web Attack  Brute Force     2669\n",
      "Web Attack  XSS                9\n",
      "Name: count, dtype: int64\n",
      "Reading: /scratch/user/syedwali/Datasets/CIC_2017/provided_CSVs/Wednesday-workingHours.pcap_ISCX.csv\n"
     ]
    },
    {
     "name": "stderr",
     "output_type": "stream",
     "text": [
      "Processing CSVs:  81%|████████  | 30/37 [51:09<12:37, 108.24s/it]"
     ]
    },
    {
     "name": "stdout",
     "output_type": "stream",
     "text": [
      "Finished processing wed_processed.0_part_16.csv.\n",
      "Label distribution:\n",
      "label\n",
      "BENIGN    4910\n",
      "Name: count, dtype: int64\n"
     ]
    },
    {
     "name": "stderr",
     "output_type": "stream",
     "text": [
      "Processing CSVs:  84%|████████▍ | 31/37 [52:19<09:40, 96.72s/it] "
     ]
    },
    {
     "name": "stdout",
     "output_type": "stream",
     "text": [
      "Finished processing thur_processed.2.csv.\n",
      "Label distribution:\n",
      "label\n",
      "BENIGN                      98135\n",
      "Web Attack  Brute Force        2\n",
      "Name: count, dtype: int64\n"
     ]
    },
    {
     "name": "stderr",
     "output_type": "stream",
     "text": [
      "Processing CSVs:  86%|████████▋ | 32/37 [53:23<07:15, 87.02s/it]"
     ]
    },
    {
     "name": "stdout",
     "output_type": "stream",
     "text": [
      "Finished processing thur_processed.3.csv.\n",
      "Label distribution:\n",
      "label\n",
      "BENIGN          97950\n",
      "Infiltration        1\n",
      "Name: count, dtype: int64\n"
     ]
    },
    {
     "name": "stderr",
     "output_type": "stream",
     "text": [
      "Processing CSVs:  89%|████████▉ | 33/37 [1:04:04<16:52, 253.24s/it]"
     ]
    },
    {
     "name": "stdout",
     "output_type": "stream",
     "text": [
      "Finished processing wed_processed.8.csv.\n",
      "Label distribution:\n",
      "label\n",
      "BENIGN    98458\n",
      "Name: count, dtype: int64\n"
     ]
    },
    {
     "name": "stderr",
     "output_type": "stream",
     "text": [
      "Processing CSVs:  92%|█████████▏| 34/37 [1:09:20<13:35, 271.92s/it]"
     ]
    },
    {
     "name": "stdout",
     "output_type": "stream",
     "text": [
      "Finished processing wed_processed.2.csv.\n",
      "Label distribution:\n",
      "label\n",
      "DoS Hulk         35763\n",
      "DoS GoldenEye    35589\n",
      "BENIGN           27489\n",
      "DoS slowloris        9\n",
      "Name: count, dtype: int64\n"
     ]
    },
    {
     "name": "stderr",
     "output_type": "stream",
     "text": [
      "Processing CSVs:  95%|█████████▍| 35/37 [1:09:46<06:36, 198.19s/it]"
     ]
    },
    {
     "name": "stdout",
     "output_type": "stream",
     "text": [
      "Finished processing wed_processed.3.csv.\n",
      "Label distribution:\n",
      "label\n",
      "DoS GoldenEye    42393\n",
      "DoS Hulk         40288\n",
      "BENIGN           16318\n",
      "DoS slowloris        6\n",
      "Name: count, dtype: int64\n"
     ]
    },
    {
     "name": "stderr",
     "output_type": "stream",
     "text": [
      "Processing CSVs:  97%|█████████▋| 36/37 [1:16:26<04:18, 258.66s/it]"
     ]
    },
    {
     "name": "stdout",
     "output_type": "stream",
     "text": [
      "Finished processing wed_processed.1.csv.\n",
      "Label distribution:\n",
      "label\n",
      "BENIGN              70023\n",
      "DoS GoldenEye       19409\n",
      "DoS Hulk             7490\n",
      "DoS Slowhttptest       29\n",
      "Name: count, dtype: int64\n"
     ]
    },
    {
     "name": "stderr",
     "output_type": "stream",
     "text": [
      "Processing CSVs: 100%|██████████| 37/37 [1:30:37<00:00, 146.97s/it]"
     ]
    },
    {
     "name": "stdout",
     "output_type": "stream",
     "text": [
      "Finished processing wed_processed.4.csv.\n",
      "Label distribution:\n",
      "label\n",
      "BENIGN           67083\n",
      "DoS GoldenEye    15737\n",
      "DoS Hulk          6857\n",
      "DoS slowloris        1\n",
      "Name: count, dtype: int64\n"
     ]
    },
    {
     "name": "stderr",
     "output_type": "stream",
     "text": [
      "\n"
     ]
    }
   ],
   "source": [
    "import warnings\n",
    "# Suppress all warnings\n",
    "warnings.filterwarnings(\"ignore\")\n",
    "if __name__ == '__main__':\n",
    "    label_csvs(input_folder=\"/scratch/user/syedwali/Datasets/CIC_2017/processed/try/processed/\", time_ranges_df=meta_data,num_workers=8)"
   ]
  },
  {
   "cell_type": "code",
   "execution_count": 4,
   "id": "1c2aa905-3163-40be-9824-598384882731",
   "metadata": {},
   "outputs": [
    {
     "name": "stdout",
     "output_type": "stream",
     "text": [
      "completed\n"
     ]
    }
   ],
   "source": [
    "print('completed')"
   ]
  },
  {
   "cell_type": "code",
   "execution_count": 1,
   "id": "08cbb6a4-1aa6-4ee9-a1f0-bfac28b0e852",
   "metadata": {},
   "outputs": [
    {
     "name": "stderr",
     "output_type": "stream",
     "text": [
      "Processing CSV files: 100%|██████████| 64/64 [09:25<00:00,  8.84s/it]\n"
     ]
    }
   ],
   "source": [
    "import os\n",
    "import pandas as pd\n",
    "from tqdm import tqdm\n",
    "\n",
    "# Function to process all CSV files in a folder\n",
    "def process_csvs_in_folder(input_folder):\n",
    "    # Initialize an empty DataFrame to store the combined results\n",
    "    combined_df = pd.DataFrame()\n",
    "\n",
    "    # Iterate over all CSV files in the input folder with progress bar\n",
    "    csv_files = [f for f in os.listdir(input_folder) if f.endswith(\".csv\")]\n",
    "    \n",
    "    for csv_file in tqdm(csv_files, desc=\"Processing CSV files\"):\n",
    "        try:\n",
    "            # Read the CSV file\n",
    "            file_path = os.path.join(input_folder, csv_file)\n",
    "            df = pd.read_csv(file_path, low_memory=False)\n",
    "            \n",
    "            # Drop unnecessary columns\n",
    "            df.drop(['id','expiration_id','src_ip','src_mac','src_oui','src_port','dst_ip','dst_mac','dst_oui','dst_port',\n",
    "                     'protocol','ip_version','vlan_id','tunnel_id','bidirectional_first_seen_ms','bidirectional_last_seen_ms',\n",
    "                     'src2dst_first_seen_ms','src2dst_last_seen_ms','dst2src_first_seen_ms','dst2src_last_seen_ms',\n",
    "                     'application_name', 'application_category_name', 'application_is_guessed', 'application_confidence',\n",
    "                     'requested_server_name','client_fingerprint','server_fingerprint','user_agent','content_type',\n",
    "                     'udps.payload_data','udps.delta_time','udps.packet_direction','udps.ip_size','udps.transport_size',\n",
    "                     'udps.payload_size','udps.syn','udps.cwr','udps.ece','udps.urg','udps.ack','udps.psh','udps.rst',\n",
    "                     'udps.fin'], axis=1, inplace=True)\n",
    "            col_name='file'\n",
    "            if col_name in df.columns:\n",
    "                df.drop([col_name],axis=1,inplace=True)\n",
    "                \n",
    "            # Drop rows with missing values\n",
    "            df.dropna(inplace=True)\n",
    "\n",
    "            # Remove rows where the label is 'No Match'\n",
    "            df = df[df['label'] != 'No Match']\n",
    "\n",
    "            # Limit the number of instances per class label to 5000\n",
    "            df = df.groupby('label').apply(lambda x: x.head(5000)).reset_index(drop=True)\n",
    "\n",
    "            # Append the processed DataFrame to the combined DataFrame\n",
    "            combined_df = pd.concat([combined_df, df], ignore_index=True)\n",
    "        \n",
    "        except Exception as e:\n",
    "            print(f\"Failed to process {csv_file}: {e}\")\n",
    "\n",
    "    # Return the combined DataFrame\n",
    "    return combined_df\n",
    "\n",
    "# Example usage:\n",
    "input_folder = \"/scratch/user/syedwali/Datasets/CIC_2017/processed/split_files/labeled_csv\"\n",
    "df = process_csvs_in_folder(input_folder)"
   ]
  },
  {
   "cell_type": "code",
   "execution_count": 2,
   "id": "076c5ebe-e8c4-4967-9270-e4bf269e6ceb",
   "metadata": {},
   "outputs": [],
   "source": [
    "df.drop(['flowid'],axis=1,inplace=True)"
   ]
  },
  {
   "cell_type": "code",
   "execution_count": 3,
   "id": "1d99e51b-edb7-4f10-94c6-fb91807ebad8",
   "metadata": {},
   "outputs": [
    {
     "name": "stdout",
     "output_type": "stream",
     "text": [
      "bidirectional_duration_ms\n",
      "bidirectional_packets\n",
      "bidirectional_bytes\n",
      "src2dst_duration_ms\n",
      "src2dst_packets\n",
      "src2dst_bytes\n",
      "dst2src_duration_ms\n",
      "dst2src_packets\n",
      "dst2src_bytes\n",
      "bidirectional_min_ps\n",
      "bidirectional_mean_ps\n",
      "bidirectional_stddev_ps\n",
      "bidirectional_max_ps\n",
      "src2dst_min_ps\n",
      "src2dst_mean_ps\n",
      "src2dst_stddev_ps\n",
      "src2dst_max_ps\n",
      "dst2src_min_ps\n",
      "dst2src_mean_ps\n",
      "dst2src_stddev_ps\n",
      "dst2src_max_ps\n",
      "bidirectional_min_piat_ms\n",
      "bidirectional_mean_piat_ms\n",
      "bidirectional_stddev_piat_ms\n",
      "bidirectional_max_piat_ms\n",
      "src2dst_min_piat_ms\n",
      "src2dst_mean_piat_ms\n",
      "src2dst_stddev_piat_ms\n",
      "src2dst_max_piat_ms\n",
      "dst2src_min_piat_ms\n",
      "dst2src_mean_piat_ms\n",
      "dst2src_stddev_piat_ms\n",
      "dst2src_max_piat_ms\n",
      "bidirectional_syn_packets\n",
      "bidirectional_cwr_packets\n",
      "bidirectional_ece_packets\n",
      "bidirectional_urg_packets\n",
      "bidirectional_ack_packets\n",
      "bidirectional_psh_packets\n",
      "bidirectional_rst_packets\n",
      "bidirectional_fin_packets\n",
      "src2dst_syn_packets\n",
      "src2dst_cwr_packets\n",
      "src2dst_ece_packets\n",
      "src2dst_urg_packets\n",
      "src2dst_ack_packets\n",
      "src2dst_psh_packets\n",
      "src2dst_rst_packets\n",
      "src2dst_fin_packets\n",
      "dst2src_syn_packets\n",
      "dst2src_cwr_packets\n",
      "dst2src_ece_packets\n",
      "dst2src_urg_packets\n",
      "dst2src_ack_packets\n",
      "dst2src_psh_packets\n",
      "dst2src_rst_packets\n",
      "dst2src_fin_packets\n",
      "udps.srcdst_packet_size_variation\n",
      "udps.srcdst_udp_packet_count\n",
      "udps.udp_packet_count\n",
      "udps.srcdst_tcp_packet_count\n",
      "udps.tcp_packet_count\n",
      "udps.srcdst_ack_packet_count\n",
      "udps.ack_packet_count\n",
      "udps.srcdst_fin_packet_count\n",
      "udps.fin_packet_count\n",
      "udps.srcdst_rst_packet_count\n",
      "udps.rst_packet_count\n",
      "udps.srcdst_psh_packet_count\n",
      "udps.psh_packet_count\n",
      "udps.srcdst_syn_packet_count\n",
      "udps.syn_packet_count\n",
      "udps.srcdst_unique_ports_count\n",
      "udps.srcdst_icmp_packet_count\n",
      "udps.icmp_packet_count\n",
      "udps.srcdst_http_ports_count\n",
      "udps.http_ports_count\n",
      "udps.srcdst_bidirectional_duration_avg\n",
      "udps.bidirectional_duration_avg\n",
      "udps.srcdst_dns_port_count\n",
      "udps.dns_port_count\n",
      "udps.srcdst_dns_port_src_count\n",
      "udps.dns_port_src_count\n",
      "udps.srcdst_vul_ports_count\n",
      "udps.src2dst_packet_count\n",
      "udps.bidirectional_packet_count\n",
      "udps.srcdst_src2dst_packet_count\n",
      "udps.srcdst_bidirectional_packet_count\n",
      "label\n"
     ]
    }
   ],
   "source": [
    "for i in df.columns:\n",
    "    print(i)"
   ]
  },
  {
   "cell_type": "code",
   "execution_count": 4,
   "id": "3b873ef9-9d2e-41ba-b74d-cbf78eaa0522",
   "metadata": {},
   "outputs": [
    {
     "data": {
      "text/plain": [
       "label\n",
       "BENIGN                        300332\n",
       "DoS Hulk                       23971\n",
       "PortScan                       20525\n",
       "DoS GoldenEye                  20000\n",
       "DDoS                           12582\n",
       "FTP-Patator                     3974\n",
       "Web Attack  Brute Force        3084\n",
       "SSH-Patator                     2978\n",
       "Web Attack  XSS                1468\n",
       "Bot                             1228\n",
       "Infiltration                     122\n",
       "Heartbleed                        70\n",
       "DoS Slowhttptest                  29\n",
       "DoS slowloris                     20\n",
       "Web Attack  Sql Injection        15\n",
       "Name: count, dtype: int64"
      ]
     },
     "execution_count": 4,
     "metadata": {},
     "output_type": "execute_result"
    }
   ],
   "source": [
    "df['label'].value_counts()"
   ]
  },
  {
   "cell_type": "code",
   "execution_count": 5,
   "id": "df5c39c4-8651-40e0-a2f1-f1b4bf379ab8",
   "metadata": {},
   "outputs": [],
   "source": [
    "# If needed, save the combined DataFrame to a CSV\n",
    "output_file = \"/scratch/user/syedwali/Datasets/undersampled_CIC2017_dataset.csv\"\n",
    "df.to_csv(output_file, index=False)"
   ]
  },
  {
   "cell_type": "code",
   "execution_count": 1,
   "id": "a317b636-a194-4a77-9dcd-96e23e3b55e3",
   "metadata": {},
   "outputs": [],
   "source": [
    "import pandas as pd\n",
    "df=pd.read_csv(\"/scratch/user/syedwali/Datasets/undersampled_CIC2017_dataset.csv\")"
   ]
  },
  {
   "cell_type": "code",
   "execution_count": 2,
   "id": "994a24d1-c10d-41ae-8a57-6fdece8f7041",
   "metadata": {},
   "outputs": [
    {
     "name": "stdout",
     "output_type": "stream",
     "text": [
      "bidirectional_duration_ms\n",
      "bidirectional_packets\n",
      "bidirectional_bytes\n",
      "src2dst_duration_ms\n",
      "src2dst_packets\n",
      "src2dst_bytes\n",
      "dst2src_duration_ms\n",
      "dst2src_packets\n",
      "dst2src_bytes\n",
      "bidirectional_min_ps\n",
      "bidirectional_mean_ps\n",
      "bidirectional_stddev_ps\n",
      "bidirectional_max_ps\n",
      "src2dst_min_ps\n",
      "src2dst_mean_ps\n",
      "src2dst_stddev_ps\n",
      "src2dst_max_ps\n",
      "dst2src_min_ps\n",
      "dst2src_mean_ps\n",
      "dst2src_stddev_ps\n",
      "dst2src_max_ps\n",
      "bidirectional_min_piat_ms\n",
      "bidirectional_mean_piat_ms\n",
      "bidirectional_stddev_piat_ms\n",
      "bidirectional_max_piat_ms\n",
      "src2dst_min_piat_ms\n",
      "src2dst_mean_piat_ms\n",
      "src2dst_stddev_piat_ms\n",
      "src2dst_max_piat_ms\n",
      "dst2src_min_piat_ms\n",
      "dst2src_mean_piat_ms\n",
      "dst2src_stddev_piat_ms\n",
      "dst2src_max_piat_ms\n",
      "bidirectional_syn_packets\n",
      "bidirectional_cwr_packets\n",
      "bidirectional_ece_packets\n",
      "bidirectional_urg_packets\n",
      "bidirectional_ack_packets\n",
      "bidirectional_psh_packets\n",
      "bidirectional_rst_packets\n",
      "bidirectional_fin_packets\n",
      "src2dst_syn_packets\n",
      "src2dst_cwr_packets\n",
      "src2dst_ece_packets\n",
      "src2dst_urg_packets\n",
      "src2dst_ack_packets\n",
      "src2dst_psh_packets\n",
      "src2dst_rst_packets\n",
      "src2dst_fin_packets\n",
      "dst2src_syn_packets\n",
      "dst2src_cwr_packets\n",
      "dst2src_ece_packets\n",
      "dst2src_urg_packets\n",
      "dst2src_ack_packets\n",
      "dst2src_psh_packets\n",
      "dst2src_rst_packets\n",
      "dst2src_fin_packets\n",
      "udps.srcdst_packet_size_variation\n",
      "udps.srcdst_udp_packet_count\n",
      "udps.udp_packet_count\n",
      "udps.srcdst_tcp_packet_count\n",
      "udps.tcp_packet_count\n",
      "udps.srcdst_ack_packet_count\n",
      "udps.ack_packet_count\n",
      "udps.srcdst_fin_packet_count\n",
      "udps.fin_packet_count\n",
      "udps.srcdst_rst_packet_count\n",
      "udps.rst_packet_count\n",
      "udps.srcdst_psh_packet_count\n",
      "udps.psh_packet_count\n",
      "udps.srcdst_syn_packet_count\n",
      "udps.syn_packet_count\n",
      "udps.srcdst_unique_ports_count\n",
      "udps.srcdst_icmp_packet_count\n",
      "udps.icmp_packet_count\n",
      "udps.srcdst_http_ports_count\n",
      "udps.http_ports_count\n",
      "udps.srcdst_bidirectional_duration_avg\n",
      "udps.bidirectional_duration_avg\n",
      "udps.srcdst_dns_port_count\n",
      "udps.dns_port_count\n",
      "udps.srcdst_dns_port_src_count\n",
      "udps.dns_port_src_count\n",
      "udps.srcdst_vul_ports_count\n",
      "udps.src2dst_packet_count\n",
      "udps.bidirectional_packet_count\n",
      "udps.srcdst_src2dst_packet_count\n",
      "udps.srcdst_bidirectional_packet_count\n",
      "label\n"
     ]
    }
   ],
   "source": [
    "for i in df.columns:\n",
    "    print (i)\n"
   ]
  },
  {
   "cell_type": "code",
   "execution_count": 3,
   "id": "f21c649f-ffaa-4bc2-86c3-2110dc65f741",
   "metadata": {},
   "outputs": [
    {
     "name": "stdout",
     "output_type": "stream",
     "text": [
      "Accuracy: 1.00\n",
      "Classification Report:\n",
      "                            precision    recall  f1-score   support\n",
      "\n",
      "                    BENIGN       1.00      1.00      1.00     89996\n",
      "                       Bot       0.99      1.00      0.99       350\n",
      "                      DDoS       1.00      1.00      1.00      3827\n",
      "             DoS GoldenEye       0.98      0.98      0.98      6045\n",
      "                  DoS Hulk       0.99      0.98      0.98      7232\n",
      "          DoS Slowhttptest       1.00      1.00      1.00        10\n",
      "             DoS slowloris       1.00      0.09      0.17        11\n",
      "               FTP-Patator       1.00      1.00      1.00      1170\n",
      "                Heartbleed       0.93      1.00      0.96        13\n",
      "              Infiltration       1.00      0.98      0.99        45\n",
      "                  PortScan       1.00      1.00      1.00      6193\n",
      "               SSH-Patator       1.00      1.00      1.00       851\n",
      "  Web Attack  Brute Force       0.99      0.95      0.97       927\n",
      "Web Attack  Sql Injection       1.00      1.00      1.00         6\n",
      "          Web Attack  XSS       0.91      0.98      0.94       444\n",
      "\n",
      "                  accuracy                           1.00    117120\n",
      "                 macro avg       0.99      0.93      0.93    117120\n",
      "              weighted avg       1.00      1.00      1.00    117120\n",
      "\n"
     ]
    }
   ],
   "source": [
    "import pandas as pd\n",
    "from sklearn.model_selection import train_test_split\n",
    "from sklearn.ensemble import RandomForestClassifier\n",
    "from sklearn.metrics import classification_report, accuracy_score\n",
    "\n",
    "# Assuming df is already defined and has a 'label' column\n",
    "X = df.drop('label', axis=1)  # Features (drop the label column)\n",
    "y = df['label']  # Labels\n",
    "\n",
    "# Split the data (70% train, 30% test)\n",
    "X_train, X_test, y_train, y_test = train_test_split(X, y, test_size=0.3, random_state=42)\n",
    "\n",
    "# Initialize the Random Forest Classifier\n",
    "clf = RandomForestClassifier(n_estimators=100, random_state=42,n_jobs=-1)\n",
    "\n",
    "# Train the classifier\n",
    "clf.fit(X_train, y_train)\n",
    "\n",
    "# Predict on the test set\n",
    "y_pred = clf.predict(X_test)\n",
    "\n",
    "# Evaluate the model\n",
    "accuracy = accuracy_score(y_test, y_pred)\n",
    "report = classification_report(y_test, y_pred)\n",
    "\n",
    "print(f'Accuracy: {accuracy:.2f}')\n",
    "print('Classification Report:')\n",
    "print(report)"
   ]
  },
  {
   "cell_type": "code",
   "execution_count": 4,
   "id": "c764acc2-d0d4-4046-ac35-8100a2a15a1f",
   "metadata": {},
   "outputs": [],
   "source": [
    "df.drop(['udps.srcdst_packet_size_variation','udps.srcdst_udp_packet_count','udps.udp_packet_count',\n",
    "'udps.srcdst_tcp_packet_count','udps.tcp_packet_count','udps.srcdst_ack_packet_count',\n",
    "'udps.ack_packet_count','udps.srcdst_fin_packet_count','udps.fin_packet_count',\n",
    "'udps.srcdst_rst_packet_count','udps.rst_packet_count','udps.srcdst_psh_packet_count',\n",
    "'udps.psh_packet_count','udps.srcdst_syn_packet_count','udps.syn_packet_count','udps.srcdst_unique_ports_count',\n",
    "'udps.srcdst_icmp_packet_count','udps.icmp_packet_count','udps.srcdst_http_ports_count','udps.http_ports_count',\n",
    "'udps.srcdst_bidirectional_duration_avg','udps.bidirectional_duration_avg','udps.srcdst_dns_port_count',\n",
    "'udps.dns_port_count','udps.srcdst_dns_port_src_count','udps.dns_port_src_count','udps.srcdst_vul_ports_count',\n",
    "'udps.src2dst_packet_count','udps.bidirectional_packet_count','udps.srcdst_src2dst_packet_count',\n",
    "'udps.srcdst_bidirectional_packet_count'],axis=1,inplace=True)"
   ]
  },
  {
   "cell_type": "code",
   "execution_count": 5,
   "id": "1407ab17-0f98-4fd4-b48a-3b1f8f3c6cad",
   "metadata": {},
   "outputs": [
    {
     "name": "stderr",
     "output_type": "stream",
     "text": [
      "/scratch/user/syedwali/Python_env/Processing/lib/python3.8/site-packages/sklearn/metrics/_classification.py:1471: UndefinedMetricWarning: Precision and F-score are ill-defined and being set to 0.0 in labels with no predicted samples. Use `zero_division` parameter to control this behavior.\n",
      "  _warn_prf(average, modifier, msg_start, len(result))\n",
      "/scratch/user/syedwali/Python_env/Processing/lib/python3.8/site-packages/sklearn/metrics/_classification.py:1471: UndefinedMetricWarning: Precision and F-score are ill-defined and being set to 0.0 in labels with no predicted samples. Use `zero_division` parameter to control this behavior.\n",
      "  _warn_prf(average, modifier, msg_start, len(result))\n"
     ]
    },
    {
     "name": "stdout",
     "output_type": "stream",
     "text": [
      "Accuracy: 0.96\n",
      "Classification Report:\n",
      "                            precision    recall  f1-score   support\n",
      "\n",
      "                    BENIGN       1.00      1.00      1.00     29975\n",
      "                       Bot       0.88      0.96      0.91       118\n",
      "                      DDoS       1.00      1.00      1.00      1271\n",
      "             DoS GoldenEye       0.69      0.60      0.64      2016\n",
      "                  DoS Hulk       0.69      0.77      0.73      2419\n",
      "          DoS Slowhttptest       1.00      1.00      1.00         2\n",
      "             DoS slowloris       0.00      0.00      0.00         5\n",
      "               FTP-Patator       1.00      1.00      1.00       403\n",
      "                Heartbleed       1.00      0.80      0.89         5\n",
      "              Infiltration       1.00      0.89      0.94         9\n",
      "                  PortScan       1.00      1.00      1.00      2060\n",
      "               SSH-Patator       1.00      1.00      1.00       294\n",
      "  Web Attack  Brute Force       0.70      0.99      0.82       299\n",
      "Web Attack  Sql Injection       1.00      0.67      0.80         3\n",
      "          Web Attack  XSS       1.00      0.20      0.34       161\n",
      "\n",
      "                  accuracy                           0.96     39040\n",
      "                 macro avg       0.86      0.79      0.80     39040\n",
      "              weighted avg       0.96      0.96      0.96     39040\n",
      "\n"
     ]
    },
    {
     "name": "stderr",
     "output_type": "stream",
     "text": [
      "/scratch/user/syedwali/Python_env/Processing/lib/python3.8/site-packages/sklearn/metrics/_classification.py:1471: UndefinedMetricWarning: Precision and F-score are ill-defined and being set to 0.0 in labels with no predicted samples. Use `zero_division` parameter to control this behavior.\n",
      "  _warn_prf(average, modifier, msg_start, len(result))\n"
     ]
    }
   ],
   "source": [
    "import pandas as pd\n",
    "from sklearn.model_selection import train_test_split\n",
    "from sklearn.ensemble import RandomForestClassifier\n",
    "from sklearn.metrics import classification_report, accuracy_score\n",
    "\n",
    "# Assuming df is already defined and has a 'label' column\n",
    "X = df.drop('label', axis=1)  # Features (drop the label column)\n",
    "y = df['label']  # Labels\n",
    "\n",
    "# Split the data (70% train, 30% test)\n",
    "X_train, X_test, y_train, y_test = train_test_split(X, y, test_size=0.10, random_state=42)\n",
    "\n",
    "# Initialize the Random Forest Classifier\n",
    "clf = RandomForestClassifier(n_estimators=100, random_state=42,n_jobs=-1)\n",
    "\n",
    "# Train the classifier\n",
    "clf.fit(X_train, y_train)\n",
    "\n",
    "# Predict on the test set\n",
    "y_pred = clf.predict(X_test)\n",
    "\n",
    "# Evaluate the model\n",
    "accuracy = accuracy_score(y_test, y_pred)\n",
    "report = classification_report(y_test, y_pred)\n",
    "\n",
    "print(f'Accuracy: {accuracy:.2f}')\n",
    "print('Classification Report:')\n",
    "print(report)"
   ]
  },
  {
   "cell_type": "code",
   "execution_count": null,
   "id": "b36524c2-dfee-438a-a5ee-34d12f4c91e7",
   "metadata": {},
   "outputs": [],
   "source": []
  },
  {
   "cell_type": "code",
   "execution_count": null,
   "id": "3b89ecb5-e616-4572-8985-898943c75934",
   "metadata": {},
   "outputs": [],
   "source": []
  },
  {
   "cell_type": "code",
   "execution_count": null,
   "id": "368f2074-5cbd-4202-8b84-35fca0aa286e",
   "metadata": {},
   "outputs": [],
   "source": []
  },
  {
   "cell_type": "code",
   "execution_count": null,
   "id": "d92cf5c4-35b7-48b4-9aee-fdcb9eed01da",
   "metadata": {},
   "outputs": [],
   "source": []
  },
  {
   "cell_type": "code",
   "execution_count": null,
   "id": "24594596-34e9-40eb-8af3-303e4d0f0803",
   "metadata": {},
   "outputs": [],
   "source": []
  },
  {
   "cell_type": "code",
   "execution_count": null,
   "id": "45c40a06-773f-423d-b776-3d93bfe3a2fa",
   "metadata": {},
   "outputs": [],
   "source": []
  },
  {
   "cell_type": "code",
   "execution_count": null,
   "id": "69e87c8e-788d-4940-a474-d71efbea4724",
   "metadata": {},
   "outputs": [],
   "source": []
  },
  {
   "cell_type": "code",
   "execution_count": null,
   "id": "7e9695fa-7da4-4991-a287-619cc8e9985d",
   "metadata": {},
   "outputs": [],
   "source": []
  },
  {
   "cell_type": "code",
   "execution_count": null,
   "id": "9de7281a-1ca8-4160-9ecb-3f6ee10af470",
   "metadata": {},
   "outputs": [
    {
     "name": "stdout",
     "output_type": "stream",
     "text": [
      "Reading: /scratch/user/syedwali/Datasets/CIC_2017/provided_CSVs/Wednesday-workingHours.pcap_ISCX.csv\n"
     ]
    }
   ],
   "source": [
    "process_csv('wed_processed.2.csv', \"/scratch/user/syedwali/Datasets/CIC_2017/processed/try/processed/\", \n",
    "            \"/scratch/user/syedwali/Datasets/CIC_2017/processed/try/processed/labeled_csv\", time_ranges_df=meta_data, timezone='Canada/Atlantic')"
   ]
  },
  {
   "cell_type": "code",
   "execution_count": 22,
   "id": "7c9fe4e3-c7d6-48b5-9a3f-5009c9c064f1",
   "metadata": {},
   "outputs": [],
   "source": [
    "def prepare_unlabeled_csv_flowid(csv_address):\n",
    "    column_name = 'udps.payload_data'\n",
    "    length_limit = 97404490 \n",
    "    \n",
    "    df1=pd.read_csv(csv_address,low_memory=False)\n",
    "    if column_name in df1.columns:\n",
    "        # Ensure the column is of type string before truncating\n",
    "        df1[column_name] = df1[column_name].astype(str)      \n",
    "        # Apply truncation to each value in the column\n",
    "        df1[column_name] = df1[column_name].apply(lambda x: x[:length_limit] if len(x) > length_limit else x)\n",
    "    df1['flowid']=df1['src_ip'].astype(str)+'-'+df1['dst_ip'].astype(str)#+'-'+df1['src_port'].astype(str)+'-'+df1['dst_port'].astype(str)\n",
    "    return df1"
   ]
  },
  {
   "cell_type": "code",
   "execution_count": 23,
   "id": "6b4d7f8a-0f7e-4abc-a50f-180ba73446fa",
   "metadata": {},
   "outputs": [],
   "source": [
    "def prepare_labeled_csv_flowid(df2):\n",
    "    #df2=pd.read_csv(csv_address,low_memory=False)\n",
    "    df2.columns=df2.columns.str.replace(' ','')\n",
    "    df2.columns=df2.columns.str.lower()\n",
    "    \n",
    "    # Automatically extract column names for source IP, destination IP, source port, and destination port\n",
    "    src_ip = df2.columns[df2.columns.str.contains(r'(src|source).*ip', case=False, regex=True)].tolist()[0]\n",
    "    dst_ip = df2.columns[df2.columns.str.contains(r'(dst|destination).*ip', case=False, regex=True)].tolist()[0]\n",
    "    src_port = df2.columns[df2.columns.str.contains(r'(src|source).*port', case=False, regex=True)].tolist()[0]\n",
    "    dst_port = df2.columns[df2.columns.str.contains(r'(dst|destination).*port', case=False, regex=True)].tolist()[0]\n",
    "    df2 = df2.dropna(subset=[dst_port,src_port])\n",
    "    df2[dst_port]=df2[dst_port].astype(int)\n",
    "    df2[src_port]=df2[src_port].astype(int)\n",
    "    df2['flowid']=df2[src_ip].astype(str)+'-'+df2[dst_ip].astype(str)#+'-'+df2[src_port].astype(str)+'-'+df2[dst_port].astype(str)\n",
    "    return df2"
   ]
  },
  {
   "cell_type": "code",
   "execution_count": 24,
   "id": "ffbdfae8-ed7c-428b-b162-7bd72f71d1dc",
   "metadata": {},
   "outputs": [],
   "source": [
    "import pandas as pd\n",
    "df1 = prepare_unlabeled_csv_flowid(\"/scratch/user/syedwali/Datasets/CIC_2017/processed/try/processed/wed_processed.2.csv\")"
   ]
  },
  {
   "cell_type": "code",
   "execution_count": 25,
   "id": "04db9a8a-2f73-48f5-bf8e-ec8713599cee",
   "metadata": {},
   "outputs": [],
   "source": [
    "df2=pd.read_csv('/scratch/user/syedwali/Datasets/CIC_2017/provided_CSVs/Wednesday-workingHours.pcap_ISCX.csv')"
   ]
  },
  {
   "cell_type": "code",
   "execution_count": 26,
   "id": "63d3ddd6-3330-4542-b7c9-8b64aad02050",
   "metadata": {},
   "outputs": [],
   "source": [
    "def remove_strings_from_columns(df, col_names):\n",
    "    \"\"\"\n",
    "    Removes rows with string (non-numeric) values in the specified columns.\n",
    "    \n",
    "    Parameters:\n",
    "    df (pd.DataFrame): The DataFrame to process.\n",
    "    col_names (list): List of column names to check for non-numeric values.\n",
    "    \n",
    "    Returns:\n",
    "    pd.DataFrame: DataFrame with rows containing non-numeric values in the specified columns removed.\n",
    "    \"\"\"\n",
    "    \n",
    "    for col in col_names:\n",
    "        # Convert the column to numeric, setting non-numeric values to NaN\n",
    "        df[col] = pd.to_numeric(df[col], errors='coerce')\n",
    "        \n",
    "        # Display rows with NaN values (which were originally strings or non-numeric)\n",
    "        invalid_rows = df[df[col].isna()]\n",
    "        #if not invalid_rows.empty:\n",
    "        #    print(f\"Rows with invalid (non-numeric) values in column '{col}':\")\n",
    "        #    print(invalid_rows)\n",
    "        \n",
    "        # Drop rows where the column has NaN values\n",
    "        df = df.dropna(subset=[col])\n",
    "        \n",
    "        # Optionally, convert back to integer or float if necessary\n",
    "        df[col] = df[col].astype('int64')  # You can change to 'float64' if needed\n",
    "    \n",
    "    return df\n"
   ]
  },
  {
   "cell_type": "code",
   "execution_count": 27,
   "id": "e547cfd8-a71b-47fe-a8fd-dbf9ba737226",
   "metadata": {},
   "outputs": [],
   "source": [
    "columns_to_check = ['bidirectional_first_seen_ms','src_port','dst_port']\n",
    "\n",
    "        # Call the function to remove strings and invalid entries from specified columns\n",
    "df1 = remove_strings_from_columns(df1, columns_to_check)"
   ]
  },
  {
   "cell_type": "code",
   "execution_count": 28,
   "id": "8c4a1b09-6991-4b6a-8bda-1443f6b0278f",
   "metadata": {},
   "outputs": [
    {
     "name": "stderr",
     "output_type": "stream",
     "text": [
      "/tmp/job.11486895/ipykernel_133307/21712520.py:7: UserWarning: This pattern is interpreted as a regular expression, and has match groups. To actually get the groups, use str.extract.\n",
      "  src_ip = df2.columns[df2.columns.str.contains(r'(src|source).*ip', case=False, regex=True)].tolist()[0]\n",
      "/tmp/job.11486895/ipykernel_133307/21712520.py:8: UserWarning: This pattern is interpreted as a regular expression, and has match groups. To actually get the groups, use str.extract.\n",
      "  dst_ip = df2.columns[df2.columns.str.contains(r'(dst|destination).*ip', case=False, regex=True)].tolist()[0]\n",
      "/tmp/job.11486895/ipykernel_133307/21712520.py:9: UserWarning: This pattern is interpreted as a regular expression, and has match groups. To actually get the groups, use str.extract.\n",
      "  src_port = df2.columns[df2.columns.str.contains(r'(src|source).*port', case=False, regex=True)].tolist()[0]\n",
      "/tmp/job.11486895/ipykernel_133307/21712520.py:10: UserWarning: This pattern is interpreted as a regular expression, and has match groups. To actually get the groups, use str.extract.\n",
      "  dst_port = df2.columns[df2.columns.str.contains(r'(dst|destination).*port', case=False, regex=True)].tolist()[0]\n"
     ]
    }
   ],
   "source": [
    "df2 = prepare_labeled_csv_flowid(df2)"
   ]
  },
  {
   "cell_type": "code",
   "execution_count": 29,
   "id": "0bac0806-d5b4-4005-8a78-759b0d648280",
   "metadata": {},
   "outputs": [],
   "source": [
    "def filter_matching_flowid(df1, df2, column_name='flowid'):\n",
    "    if column_name not in df1.columns or column_name not in df2.columns:\n",
    "        raise ValueError(f\"Column '{column_name}' not found in both DataFrames\")\n",
    "    \n",
    "    common_flowids = pd.merge(df1[[column_name]], df2[[column_name]], on=column_name, how='inner')[column_name]\n",
    "    \n",
    "    df1_filtered = df1[df1[column_name].isin(common_flowids)].copy()\n",
    "    #\n",
    "    #df1[df1[column_name].isin(df2[column_name])]\n",
    "    df2_filtered = df2[df2[column_name].isin(common_flowids)].copy()\n",
    "    ##\n",
    "    #df2[df2[column_name].isin(df1[column_name])]\n",
    "    #print(df2_filtered[df2_filtered['attack_cat']=='Worms'])\n",
    "    return df1_filtered, df2_filtered"
   ]
  },
  {
   "cell_type": "code",
   "execution_count": null,
   "id": "83a728f5-93f9-4bf8-81b9-a0f706b5ee62",
   "metadata": {},
   "outputs": [],
   "source": [
    "df1_filtered, df2_filtered = filter_matching_flowid(df1, df2)"
   ]
  },
  {
   "cell_type": "code",
   "execution_count": 14,
   "id": "c1af7c01-874c-4c74-9f19-05f2638910af",
   "metadata": {},
   "outputs": [
    {
     "data": {
      "text/plain": [
       "array([54447, 53239, 65376, ..., 63011, 16653, 48461])"
      ]
     },
     "execution_count": 14,
     "metadata": {},
     "output_type": "execute_result"
    }
   ],
   "source": [
    "df1_filtered['src_port'].unique()"
   ]
  },
  {
   "cell_type": "code",
   "execution_count": 17,
   "id": "b9db4043-145c-4289-ab03-304c0a9e4bc4",
   "metadata": {},
   "outputs": [
    {
     "data": {
      "text/plain": [
       "array([  123,   138,   137, ..., 63011, 30712, 22387])"
      ]
     },
     "execution_count": 17,
     "metadata": {},
     "output_type": "execute_result"
    }
   ],
   "source": [
    "df2_filtered['sourceport'].unique()"
   ]
  },
  {
   "cell_type": "code",
   "execution_count": null,
   "id": "d6ba2a8d-372d-4b5b-9cb3-3fc2595468bb",
   "metadata": {},
   "outputs": [],
   "source": []
  }
 ],
 "metadata": {
  "kernelspec": {
   "display_name": "Python 3 (ipykernel)",
   "language": "python",
   "name": "python3"
  },
  "language_info": {
   "codemirror_mode": {
    "name": "ipython",
    "version": 3
   },
   "file_extension": ".py",
   "mimetype": "text/x-python",
   "name": "python",
   "nbconvert_exporter": "python",
   "pygments_lexer": "ipython3",
   "version": "3.8.6"
  }
 },
 "nbformat": 4,
 "nbformat_minor": 5
}
