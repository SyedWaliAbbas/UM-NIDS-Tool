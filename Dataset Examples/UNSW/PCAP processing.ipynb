{
 "cells": [
  {
   "cell_type": "code",
   "execution_count": 1,
   "id": "bc6e6002-f4c3-4195-b8fe-72be6b1f668b",
   "metadata": {},
   "outputs": [],
   "source": [
    "from label.parallel_label import *"
   ]
  },
  {
   "cell_type": "code",
   "execution_count": 2,
   "id": "6bd0777d-ea94-4710-82b2-97d111c4e692",
   "metadata": {},
   "outputs": [],
   "source": [
    "column_names=['src_ip','src_port','dst_ip','dst_port','proto','state','duration','sbytes','dbytes',\n",
    "'sttl','dttl','sloss','dloss','service','Sload','Dload','Spkts','Dpkts','swin','dwin','stcpb','dtcpb',\n",
    "'smeansz','dmeansz','trans_depth','res_bdy_len','Sjit','Djit','timestamp','Ltime','Sintpkt','Dintpkt',\n",
    "'tcprtt','synack','ackdat','is_sm_ips_ports','ct_state_ttl','ct_flw_http_mthd','is_ftp_login',\n",
    "'ct_ftp_cmd','ct_srv_src','ct_srv_dst','ct_dst_ltm','ct_src_ ltm','ct_src_dport_ltm',\n",
    "'ct_dst_sport_ltm','ct_dst_src_ltm','attack_cat','Label']"
   ]
  },
  {
   "cell_type": "markdown",
   "id": "54282339-16de-4d92-899a-f6dca5162b93",
   "metadata": {},
   "source": [
    "### Preparing provided csvs"
   ]
  },
  {
   "cell_type": "markdown",
   "id": "863af066-1c68-4db9-af58-08faae2620a1",
   "metadata": {},
   "source": [
    "Add column names to the csv of unsw. "
   ]
  },
  {
   "cell_type": "code",
   "execution_count": 4,
   "id": "b4cbfdb4-eef5-4e7c-9325-cb040f65ebdb",
   "metadata": {},
   "outputs": [
    {
     "name": "stderr",
     "output_type": "stream",
     "text": [
      "/tmp/job.11310885/ipykernel_63165/1816870050.py:15: DtypeWarning: Columns (1,3,47) have mixed types. Specify dtype option on import or set low_memory=False.\n",
      "  df = pd.read_csv(file_path, header=None)  # Use header=None if there are no existing headers\n"
     ]
    },
    {
     "name": "stdout",
     "output_type": "stream",
     "text": [
      "Processed /scratch/user/syedwali/Datasets/UNSW/provided_CSVs/UNSW-NB15_1.csv: Column names updated.\n",
      "Processed /scratch/user/syedwali/Datasets/UNSW/provided_CSVs/UNSW-NB15_3.csv: Column names updated.\n"
     ]
    },
    {
     "name": "stderr",
     "output_type": "stream",
     "text": [
      "/tmp/job.11310885/ipykernel_63165/1816870050.py:15: DtypeWarning: Columns (3,39,47) have mixed types. Specify dtype option on import or set low_memory=False.\n",
      "  df = pd.read_csv(file_path, header=None)  # Use header=None if there are no existing headers\n"
     ]
    },
    {
     "name": "stdout",
     "output_type": "stream",
     "text": [
      "Processed /scratch/user/syedwali/Datasets/UNSW/provided_CSVs/UNSW-NB15_2.csv: Column names updated.\n",
      "Processed /scratch/user/syedwali/Datasets/UNSW/provided_CSVs/UNSW-NB15_4.csv: Column names updated.\n"
     ]
    }
   ],
   "source": [
    "import os\n",
    "import pandas as pd\n",
    "\n",
    "def process_and_rename_columns(folder_path, new_column_names):\n",
    "    # Ensure the column names list is not empty\n",
    "    if not new_column_names:\n",
    "        raise ValueError(\"New column names list cannot be empty.\")\n",
    "\n",
    "    # Iterate over all files in the specified folder\n",
    "    for filename in os.listdir(folder_path):\n",
    "        if filename.endswith(\".csv\"):\n",
    "            file_path = os.path.join(folder_path, filename)\n",
    "            try:\n",
    "                # Read the CSV file into a DataFrame\n",
    "                df = pd.read_csv(file_path, header=None)  # Use header=None if there are no existing headers\n",
    "\n",
    "                # Check if the number of new column names matches the number of columns in the CSV\n",
    "                if len(new_column_names) != len(df.columns):\n",
    "                    print(f\"Skipping {file_path}: Number of new column names does not match number of columns.\")\n",
    "                    continue\n",
    "\n",
    "                # Set the new column names\n",
    "                df.columns = new_column_names\n",
    "\n",
    "                # Save the DataFrame back to the same CSV file\n",
    "                df.to_csv(file_path, index=False)  # Set index=False to avoid writing row numbers\n",
    "\n",
    "                print(f\"Processed {file_path}: Column names updated.\")\n",
    "\n",
    "            except Exception as e:\n",
    "                print(f\"Failed to process {file_path}: {e}\")\n",
    "\n",
    "folder_path = \"/scratch/user/syedwali/Datasets/UNSW/provided_CSVs\"  # Replace with the path to your folder\n",
    "process_and_rename_columns(folder_path, column_names)\n"
   ]
  },
  {
   "cell_type": "markdown",
   "id": "ac63bae9-fe8e-4c91-ad2e-c68c21e40827",
   "metadata": {},
   "source": [
    "Adding the attack_category column with 'Benign' for entries where it was empty and the label was 0"
   ]
  },
  {
   "cell_type": "code",
   "execution_count": 22,
   "id": "cd98b14e-1b40-4651-a0d5-0a1458fbf809",
   "metadata": {
    "scrolled": true
   },
   "outputs": [
    {
     "name": "stdout",
     "output_type": "stream",
     "text": [
      "File: /scratch/user/syedwali/Datasets/UNSW/provided_CSVs/UNSW-NB15_1.csv\n",
      "attack_cat\n",
      "Benign            677786\n",
      "Generic             7522\n",
      "Exploits            5409\n",
      " Fuzzers            5051\n",
      "Reconnaissance      1759\n",
      "DoS                 1167\n",
      "Backdoors            534\n",
      "Analysis             526\n",
      "Shellcode            223\n",
      "Worms                 24\n",
      "Name: count, dtype: int64\n",
      "Processed and updated /scratch/user/syedwali/Datasets/UNSW/provided_CSVs/UNSW-NB15_1.csv\n",
      "File: /scratch/user/syedwali/Datasets/UNSW/provided_CSVs/UNSW-NB15_3.csv\n",
      "attack_cat\n",
      "Benign              542576\n",
      "Generic             118198\n",
      "Exploits             16574\n",
      " Fuzzers              9137\n",
      "DoS                   5642\n",
      " Reconnaissance       5582\n",
      "Analysis               873\n",
      "Backdoor               759\n",
      " Shellcode             593\n",
      "Worms                   67\n",
      "Name: count, dtype: int64\n",
      "Processed and updated /scratch/user/syedwali/Datasets/UNSW/provided_CSVs/UNSW-NB15_3.csv\n",
      "File: /scratch/user/syedwali/Datasets/UNSW/provided_CSVs/UNSW-NB15_2.csv\n",
      "attack_cat\n",
      "Benign              647252\n",
      "Generic              27883\n",
      "Exploits             11103\n",
      " Fuzzers              4668\n",
      "DoS                   4637\n",
      " Reconnaissance       3116\n",
      "Analysis               608\n",
      "Backdoor               370\n",
      " Shellcode             324\n",
      "Worms                   40\n",
      "Name: count, dtype: int64\n",
      "Processed and updated /scratch/user/syedwali/Datasets/UNSW/provided_CSVs/UNSW-NB15_2.csv\n",
      "File: /scratch/user/syedwali/Datasets/UNSW/provided_CSVs/UNSW-NB15_4.csv\n",
      "attack_cat\n",
      "Benign              351150\n",
      "Generic              61878\n",
      "Exploits             11439\n",
      " Fuzzers              5390\n",
      "DoS                   4907\n",
      " Reconnaissance       3530\n",
      "Analysis               670\n",
      "Backdoor               666\n",
      " Shellcode             371\n",
      "Worms                   43\n",
      "Name: count, dtype: int64\n",
      "Processed and updated /scratch/user/syedwali/Datasets/UNSW/provided_CSVs/UNSW-NB15_4.csv\n"
     ]
    }
   ],
   "source": [
    "import os\n",
    "import pandas as pd\n",
    "\n",
    "def process_and_update_csvs(folder_path):\n",
    "    # Iterate over all files in the specified folder\n",
    "    for filename in os.listdir(folder_path):\n",
    "        if filename.endswith(\".csv\"):\n",
    "            file_path = os.path.join(folder_path, filename)\n",
    "            try:\n",
    "                # Read the CSV file into a DataFrame\n",
    "                df = pd.read_csv(file_path, low_memory=False)\n",
    "                \n",
    "                # Check if 'attack_cat' column exists\n",
    "                if 'attack_cat' in df.columns:\n",
    "                    # Fill empty strings and NaN values in 'attack_cat' with 'Benign'\n",
    "                    df['attack_cat'].replace('', 'Benign', inplace=True)  # Replace empty strings\n",
    "                    df['attack_cat'].fillna('Benign', inplace=True)      # Replace NaN values\n",
    "\n",
    "                    # Show value counts for 'attack_cat'\n",
    "                    print(f\"File: {file_path}\")\n",
    "                    print(df['attack_cat'].value_counts())\n",
    "\n",
    "                    # Save the DataFrame back to the same CSV file\n",
    "                    df.to_csv(file_path, index=False)  # Set index=False to avoid writing row numbers\n",
    "\n",
    "                    print(f\"Processed and updated {file_path}\")\n",
    "\n",
    "                else:\n",
    "                    print(f\"Skipping {file_path}: 'attack_cat' column not found.\")\n",
    "\n",
    "            except Exception as e:\n",
    "                print(f\"Failed to process {file_path}: {e}\")\n",
    "\n",
    "# Example usage\n",
    "folder_path = \"/scratch/user/syedwali/Datasets/UNSW/provided_CSVs\"  # Replace with the path to your folder\n",
    "process_and_update_csvs(folder_path)\n"
   ]
  },
  {
   "cell_type": "markdown",
   "id": "7ece251e-0351-4047-a933-682812f8768e",
   "metadata": {},
   "source": [
    "### Extracting meta data from provided csvs (labeled csv)"
   ]
  },
  {
   "cell_type": "code",
   "execution_count": 5,
   "id": "a05bb44b-d79e-4664-b428-c8822944942c",
   "metadata": {
    "scrolled": true
   },
   "outputs": [
    {
     "name": "stderr",
     "output_type": "stream",
     "text": [
      "INFO:label.parallel_label:Processed /scratch/user/syedwali/Datasets/UNSW/provided_CSVs/UNSW-NB15_4.csv: Min timestamp = 1424249984000, Max timestamp = 1424262068000\n",
      "INFO:label.parallel_label:Processed /scratch/user/syedwali/Datasets/UNSW/provided_CSVs/UNSW-NB15_3.csv: Min timestamp = 1424231099000, Max timestamp = 1424250009000\n",
      "INFO:label.parallel_label:Processed /scratch/user/syedwali/Datasets/UNSW/provided_CSVs/UNSW-NB15_1.csv: Min timestamp = 1421927377000, Max timestamp = 1421955842000\n",
      "INFO:label.parallel_label:Processed /scratch/user/syedwali/Datasets/UNSW/provided_CSVs/UNSW-NB15_2.csv: Min timestamp = 1421955795000, Max timestamp = 1424231129000\n"
     ]
    },
    {
     "name": "stdout",
     "output_type": "stream",
     "text": [
      "                                           file_path  min_timestamp  \\\n",
      "0  /scratch/user/syedwali/Datasets/UNSW/provided_...  1421927377000   \n",
      "1  /scratch/user/syedwali/Datasets/UNSW/provided_...  1424231099000   \n",
      "2  /scratch/user/syedwali/Datasets/UNSW/provided_...  1421955795000   \n",
      "3  /scratch/user/syedwali/Datasets/UNSW/provided_...  1424249984000   \n",
      "\n",
      "   max_timestamp  \n",
      "0  1421955842000  \n",
      "1  1424250009000  \n",
      "2  1424231129000  \n",
      "3  1424262068000  \n"
     ]
    }
   ],
   "source": [
    "if __name__ == '__main__':\n",
    "    #set_start_method(\"fork\")  # or \"spawn\" depending on your system\n",
    "\n",
    "    # Example usage:\n",
    "    folders = [\"/scratch/user/syedwali/Datasets/UNSW/provided_CSVs\"]\n",
    "\n",
    "    # Step 1: Extract time ranges from CSV files in all folders using multiple cores\n",
    "    meta_data = extract_time_ranges_from_csvs(folders, timestamp_column='timestamp', timezone='None', batch_size=5)\n",
    "\n",
    "    # Print resulting metadata\n",
    "    print(meta_data)"
   ]
  },
  {
   "cell_type": "markdown",
   "id": "3282c7f8-bf28-40f3-b2c6-aabc02a9fc4a",
   "metadata": {},
   "source": [
    "### Labeling"
   ]
  },
  {
   "cell_type": "markdown",
   "id": "8dbd014e-e122-4be7-bb56-a2383ae710ce",
   "metadata": {},
   "source": [
    "We are now labeling our processed CSV files using the labeled CSVs from UNSW. Since UNSW uses Unix timestamps, we are setting the timezone to None. Additionally, Unix timestamps have second-level precision, which we are considering. In the UNSW dataset, the labels are in the column named attack_cat, which we have also defined as function attributes."
   ]
  },
  {
   "cell_type": "code",
   "execution_count": 26,
   "id": "2faaa577-c0ff-4b77-9bbf-ff03528f8b6e",
   "metadata": {
    "scrolled": true
   },
   "outputs": [
    {
     "name": "stderr",
     "output_type": "stream",
     "text": [
      "Processing CSVs:   0%|          | 0/79 [00:00<?, ?it/s]"
     ]
    },
    {
     "name": "stdout",
     "output_type": "stream",
     "text": [
      "Reading: /scratch/user/syedwali/Datasets/UNSW/provided_CSVs/UNSW-NB15_1.csv\n",
      "Reading: /scratch/user/syedwali/Datasets/UNSW/provided_CSVs/UNSW-NB15_1.csv\n",
      "Reading: /scratch/user/syedwali/Datasets/UNSW/provided_CSVs/UNSW-NB15_1.csv\n",
      "Reading: /scratch/user/syedwali/Datasets/UNSW/provided_CSVs/UNSW-NB15_3.csv\n"
     ]
    },
    {
     "name": "stderr",
     "output_type": "stream",
     "text": [
      "Processing CSVs:   1%|▏         | 1/79 [01:15<1:37:50, 75.27s/it]"
     ]
    },
    {
     "name": "stdout",
     "output_type": "stream",
     "text": [
      "Finished processing 11_1000000075_20240905-205247_processed.csv.\n",
      "Label distribution:\n",
      "label\n",
      "Benign      17987\n",
      "No Match       14\n",
      "Name: count, dtype: int64\n",
      "Finished processing 14_1028986624_20240905-211644_processed.csv.\n",
      "Label distribution:\n",
      "label\n",
      "Benign      18339\n",
      "No Match      141\n",
      "Name: count, dtype: int64\n"
     ]
    },
    {
     "name": "stderr",
     "output_type": "stream",
     "text": [
      "Processing CSVs:   4%|▍         | 3/79 [01:17<25:39, 20.26s/it]  "
     ]
    },
    {
     "name": "stdout",
     "output_type": "stream",
     "text": [
      "Finished processing 3_1000000694_20240905-205641_processed.csv.\n",
      "Label distribution:\n",
      "label\n",
      "Benign            17610\n",
      " Fuzzers            668\n",
      "Exploits             96\n",
      "Reconnaissance       13\n",
      "No Match             10\n",
      "Name: count, dtype: int64\n",
      "Reading: /scratch/user/syedwali/Datasets/UNSW/provided_CSVs/UNSW-NB15_2.csv\n",
      "Reading: /scratch/user/syedwali/Datasets/UNSW/provided_CSVs/UNSW-NB15_1.csv\n",
      "Reading: /scratch/user/syedwali/Datasets/UNSW/provided_CSVs/UNSW-NB15_3.csv\n",
      "Reading: /scratch/user/syedwali/Datasets/UNSW/provided_CSVs/UNSW-NB15_2.csv\n"
     ]
    },
    {
     "name": "stderr",
     "output_type": "stream",
     "text": [
      "Processing CSVs:   5%|▌         | 4/79 [02:35<50:14, 40.19s/it]"
     ]
    },
    {
     "name": "stdout",
     "output_type": "stream",
     "text": [
      "Finished processing 31_processed.csv.\n",
      "Label distribution:\n",
      "label\n",
      "Benign      24320\n",
      "No Match        3\n",
      "Name: count, dtype: int64\n"
     ]
    },
    {
     "name": "stderr",
     "output_type": "stream",
     "text": [
      "Processing CSVs:   6%|▋         | 5/79 [02:36<33:44, 27.36s/it]"
     ]
    },
    {
     "name": "stdout",
     "output_type": "stream",
     "text": [
      "Finished processing 41_processed.csv.\n",
      "Label distribution:\n",
      "label\n",
      "Benign      26765\n",
      "No Match      589\n",
      "Name: count, dtype: int64\n",
      "Reading: /scratch/user/syedwali/Datasets/UNSW/provided_CSVs/UNSW-NB15_1.csv\n",
      "Reading: /scratch/user/syedwali/Datasets/UNSW/provided_CSVs/UNSW-NB15_2.csv\n",
      "Reading: /scratch/user/syedwali/Datasets/UNSW/provided_CSVs/UNSW-NB15_2.csv\n"
     ]
    },
    {
     "name": "stderr",
     "output_type": "stream",
     "text": [
      "Processing CSVs:   8%|▊         | 6/79 [03:17<38:34, 31.70s/it]"
     ]
    },
    {
     "name": "stdout",
     "output_type": "stream",
     "text": [
      "Finished processing 11_processed.csv.\n",
      "Label distribution:\n",
      "label\n",
      "Benign       34296\n",
      "Exploits      1603\n",
      "DoS           1430\n",
      " Fuzzers      1390\n",
      "Generic        191\n",
      "No Match         8\n",
      "Name: count, dtype: int64\n",
      "Reading: /scratch/user/syedwali/Datasets/UNSW/provided_CSVs/UNSW-NB15_2.csv\n"
     ]
    },
    {
     "name": "stderr",
     "output_type": "stream",
     "text": [
      "Processing CSVs:   9%|▉         | 7/79 [03:50<38:26, 32.03s/it]"
     ]
    },
    {
     "name": "stdout",
     "output_type": "stream",
     "text": [
      "Finished processing 35_processed.csv.\n",
      "Label distribution:\n",
      "label\n",
      "Benign      16651\n",
      "No Match      105\n",
      "Name: count, dtype: int64\n"
     ]
    },
    {
     "name": "stderr",
     "output_type": "stream",
     "text": [
      "Processing CSVs:  10%|█         | 8/79 [03:58<29:05, 24.59s/it]"
     ]
    },
    {
     "name": "stdout",
     "output_type": "stream",
     "text": [
      "Finished processing 33_processed.csv.\n",
      "Label distribution:\n",
      "label\n",
      "Benign      17935\n",
      "No Match        5\n",
      "Name: count, dtype: int64\n",
      "Reading: /scratch/user/syedwali/Datasets/UNSW/provided_CSVs/UNSW-NB15_2.csv\n",
      "Reading: /scratch/user/syedwali/Datasets/UNSW/provided_CSVs/UNSW-NB15_2.csv\n"
     ]
    },
    {
     "name": "stderr",
     "output_type": "stream",
     "text": [
      "Processing CSVs:  11%|█▏        | 9/79 [04:33<32:23, 27.76s/it]"
     ]
    },
    {
     "name": "stdout",
     "output_type": "stream",
     "text": [
      "Finished processing 46_processed.csv.\n",
      "Label distribution:\n",
      "label\n",
      "Benign      18042\n",
      "No Match       96\n",
      "Name: count, dtype: int64\n"
     ]
    },
    {
     "name": "stderr",
     "output_type": "stream",
     "text": [
      "Processing CSVs:  13%|█▎        | 10/79 [04:41<25:04, 21.80s/it]"
     ]
    },
    {
     "name": "stdout",
     "output_type": "stream",
     "text": [
      "Finished processing 53_processed.csv.\n",
      "Label distribution:\n",
      "label\n",
      "Benign    13020\n",
      "Name: count, dtype: int64\n",
      "Reading: /scratch/user/syedwali/Datasets/UNSW/provided_CSVs/UNSW-NB15_1.csv\n",
      "Reading: /scratch/user/syedwali/Datasets/UNSW/provided_CSVs/UNSW-NB15_1.csv\n"
     ]
    },
    {
     "name": "stderr",
     "output_type": "stream",
     "text": [
      "Processing CSVs:  14%|█▍        | 11/79 [05:04<25:20, 22.35s/it]"
     ]
    },
    {
     "name": "stdout",
     "output_type": "stream",
     "text": [
      "Finished processing 7_processed.csv.\n",
      "Label distribution:\n",
      "label\n",
      "Benign              32694\n",
      " Fuzzers             2040\n",
      "Exploits             1812\n",
      "DoS                  1576\n",
      "Generic               300\n",
      " Reconnaissance        16\n",
      "Name: count, dtype: int64\n"
     ]
    },
    {
     "name": "stderr",
     "output_type": "stream",
     "text": [
      "Processing CSVs:  15%|█▌        | 12/79 [05:32<26:41, 23.90s/it]"
     ]
    },
    {
     "name": "stdout",
     "output_type": "stream",
     "text": [
      "Failed to process 1_processed.csv. Error: '<' not supported between instances of 'float' and 'str'\n",
      "Reading: /scratch/user/syedwali/Datasets/UNSW/provided_CSVs/UNSW-NB15_1.csv\n"
     ]
    },
    {
     "name": "stderr",
     "output_type": "stream",
     "text": [
      "Processing CSVs:  16%|█▋        | 13/79 [05:55<26:00, 23.65s/it]"
     ]
    },
    {
     "name": "stdout",
     "output_type": "stream",
     "text": [
      "Finished processing 19_1028414664_20240905-211405_processed.csv.\n",
      "Label distribution:\n",
      "label\n",
      "Benign      17615\n",
      "No Match       36\n",
      "Name: count, dtype: int64\n"
     ]
    },
    {
     "name": "stderr",
     "output_type": "stream",
     "text": [
      "Processing CSVs:  18%|█▊        | 14/79 [06:21<26:14, 24.23s/it]"
     ]
    },
    {
     "name": "stdout",
     "output_type": "stream",
     "text": [
      "Finished processing 32_processed.csv.\n",
      "Label distribution:\n",
      "label\n",
      "Benign      17596\n",
      "No Match       39\n",
      "Name: count, dtype: int64\n",
      "Reading: /scratch/user/syedwali/Datasets/UNSW/provided_CSVs/UNSW-NB15_4.csv\n",
      "Reading: /scratch/user/syedwali/Datasets/UNSW/provided_CSVs/UNSW-NB15_2.csv\n"
     ]
    },
    {
     "name": "stderr",
     "output_type": "stream",
     "text": [
      "Processing CSVs:  19%|█▉        | 15/79 [06:49<27:09, 25.45s/it]"
     ]
    },
    {
     "name": "stdout",
     "output_type": "stream",
     "text": [
      "Finished processing 4_1000000277_20240905-215800_processed.csv.\n",
      "Label distribution:\n",
      "label\n",
      "Benign      14915\n",
      "Exploits     1679\n",
      "DoS          1502\n",
      " Fuzzers      773\n",
      "Name: count, dtype: int64\n"
     ]
    },
    {
     "name": "stderr",
     "output_type": "stream",
     "text": [
      "Processing CSVs:  20%|██        | 16/79 [06:52<19:44, 18.80s/it]"
     ]
    },
    {
     "name": "stdout",
     "output_type": "stream",
     "text": [
      "Finished processing 3_processed.csv.\n",
      "Label distribution:\n",
      "label\n",
      "Benign              33182\n",
      " Fuzzers             4462\n",
      "Exploits             1232\n",
      "DoS                  1048\n",
      " Reconnaissance        32\n",
      "No Match                3\n",
      "Name: count, dtype: int64\n",
      "Reading: /scratch/user/syedwali/Datasets/UNSW/provided_CSVs/UNSW-NB15_2.csv\n",
      "Reading: /scratch/user/syedwali/Datasets/UNSW/provided_CSVs/UNSW-NB15_2.csv\n"
     ]
    },
    {
     "name": "stderr",
     "output_type": "stream",
     "text": [
      "Processing CSVs:  22%|██▏       | 17/79 [07:37<27:33, 26.67s/it]"
     ]
    },
    {
     "name": "stdout",
     "output_type": "stream",
     "text": [
      "Finished processing 51_processed.csv.\n",
      "Label distribution:\n",
      "label\n",
      "Benign      18533\n",
      "No Match       62\n",
      "Name: count, dtype: int64\n"
     ]
    },
    {
     "name": "stderr",
     "output_type": "stream",
     "text": [
      "Processing CSVs:  23%|██▎       | 18/79 [08:07<28:07, 27.67s/it]"
     ]
    },
    {
     "name": "stdout",
     "output_type": "stream",
     "text": [
      "Finished processing 50_processed.csv.\n",
      "Label distribution:\n",
      "label\n",
      "Benign      21937\n",
      "No Match       24\n",
      "Name: count, dtype: int64\n",
      "Reading: /scratch/user/syedwali/Datasets/UNSW/provided_CSVs/UNSW-NB15_4.csv\n"
     ]
    },
    {
     "name": "stderr",
     "output_type": "stream",
     "text": [
      "Processing CSVs:  24%|██▍       | 19/79 [09:05<36:37, 36.63s/it]"
     ]
    },
    {
     "name": "stdout",
     "output_type": "stream",
     "text": [
      "Failed to process 23_processed.csv. Error: '<' not supported between instances of 'float' and 'str'\n"
     ]
    },
    {
     "name": "stderr",
     "output_type": "stream",
     "text": [
      "Processing CSVs:  25%|██▌       | 20/79 [09:14<28:02, 28.51s/it]"
     ]
    },
    {
     "name": "stdout",
     "output_type": "stream",
     "text": [
      "Finished processing 20_processed.csv.\n",
      "Label distribution:\n",
      "label\n",
      "Benign              37973\n",
      "Exploits             1260\n",
      "DoS                   641\n",
      "Generic               396\n",
      " Fuzzers              247\n",
      " Reconnaissance        86\n",
      "No Match               37\n",
      "Name: count, dtype: int64\n",
      "Reading: /scratch/user/syedwali/Datasets/UNSW/provided_CSVs/UNSW-NB15_1.csv\n"
     ]
    },
    {
     "name": "stderr",
     "output_type": "stream",
     "text": [
      "Processing CSVs:  27%|██▋       | 21/79 [09:24<21:58, 22.74s/it]"
     ]
    },
    {
     "name": "stdout",
     "output_type": "stream",
     "text": [
      "Finished processing 6_processed.csv.\n",
      "Label distribution:\n",
      "label\n",
      "Benign       37284\n",
      "DoS           1888\n",
      " Fuzzers      1008\n",
      "Exploits       622\n",
      "Generic          6\n",
      "Name: count, dtype: int64\n",
      "Reading: /scratch/user/syedwali/Datasets/UNSW/provided_CSVs/UNSW-NB15_2.csv\n",
      "Reading: /scratch/user/syedwali/Datasets/UNSW/provided_CSVs/UNSW-NB15_3.csv\n"
     ]
    },
    {
     "name": "stderr",
     "output_type": "stream",
     "text": [
      "Processing CSVs:  28%|██▊       | 22/79 [10:19<30:56, 32.57s/it]"
     ]
    },
    {
     "name": "stdout",
     "output_type": "stream",
     "text": [
      "Finished processing 30_processed.csv.\n",
      "Label distribution:\n",
      "label\n",
      "Benign    18987\n",
      "Name: count, dtype: int64\n"
     ]
    },
    {
     "name": "stderr",
     "output_type": "stream",
     "text": [
      "Processing CSVs:  29%|██▉       | 23/79 [10:30<24:21, 26.09s/it]"
     ]
    },
    {
     "name": "stdout",
     "output_type": "stream",
     "text": [
      "Finished processing 45_processed.csv.\n",
      "Label distribution:\n",
      "label\n",
      "Benign      18939\n",
      "No Match      293\n",
      "Name: count, dtype: int64\n"
     ]
    },
    {
     "name": "stderr",
     "output_type": "stream",
     "text": [
      "Processing CSVs:  30%|███       | 24/79 [10:48<21:47, 23.77s/it]"
     ]
    },
    {
     "name": "stdout",
     "output_type": "stream",
     "text": [
      "Finished processing 25_processed.csv.\n",
      "Label distribution:\n",
      "label\n",
      "Benign              32582\n",
      " Fuzzers             5003\n",
      "Exploits             2977\n",
      "Generic                84\n",
      "DoS                    40\n",
      " Reconnaissance        40\n",
      "Name: count, dtype: int64\n",
      "Reading: /scratch/user/syedwali/Datasets/UNSW/provided_CSVs/UNSW-NB15_4.csv\n",
      "Reading: /scratch/user/syedwali/Datasets/UNSW/provided_CSVs/UNSW-NB15_4.csv\n",
      "Reading: /scratch/user/syedwali/Datasets/UNSW/provided_CSVs/UNSW-NB15_1.csv\n"
     ]
    },
    {
     "name": "stderr",
     "output_type": "stream",
     "text": [
      "Processing CSVs:  32%|███▏      | 25/79 [11:57<33:33, 37.28s/it]"
     ]
    },
    {
     "name": "stdout",
     "output_type": "stream",
     "text": [
      "Finished processing 10_processed.csv.\n",
      "Label distribution:\n",
      "label\n",
      "Benign              24016\n",
      "DoS                  6321\n",
      "Exploits             4721\n",
      " Fuzzers             2796\n",
      "Generic                85\n",
      " Reconnaissance        43\n",
      "No Match                1\n",
      "Name: count, dtype: int64\n"
     ]
    },
    {
     "name": "stderr",
     "output_type": "stream",
     "text": [
      "Processing CSVs:  33%|███▎      | 26/79 [12:03<24:42, 27.97s/it]"
     ]
    },
    {
     "name": "stdout",
     "output_type": "stream",
     "text": [
      "Finished processing 25_1029881776_20240905-214109_processed.csv.\n",
      "Label distribution:\n",
      "label\n",
      "Benign    20768\n",
      "Name: count, dtype: int64\n",
      "Reading: /scratch/user/syedwali/Datasets/UNSW/provided_CSVs/UNSW-NB15_2.csv\n"
     ]
    },
    {
     "name": "stderr",
     "output_type": "stream",
     "text": [
      "Processing CSVs:  34%|███▍      | 27/79 [12:17<20:33, 23.72s/it]"
     ]
    },
    {
     "name": "stdout",
     "output_type": "stream",
     "text": [
      "Failed to process 1_1000000847_20240905-213056_processed.csv. Error: '<' not supported between instances of 'float' and 'str'\n",
      "Reading: /scratch/user/syedwali/Datasets/UNSW/provided_CSVs/UNSW-NB15_2.csv\n"
     ]
    },
    {
     "name": "stderr",
     "output_type": "stream",
     "text": [
      "Processing CSVs:  35%|███▌      | 28/79 [13:13<28:12, 33.19s/it]"
     ]
    },
    {
     "name": "stdout",
     "output_type": "stream",
     "text": [
      "Finished processing 34_processed.csv.\n",
      "Label distribution:\n",
      "label\n",
      "Benign      18384\n",
      "No Match      159\n",
      "Name: count, dtype: int64\n"
     ]
    },
    {
     "name": "stderr",
     "output_type": "stream",
     "text": [
      "Processing CSVs:  37%|███▋      | 29/79 [13:20<21:20, 25.61s/it]"
     ]
    },
    {
     "name": "stdout",
     "output_type": "stream",
     "text": [
      "Finished processing 22_processed.csv.\n",
      "Label distribution:\n",
      "label\n",
      "Benign              25983\n",
      " Fuzzers             9883\n",
      "Exploits             3001\n",
      "DoS                  1543\n",
      "Generic              1328\n",
      "No Match               51\n",
      " Reconnaissance        25\n",
      "Name: count, dtype: int64\n"
     ]
    },
    {
     "name": "stderr",
     "output_type": "stream",
     "text": [
      "Processing CSVs:  38%|███▊      | 30/79 [13:30<17:03, 20.89s/it]"
     ]
    },
    {
     "name": "stdout",
     "output_type": "stream",
     "text": [
      "Finished processing 43_processed.csv.\n",
      "Label distribution:\n",
      "label\n",
      "Benign      16245\n",
      "No Match       18\n",
      "Name: count, dtype: int64\n",
      "Reading: /scratch/user/syedwali/Datasets/UNSW/provided_CSVs/UNSW-NB15_1.csv\n",
      "Reading: /scratch/user/syedwali/Datasets/UNSW/provided_CSVs/UNSW-NB15_3.csv\n"
     ]
    },
    {
     "name": "stderr",
     "output_type": "stream",
     "text": [
      "Processing CSVs:  39%|███▉      | 31/79 [13:46<15:34, 19.46s/it]"
     ]
    },
    {
     "name": "stdout",
     "output_type": "stream",
     "text": [
      "Finished processing 21_processed.csv.\n",
      "Label distribution:\n",
      "label\n",
      "Benign              30224\n",
      " Fuzzers             4453\n",
      "Exploits             4069\n",
      "DoS                  1249\n",
      " Reconnaissance        67\n",
      "No Match               13\n",
      " Shellcode             13\n",
      "Name: count, dtype: int64\n",
      "Reading: /scratch/user/syedwali/Datasets/UNSW/provided_CSVs/UNSW-NB15_2.csv\n",
      "Reading: /scratch/user/syedwali/Datasets/UNSW/provided_CSVs/UNSW-NB15_2.csv\n"
     ]
    },
    {
     "name": "stderr",
     "output_type": "stream",
     "text": [
      "Processing CSVs:  41%|████      | 32/79 [14:37<22:31, 28.76s/it]"
     ]
    },
    {
     "name": "stdout",
     "output_type": "stream",
     "text": [
      "Finished processing 26_1030712176_20240905-205051_processed.csv.\n",
      "Label distribution:\n",
      "label\n",
      "Benign    20604\n",
      "Name: count, dtype: int64\n"
     ]
    },
    {
     "name": "stderr",
     "output_type": "stream",
     "text": [
      "Processing CSVs:  42%|████▏     | 33/79 [14:46<17:28, 22.79s/it]"
     ]
    },
    {
     "name": "stdout",
     "output_type": "stream",
     "text": [
      "Finished processing 40_processed.csv.\n",
      "Label distribution:\n",
      "label\n",
      "Benign      20716\n",
      "No Match      199\n",
      "Name: count, dtype: int64\n",
      "Reading: /scratch/user/syedwali/Datasets/UNSW/provided_CSVs/UNSW-NB15_1.csv\n",
      "Reading: /scratch/user/syedwali/Datasets/UNSW/provided_CSVs/UNSW-NB15_2.csv\n"
     ]
    },
    {
     "name": "stderr",
     "output_type": "stream",
     "text": [
      "Processing CSVs:  43%|████▎     | 34/79 [16:02<29:08, 38.85s/it]"
     ]
    },
    {
     "name": "stdout",
     "output_type": "stream",
     "text": [
      "Finished processing 48_processed.csv.\n",
      "Label distribution:\n",
      "label\n",
      "Benign      21626\n",
      "No Match      134\n",
      "Name: count, dtype: int64\n"
     ]
    },
    {
     "name": "stderr",
     "output_type": "stream",
     "text": [
      "Processing CSVs:  44%|████▍     | 35/79 [16:03<20:09, 27.49s/it]"
     ]
    },
    {
     "name": "stdout",
     "output_type": "stream",
     "text": [
      "Finished processing 5_1000000832_20240905-202039_processed.csv.\n",
      "Label distribution:\n",
      "label\n",
      "Benign      16050\n",
      " Fuzzers     3062\n",
      "Exploits      743\n",
      "DoS            58\n",
      "Name: count, dtype: int64\n",
      "Reading: /scratch/user/syedwali/Datasets/UNSW/provided_CSVs/UNSW-NB15_1.csv\n",
      "Reading: /scratch/user/syedwali/Datasets/UNSW/provided_CSVs/UNSW-NB15_1.csv\n"
     ]
    },
    {
     "name": "stderr",
     "output_type": "stream",
     "text": [
      "Processing CSVs:  46%|████▌     | 36/79 [16:31<19:49, 27.67s/it]"
     ]
    },
    {
     "name": "stdout",
     "output_type": "stream",
     "text": [
      "Finished processing 12_processed.csv.\n",
      "Label distribution:\n",
      "label\n",
      "Benign              27482\n",
      " Fuzzers             4012\n",
      "Exploits             2208\n",
      "DoS                  1911\n",
      "Generic              1272\n",
      "Analysis              741\n",
      "Backdoor              525\n",
      " Reconnaissance       124\n",
      "No Match               10\n",
      "Name: count, dtype: int64\n"
     ]
    },
    {
     "name": "stderr",
     "output_type": "stream",
     "text": [
      "Processing CSVs:  47%|████▋     | 37/79 [16:41<15:42, 22.44s/it]"
     ]
    },
    {
     "name": "stdout",
     "output_type": "stream",
     "text": [
      "Finished processing 4_processed.csv.\n",
      "Label distribution:\n",
      "label\n",
      "Benign              30304\n",
      "Exploits             4604\n",
      "DoS                  1774\n",
      " Fuzzers             1260\n",
      "Generic              1043\n",
      "Analysis              267\n",
      " Reconnaissance        18\n",
      "No Match                6\n",
      "Name: count, dtype: int64\n",
      "Reading: /scratch/user/syedwali/Datasets/UNSW/provided_CSVs/UNSW-NB15_2.csv\n",
      "Reading: /scratch/user/syedwali/Datasets/UNSW/provided_CSVs/UNSW-NB15_2.csv\n"
     ]
    },
    {
     "name": "stderr",
     "output_type": "stream",
     "text": [
      "Processing CSVs:  48%|████▊     | 38/79 [17:19<18:22, 26.89s/it]"
     ]
    },
    {
     "name": "stdout",
     "output_type": "stream",
     "text": [
      "Finished processing 15_1000000964_20240905-203852_processed.csv.\n",
      "Label distribution:\n",
      "label\n",
      "Benign      20681\n",
      "No Match      368\n",
      "Name: count, dtype: int64\n",
      "Finished processing 16_1030797880_20240905-210615_processed.csv.\n",
      "Label distribution:\n",
      "label\n",
      "Benign      20385\n",
      "No Match      113\n",
      "Name: count, dtype: int64\n"
     ]
    },
    {
     "name": "stderr",
     "output_type": "stream",
     "text": [
      "Processing CSVs:  51%|█████     | 40/79 [17:49<13:55, 21.42s/it]"
     ]
    },
    {
     "name": "stdout",
     "output_type": "stream",
     "text": [
      "Finished processing 37_processed.csv.\n",
      "Label distribution:\n",
      "label\n",
      "Benign      21301\n",
      "No Match      313\n",
      "Name: count, dtype: int64\n",
      "Reading: /scratch/user/syedwali/Datasets/UNSW/provided_CSVs/UNSW-NB15_3.csv\n",
      "Reading: /scratch/user/syedwali/Datasets/UNSW/provided_CSVs/UNSW-NB15_4.csv\n"
     ]
    },
    {
     "name": "stderr",
     "output_type": "stream",
     "text": [
      "Processing CSVs:  52%|█████▏    | 41/79 [17:59<11:48, 18.64s/it]"
     ]
    },
    {
     "name": "stdout",
     "output_type": "stream",
     "text": [
      "Finished processing 36_processed.csv.\n",
      "Label distribution:\n",
      "label\n",
      "Benign      22239\n",
      "No Match      324\n",
      "Name: count, dtype: int64\n",
      "Reading: /scratch/user/syedwali/Datasets/UNSW/provided_CSVs/UNSW-NB15_1.csv\n",
      "Reading: /scratch/user/syedwali/Datasets/UNSW/provided_CSVs/UNSW-NB15_1.csv\n"
     ]
    },
    {
     "name": "stderr",
     "output_type": "stream",
     "text": [
      "Processing CSVs:  53%|█████▎    | 42/79 [19:06<19:20, 31.36s/it]"
     ]
    },
    {
     "name": "stdout",
     "output_type": "stream",
     "text": [
      "Finished processing 17_1030213624_20240905-203030_processed.csv.\n",
      "Label distribution:\n",
      "label\n",
      "Benign      19901\n",
      "No Match      154\n",
      "Name: count, dtype: int64\n"
     ]
    },
    {
     "name": "stderr",
     "output_type": "stream",
     "text": [
      "Processing CSVs:  54%|█████▍    | 43/79 [19:15<15:05, 25.16s/it]"
     ]
    },
    {
     "name": "stdout",
     "output_type": "stream",
     "text": [
      "Finished processing 23_1029096252_20240905-213450_processed.csv.\n",
      "Label distribution:\n",
      "label\n",
      "Benign    18550\n",
      "Name: count, dtype: int64\n",
      "Reading: /scratch/user/syedwali/Datasets/UNSW/provided_CSVs/UNSW-NB15_3.csv\n"
     ]
    },
    {
     "name": "stderr",
     "output_type": "stream",
     "text": [
      "Processing CSVs:  56%|█████▌    | 44/79 [19:44<15:24, 26.41s/it]"
     ]
    },
    {
     "name": "stdout",
     "output_type": "stream",
     "text": [
      "Failed to process 9_processed.csv. Error: '<' not supported between instances of 'float' and 'str'\n"
     ]
    },
    {
     "name": "stderr",
     "output_type": "stream",
     "text": [
      "Processing CSVs:  57%|█████▋    | 45/79 [19:48<11:18, 19.96s/it]"
     ]
    },
    {
     "name": "stdout",
     "output_type": "stream",
     "text": [
      "Finished processing 14_processed.csv.\n",
      "Label distribution:\n",
      "label\n",
      "Benign              21381\n",
      "DoS                  5096\n",
      "Exploits             5095\n",
      " Fuzzers             4445\n",
      "Generic               391\n",
      " Reconnaissance        20\n",
      "Name: count, dtype: int64\n",
      "Reading: /scratch/user/syedwali/Datasets/UNSW/provided_CSVs/UNSW-NB15_4.csv\n",
      "Reading: /scratch/user/syedwali/Datasets/UNSW/provided_CSVs/UNSW-NB15_3.csv\n"
     ]
    },
    {
     "name": "stderr",
     "output_type": "stream",
     "text": [
      "Processing CSVs:  58%|█████▊    | 46/79 [20:31<14:40, 26.69s/it]"
     ]
    },
    {
     "name": "stdout",
     "output_type": "stream",
     "text": [
      "Finished processing 26_processed.csv.\n",
      "Label distribution:\n",
      "label\n",
      "Benign       26665\n",
      "Exploits      6629\n",
      " Fuzzers      5667\n",
      "Generic       2070\n",
      "DoS            120\n",
      "Name: count, dtype: int64\n",
      "Reading: /scratch/user/syedwali/Datasets/UNSW/provided_CSVs/UNSW-NB15_2.csv\n"
     ]
    },
    {
     "name": "stderr",
     "output_type": "stream",
     "text": [
      "Processing CSVs:  59%|█████▉    | 47/79 [21:37<20:18, 38.07s/it]"
     ]
    },
    {
     "name": "stdout",
     "output_type": "stream",
     "text": [
      "Finished processing 15_processed.csv.\n",
      "Label distribution:\n",
      "label\n",
      "Benign              33300\n",
      " Fuzzers             1317\n",
      "Exploits              900\n",
      "DoS                   884\n",
      " Reconnaissance        39\n",
      "No Match               16\n",
      " Shellcode              3\n",
      "Name: count, dtype: int64\n"
     ]
    },
    {
     "name": "stderr",
     "output_type": "stream",
     "text": [
      "Processing CSVs:  61%|██████    | 48/79 [21:48<15:28, 29.94s/it]"
     ]
    },
    {
     "name": "stdout",
     "output_type": "stream",
     "text": [
      "Finished processing 49_processed.csv.\n",
      "Label distribution:\n",
      "label\n",
      "Benign      21079\n",
      "No Match      113\n",
      "Name: count, dtype: int64\n",
      "Reading: /scratch/user/syedwali/Datasets/UNSW/provided_CSVs/UNSW-NB15_2.csv\n"
     ]
    },
    {
     "name": "stderr",
     "output_type": "stream",
     "text": [
      "Processing CSVs:  62%|██████▏   | 49/79 [22:09<13:42, 27.42s/it]"
     ]
    },
    {
     "name": "stdout",
     "output_type": "stream",
     "text": [
      "Failed to process 18_processed.csv. Error: '<' not supported between instances of 'float' and 'str'\n"
     ]
    },
    {
     "name": "stderr",
     "output_type": "stream",
     "text": [
      "Processing CSVs:  63%|██████▎   | 50/79 [22:16<10:17, 21.30s/it]"
     ]
    },
    {
     "name": "stdout",
     "output_type": "stream",
     "text": [
      "Finished processing 24_processed.csv.\n",
      "Label distribution:\n",
      "label\n",
      "Benign              37175\n",
      "DoS                  1430\n",
      " Fuzzers             1377\n",
      "Exploits              319\n",
      " Shellcode             90\n",
      " Reconnaissance        33\n",
      "No Match                6\n",
      "Name: count, dtype: int64\n",
      "Reading: /scratch/user/syedwali/Datasets/UNSW/provided_CSVs/UNSW-NB15_1.csv\n",
      "Reading: /scratch/user/syedwali/Datasets/UNSW/provided_CSVs/UNSW-NB15_2.csv\n"
     ]
    },
    {
     "name": "stderr",
     "output_type": "stream",
     "text": [
      "Processing CSVs:  65%|██████▍   | 51/79 [22:53<12:09, 26.04s/it]"
     ]
    },
    {
     "name": "stdout",
     "output_type": "stream",
     "text": [
      "Finished processing 44_processed.csv.\n",
      "Label distribution:\n",
      "label\n",
      "Benign      17809\n",
      "No Match       72\n",
      "Name: count, dtype: int64\n"
     ]
    },
    {
     "name": "stderr",
     "output_type": "stream",
     "text": [
      "Processing CSVs:  66%|██████▌   | 52/79 [23:03<09:32, 21.20s/it]"
     ]
    },
    {
     "name": "stdout",
     "output_type": "stream",
     "text": [
      "Finished processing 8_processed.csv.\n",
      "Label distribution:\n",
      "label\n",
      "Benign              28447\n",
      "Exploits             4416\n",
      " Fuzzers             3462\n",
      "Analysis              465\n",
      "Generic               208\n",
      "DoS                   134\n",
      " Reconnaissance        15\n",
      "No Match                8\n",
      "Name: count, dtype: int64\n"
     ]
    },
    {
     "name": "stderr",
     "output_type": "stream",
     "text": [
      "Processing CSVs:  67%|██████▋   | 53/79 [23:11<07:31, 17.38s/it]"
     ]
    },
    {
     "name": "stdout",
     "output_type": "stream",
     "text": [
      "Failed to process 27_processed.csv. Error: Can only use .str accessor with string values!\n",
      "Reading: /scratch/user/syedwali/Datasets/UNSW/provided_CSVs/UNSW-NB15_1.csv\n",
      "Reading: /scratch/user/syedwali/Datasets/UNSW/provided_CSVs/UNSW-NB15_2.csv\n"
     ]
    },
    {
     "name": "stderr",
     "output_type": "stream",
     "text": [
      "Processing CSVs:  68%|██████▊   | 54/79 [23:31<07:34, 18.17s/it]"
     ]
    },
    {
     "name": "stdout",
     "output_type": "stream",
     "text": [
      "Finished processing 42_processed.csv.\n",
      "Label distribution:\n",
      "label\n",
      "Benign      18300\n",
      "No Match       77\n",
      "Name: count, dtype: int64\n"
     ]
    },
    {
     "name": "stderr",
     "output_type": "stream",
     "text": [
      "Processing CSVs:  70%|██████▉   | 55/79 [23:58<08:15, 20.64s/it]"
     ]
    },
    {
     "name": "stdout",
     "output_type": "stream",
     "text": [
      "Finished processing 21_1028743892_20240905-213253_processed.csv.\n",
      "Label distribution:\n",
      "label\n",
      "Benign      17596\n",
      "No Match       39\n",
      "Name: count, dtype: int64\n",
      "Reading: /scratch/user/syedwali/Datasets/UNSW/provided_CSVs/UNSW-NB15_3.csv\n",
      "Reading: /scratch/user/syedwali/Datasets/UNSW/provided_CSVs/UNSW-NB15_1.csv\n"
     ]
    },
    {
     "name": "stderr",
     "output_type": "stream",
     "text": [
      "Processing CSVs:  71%|███████   | 56/79 [24:18<07:51, 20.49s/it]"
     ]
    },
    {
     "name": "stdout",
     "output_type": "stream",
     "text": [
      "Finished processing 8_1000001035_20240905-214538_processed.csv.\n",
      "Label distribution:\n",
      "label\n",
      "Benign      10414\n",
      " Fuzzers     7015\n",
      "Exploits      744\n",
      "DoS           507\n",
      "Name: count, dtype: int64\n"
     ]
    },
    {
     "name": "stderr",
     "output_type": "stream",
     "text": [
      "Processing CSVs:  72%|███████▏  | 57/79 [24:26<06:10, 16.85s/it]"
     ]
    },
    {
     "name": "stdout",
     "output_type": "stream",
     "text": [
      "Finished processing 47_processed.csv.\n",
      "Label distribution:\n",
      "label\n",
      "Benign      19179\n",
      "No Match       63\n",
      "Name: count, dtype: int64\n",
      "Reading: /scratch/user/syedwali/Datasets/UNSW/provided_CSVs/UNSW-NB15_1.csv\n",
      "Reading: /scratch/user/syedwali/Datasets/UNSW/provided_CSVs/UNSW-NB15_1.csv\n"
     ]
    },
    {
     "name": "stderr",
     "output_type": "stream",
     "text": [
      "Processing CSVs:  73%|███████▎  | 58/79 [25:14<09:06, 26.00s/it]"
     ]
    },
    {
     "name": "stdout",
     "output_type": "stream",
     "text": [
      "Finished processing 24_1029809696_20240905-202437_processed.csv.\n",
      "Label distribution:\n",
      "label\n",
      "Benign    20043\n",
      "Name: count, dtype: int64\n",
      "Reading: /scratch/user/syedwali/Datasets/UNSW/provided_CSVs/UNSW-NB15_1.csv\n"
     ]
    },
    {
     "name": "stderr",
     "output_type": "stream",
     "text": [
      "Processing CSVs:  75%|███████▍  | 59/79 [25:33<07:57, 23.89s/it]"
     ]
    },
    {
     "name": "stdout",
     "output_type": "stream",
     "text": [
      "Finished processing 2_1000000159_20240905-204444_processed.csv.\n",
      "Label distribution:\n",
      "label\n",
      "Benign      9061\n",
      "DoS         4607\n",
      " Fuzzers    2061\n",
      "Exploits    1018\n",
      "Name: count, dtype: int64\n"
     ]
    },
    {
     "name": "stderr",
     "output_type": "stream",
     "text": [
      "Processing CSVs:  76%|███████▌  | 60/79 [25:41<06:08, 19.40s/it]"
     ]
    },
    {
     "name": "stdout",
     "output_type": "stream",
     "text": [
      "Finished processing 18_1029238692_20240905-203437_processed.csv.\n",
      "Label distribution:\n",
      "label\n",
      "Benign      19199\n",
      "No Match       42\n",
      "Name: count, dtype: int64\n",
      "Reading: /scratch/user/syedwali/Datasets/UNSW/provided_CSVs/UNSW-NB15_1.csv\n",
      "Reading: /scratch/user/syedwali/Datasets/UNSW/provided_CSVs/UNSW-NB15_1.csv\n"
     ]
    },
    {
     "name": "stderr",
     "output_type": "stream",
     "text": [
      "Processing CSVs:  77%|███████▋  | 61/79 [26:29<08:19, 27.76s/it]"
     ]
    },
    {
     "name": "stdout",
     "output_type": "stream",
     "text": [
      "Finished processing 28_processed.csv.\n",
      "Label distribution:\n",
      "label\n",
      "Benign    18272\n",
      "Name: count, dtype: int64\n",
      "Reading: /scratch/user/syedwali/Datasets/UNSW/provided_CSVs/UNSW-NB15_1.csv\n"
     ]
    },
    {
     "name": "stderr",
     "output_type": "stream",
     "text": [
      "Processing CSVs:  78%|███████▊  | 62/79 [26:53<07:33, 26.69s/it]"
     ]
    },
    {
     "name": "stdout",
     "output_type": "stream",
     "text": [
      "Finished processing 17_processed.csv.\n",
      "Label distribution:\n",
      "label\n",
      "Benign              24057\n",
      "Exploits             5179\n",
      " Fuzzers             3175\n",
      "DoS                  2915\n",
      "Generic               280\n",
      " Reconnaissance       213\n",
      "Analysis              138\n",
      "No Match               22\n",
      "Name: count, dtype: int64\n"
     ]
    },
    {
     "name": "stderr",
     "output_type": "stream",
     "text": [
      "Processing CSVs:  80%|███████▉  | 63/79 [26:56<05:14, 19.63s/it]"
     ]
    },
    {
     "name": "stdout",
     "output_type": "stream",
     "text": [
      "Finished processing 27_1028678596_20240905-212657_processed.csv.\n",
      "Label distribution:\n",
      "label\n",
      "Benign    17466\n",
      "Name: count, dtype: int64\n",
      "Reading: /scratch/user/syedwali/Datasets/UNSW/provided_CSVs/UNSW-NB15_1.csv\n",
      "Reading: /scratch/user/syedwali/Datasets/UNSW/provided_CSVs/UNSW-NB15_1.csv\n"
     ]
    },
    {
     "name": "stderr",
     "output_type": "stream",
     "text": [
      "Processing CSVs:  81%|████████  | 64/79 [27:21<05:18, 21.25s/it]"
     ]
    },
    {
     "name": "stdout",
     "output_type": "stream",
     "text": [
      "Finished processing 52_processed.csv.\n",
      "Label distribution:\n",
      "label\n",
      "Benign      17596\n",
      "No Match       39\n",
      "Name: count, dtype: int64\n",
      "Reading: /scratch/user/syedwali/Datasets/UNSW/provided_CSVs/UNSW-NB15_1.csv\n"
     ]
    },
    {
     "name": "stderr",
     "output_type": "stream",
     "text": [
      "Processing CSVs:  82%|████████▏ | 65/79 [27:43<04:59, 21.37s/it]"
     ]
    },
    {
     "name": "stdout",
     "output_type": "stream",
     "text": [
      "Finished processing 22_1029011312_20240905-202237_processed.csv.\n",
      "Label distribution:\n",
      "label\n",
      "Benign    18057\n",
      "Name: count, dtype: int64\n",
      "Reading: /scratch/user/syedwali/Datasets/UNSW/provided_CSVs/UNSW-NB15_2.csv\n"
     ]
    },
    {
     "name": "stderr",
     "output_type": "stream",
     "text": [
      "Processing CSVs:  84%|████████▎ | 66/79 [28:07<04:50, 22.32s/it]"
     ]
    },
    {
     "name": "stdout",
     "output_type": "stream",
     "text": [
      "Finished processing 13_processed.csv.\n",
      "Label distribution:\n",
      "label\n",
      "Benign      17483\n",
      "No Match       77\n",
      "Name: count, dtype: int64\n"
     ]
    },
    {
     "name": "stderr",
     "output_type": "stream",
     "text": [
      "Processing CSVs:  85%|████████▍ | 67/79 [28:12<03:24, 17.01s/it]"
     ]
    },
    {
     "name": "stdout",
     "output_type": "stream",
     "text": [
      "Finished processing 20_1030212288_20240905-203637_processed.csv.\n",
      "Label distribution:\n",
      "label\n",
      "Benign      20350\n",
      "No Match      135\n",
      "Name: count, dtype: int64\n",
      "Reading: /scratch/user/syedwali/Datasets/UNSW/provided_CSVs/UNSW-NB15_1.csv\n",
      "Reading: /scratch/user/syedwali/Datasets/UNSW/provided_CSVs/UNSW-NB15_1.csv\n"
     ]
    },
    {
     "name": "stderr",
     "output_type": "stream",
     "text": [
      "Processing CSVs:  86%|████████▌ | 68/79 [28:48<04:09, 22.71s/it]"
     ]
    },
    {
     "name": "stdout",
     "output_type": "stream",
     "text": [
      "Finished processing 6_1028295840_20240905-211841_processed.csv.\n",
      "Label distribution:\n",
      "label\n",
      "Benign       14140\n",
      " Fuzzers      3865\n",
      "Exploits       590\n",
      "DoS             43\n",
      "Shellcode       11\n",
      "No Match         5\n",
      "Name: count, dtype: int64\n"
     ]
    },
    {
     "name": "stderr",
     "output_type": "stream",
     "text": [
      "Processing CSVs:  87%|████████▋ | 69/79 [28:58<03:08, 18.80s/it]"
     ]
    },
    {
     "name": "stdout",
     "output_type": "stream",
     "text": [
      "Finished processing 39_processed.csv.\n",
      "Label distribution:\n",
      "label\n",
      "Benign      18854\n",
      "No Match      118\n",
      "Name: count, dtype: int64\n",
      "Reading: /scratch/user/syedwali/Datasets/UNSW/provided_CSVs/UNSW-NB15_2.csv\n",
      "Reading: /scratch/user/syedwali/Datasets/UNSW/provided_CSVs/UNSW-NB15_2.csv\n"
     ]
    },
    {
     "name": "stderr",
     "output_type": "stream",
     "text": [
      "Processing CSVs:  89%|████████▊ | 70/79 [29:22<03:03, 20.42s/it]"
     ]
    },
    {
     "name": "stdout",
     "output_type": "stream",
     "text": [
      "Finished processing 29_processed.csv.\n",
      "Label distribution:\n",
      "label\n",
      "Benign    18693\n",
      "Name: count, dtype: int64\n"
     ]
    },
    {
     "name": "stderr",
     "output_type": "stream",
     "text": [
      "Processing CSVs:  90%|████████▉ | 71/79 [29:28<02:08, 16.11s/it]"
     ]
    },
    {
     "name": "stdout",
     "output_type": "stream",
     "text": [
      "Finished processing 12_1000001417_20240905-205955_processed.csv.\n",
      "Label distribution:\n",
      "label\n",
      "Benign      19778\n",
      "No Match        8\n",
      "Name: count, dtype: int64\n",
      "Reading: /scratch/user/syedwali/Datasets/UNSW/provided_CSVs/UNSW-NB15_1.csv\n",
      "Reading: /scratch/user/syedwali/Datasets/UNSW/provided_CSVs/UNSW-NB15_2.csv\n"
     ]
    },
    {
     "name": "stderr",
     "output_type": "stream",
     "text": [
      "Processing CSVs:  91%|█████████ | 72/79 [30:14<02:54, 25.00s/it]"
     ]
    },
    {
     "name": "stdout",
     "output_type": "stream",
     "text": [
      "Finished processing 38_processed.csv.\n",
      "Label distribution:\n",
      "label\n",
      "Benign      20526\n",
      "No Match      118\n",
      "Name: count, dtype: int64\n"
     ]
    },
    {
     "name": "stderr",
     "output_type": "stream",
     "text": [
      "Processing CSVs:  92%|█████████▏| 73/79 [30:38<02:29, 24.94s/it]"
     ]
    },
    {
     "name": "stdout",
     "output_type": "stream",
     "text": [
      "Finished processing 10_1000001192_20240905-215144_processed.csv.\n",
      "Label distribution:\n",
      "label\n",
      "Benign      21895\n",
      "No Match       44\n",
      "Name: count, dtype: int64\n",
      "Reading: /scratch/user/syedwali/Datasets/UNSW/provided_CSVs/UNSW-NB15_3.csv\n",
      "Reading: /scratch/user/syedwali/Datasets/UNSW/provided_CSVs/UNSW-NB15_4.csv\n",
      "Reading: /scratch/user/syedwali/Datasets/UNSW/provided_CSVs/UNSW-NB15_1.csv\n"
     ]
    },
    {
     "name": "stderr",
     "output_type": "stream",
     "text": [
      "Processing CSVs:  94%|█████████▎| 74/79 [31:17<02:25, 29.05s/it]"
     ]
    },
    {
     "name": "stdout",
     "output_type": "stream",
     "text": [
      "Finished processing 5_processed.csv.\n",
      "Label distribution:\n",
      "label\n",
      "Benign              24538\n",
      " Fuzzers             5922\n",
      "DoS                  5359\n",
      "Exploits             2462\n",
      "Generic               303\n",
      " Reconnaissance        49\n",
      "No Match               12\n",
      "Name: count, dtype: int64\n",
      "Reading: /scratch/user/syedwali/Datasets/UNSW/provided_CSVs/UNSW-NB15_3.csv\n"
     ]
    },
    {
     "name": "stderr",
     "output_type": "stream",
     "text": [
      "Processing CSVs:  95%|█████████▍| 75/79 [31:52<02:03, 30.87s/it]"
     ]
    },
    {
     "name": "stdout",
     "output_type": "stream",
     "text": [
      "Finished processing 2_processed.csv.\n",
      "Label distribution:\n",
      "label\n",
      "Benign       32242\n",
      "Exploits      1334\n",
      " Fuzzers       991\n",
      "DoS            943\n",
      "No Match        22\n",
      "Name: count, dtype: int64\n",
      "Reading: /scratch/user/syedwali/Datasets/UNSW/provided_CSVs/UNSW-NB15_1.csv\n"
     ]
    },
    {
     "name": "stderr",
     "output_type": "stream",
     "text": [
      "Processing CSVs:  96%|█████████▌| 76/79 [32:13<01:23, 27.90s/it]"
     ]
    },
    {
     "name": "stdout",
     "output_type": "stream",
     "text": [
      "Finished processing 7_1029959340_20240905-210156_processed.csv.\n",
      "Label distribution:\n",
      "label\n",
      "Benign            15390\n",
      "Exploits           2151\n",
      " Fuzzers           1885\n",
      "DoS                 951\n",
      "Generic             335\n",
      "Analysis            268\n",
      "Reconnaissance       74\n",
      "Shellcode            11\n",
      "No Match              7\n",
      "Name: count, dtype: int64\n"
     ]
    },
    {
     "name": "stderr",
     "output_type": "stream",
     "text": [
      "Processing CSVs:  97%|█████████▋| 77/79 [32:44<00:57, 28.81s/it]"
     ]
    },
    {
     "name": "stdout",
     "output_type": "stream",
     "text": [
      "Finished processing 19_processed.csv.\n",
      "Label distribution:\n",
      "label\n",
      "Benign       20332\n",
      "Exploits      7541\n",
      "DoS           5154\n",
      " Fuzzers      2525\n",
      "Generic        312\n",
      "No Match         3\n",
      "Name: count, dtype: int64\n"
     ]
    },
    {
     "name": "stderr",
     "output_type": "stream",
     "text": [
      "Processing CSVs:  99%|█████████▊| 78/79 [33:22<00:31, 31.46s/it]"
     ]
    },
    {
     "name": "stdout",
     "output_type": "stream",
     "text": [
      "Finished processing 9_1000001414_20240905-212854_processed.csv.\n",
      "Label distribution:\n",
      "label\n",
      "Benign            16739\n",
      " Fuzzers           1274\n",
      "Exploits             46\n",
      "No Match             21\n",
      "Reconnaissance       11\n",
      "Name: count, dtype: int64\n"
     ]
    },
    {
     "name": "stderr",
     "output_type": "stream",
     "text": [
      "Processing CSVs: 100%|██████████| 79/79 [34:54<00:00, 26.51s/it]"
     ]
    },
    {
     "name": "stdout",
     "output_type": "stream",
     "text": [
      "Finished processing 16_processed.csv.\n",
      "Label distribution:\n",
      "label\n",
      "Benign       36392\n",
      " Fuzzers      4108\n",
      "Exploits       639\n",
      "DoS            546\n",
      "Generic        144\n",
      "Name: count, dtype: int64\n"
     ]
    },
    {
     "name": "stderr",
     "output_type": "stream",
     "text": [
      "\n"
     ]
    }
   ],
   "source": [
    "import warnings\n",
    "# Suppress all warnings\n",
    "warnings.filterwarnings(\"ignore\")\n",
    "label_csvs(input_folder=\"/scratch/user/syedwali/Datasets/UNSW/processed\", time_ranges_df=meta_data, timezone='None',num_workers=4,\n",
    "          unit='sec',flowduration_col='duration',label_col='attack_cat')"
   ]
  }
 ],
 "metadata": {
  "kernelspec": {
   "display_name": "Python 3 (ipykernel)",
   "language": "python",
   "name": "python3"
  },
  "language_info": {
   "codemirror_mode": {
    "name": "ipython",
    "version": 3
   },
   "file_extension": ".py",
   "mimetype": "text/x-python",
   "name": "python",
   "nbconvert_exporter": "python",
   "pygments_lexer": "ipython3",
   "version": "3.8.6"
  }
 },
 "nbformat": 4,
 "nbformat_minor": 5
}
