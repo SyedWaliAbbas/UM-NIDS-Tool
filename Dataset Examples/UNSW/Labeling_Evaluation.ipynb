{
 "cells": [
  {
   "cell_type": "markdown",
   "id": "33c0422b-30ea-48b1-9334-7767acd86ea0",
   "metadata": {},
   "source": [
    "### Preparing Pre-labeled CSVs from UNSW for processing "
   ]
  },
  {
   "cell_type": "code",
   "execution_count": 1,
   "id": "bc6e6002-f4c3-4195-b8fe-72be6b1f668b",
   "metadata": {},
   "outputs": [],
   "source": [
    "from label.parallel_label import *"
   ]
  },
  {
   "cell_type": "code",
   "execution_count": 2,
   "id": "6bd0777d-ea94-4710-82b2-97d111c4e692",
   "metadata": {},
   "outputs": [],
   "source": [
    "column_names=['src_ip','src_port','dst_ip','dst_port','proto','state','duration','sbytes','dbytes',\n",
    "'sttl','dttl','sloss','dloss','service','Sload','Dload','Spkts','Dpkts','swin','dwin','stcpb','dtcpb',\n",
    "'smeansz','dmeansz','trans_depth','res_bdy_len','Sjit','Djit','timestamp','Ltime','Sintpkt','Dintpkt',\n",
    "'tcprtt','synack','ackdat','is_sm_ips_ports','ct_state_ttl','ct_flw_http_mthd','is_ftp_login',\n",
    "'ct_ftp_cmd','ct_srv_src','ct_srv_dst','ct_dst_ltm','ct_src_ ltm','ct_src_dport_ltm',\n",
    "'ct_dst_sport_ltm','ct_dst_src_ltm','attack_cat','Label']"
   ]
  },
  {
   "cell_type": "markdown",
   "id": "863af066-1c68-4db9-af58-08faae2620a1",
   "metadata": {},
   "source": [
    "Add column names to the csv of unsw. "
   ]
  },
  {
   "cell_type": "code",
   "execution_count": 4,
   "id": "b4cbfdb4-eef5-4e7c-9325-cb040f65ebdb",
   "metadata": {},
   "outputs": [
    {
     "name": "stderr",
     "output_type": "stream",
     "text": [
      "/tmp/job.11310885/ipykernel_63165/1816870050.py:15: DtypeWarning: Columns (1,3,47) have mixed types. Specify dtype option on import or set low_memory=False.\n",
      "  df = pd.read_csv(file_path, header=None)  # Use header=None if there are no existing headers\n"
     ]
    },
    {
     "name": "stdout",
     "output_type": "stream",
     "text": [
      "Processed /scratch/user/syedwali/Datasets/UNSW/provided_CSVs/UNSW-NB15_1.csv: Column names updated.\n",
      "Processed /scratch/user/syedwali/Datasets/UNSW/provided_CSVs/UNSW-NB15_3.csv: Column names updated.\n"
     ]
    },
    {
     "name": "stderr",
     "output_type": "stream",
     "text": [
      "/tmp/job.11310885/ipykernel_63165/1816870050.py:15: DtypeWarning: Columns (3,39,47) have mixed types. Specify dtype option on import or set low_memory=False.\n",
      "  df = pd.read_csv(file_path, header=None)  # Use header=None if there are no existing headers\n"
     ]
    },
    {
     "name": "stdout",
     "output_type": "stream",
     "text": [
      "Processed /scratch/user/syedwali/Datasets/UNSW/provided_CSVs/UNSW-NB15_2.csv: Column names updated.\n",
      "Processed /scratch/user/syedwali/Datasets/UNSW/provided_CSVs/UNSW-NB15_4.csv: Column names updated.\n"
     ]
    }
   ],
   "source": [
    "import os\n",
    "import pandas as pd\n",
    "\n",
    "def process_and_rename_columns(folder_path, new_column_names):\n",
    "    # Ensure the column names list is not empty\n",
    "    if not new_column_names:\n",
    "        raise ValueError(\"New column names list cannot be empty.\")\n",
    "\n",
    "    # Iterate over all files in the specified folder\n",
    "    for filename in os.listdir(folder_path):\n",
    "        if filename.endswith(\".csv\"):\n",
    "            file_path = os.path.join(folder_path, filename)\n",
    "            try:\n",
    "                # Read the CSV file into a DataFrame\n",
    "                df = pd.read_csv(file_path, header=None)  # Use header=None if there are no existing headers\n",
    "\n",
    "                # Check if the number of new column names matches the number of columns in the CSV\n",
    "                if len(new_column_names) != len(df.columns):\n",
    "                    print(f\"Skipping {file_path}: Number of new column names does not match number of columns.\")\n",
    "                    continue\n",
    "\n",
    "                # Set the new column names\n",
    "                df.columns = new_column_names\n",
    "\n",
    "                # Save the DataFrame back to the same CSV file\n",
    "                df.to_csv(file_path, index=False)  # Set index=False to avoid writing row numbers\n",
    "\n",
    "                print(f\"Processed {file_path}: Column names updated.\")\n",
    "\n",
    "            except Exception as e:\n",
    "                print(f\"Failed to process {file_path}: {e}\")\n",
    "\n",
    "folder_path = \"/scratch/user/syedwali/Datasets/UNSW/provided_CSVs\"  # Replace with the path to your folder\n",
    "process_and_rename_columns(folder_path, column_names)\n"
   ]
  },
  {
   "cell_type": "markdown",
   "id": "ac63bae9-fe8e-4c91-ad2e-c68c21e40827",
   "metadata": {},
   "source": [
    "Adding the attack_category column with 'Benign' for entries where it was empty and the label was 0"
   ]
  },
  {
   "cell_type": "code",
   "execution_count": 22,
   "id": "cd98b14e-1b40-4651-a0d5-0a1458fbf809",
   "metadata": {
    "scrolled": true
   },
   "outputs": [
    {
     "name": "stdout",
     "output_type": "stream",
     "text": [
      "File: /scratch/user/syedwali/Datasets/UNSW/provided_CSVs/UNSW-NB15_1.csv\n",
      "attack_cat\n",
      "Benign            677786\n",
      "Generic             7522\n",
      "Exploits            5409\n",
      " Fuzzers            5051\n",
      "Reconnaissance      1759\n",
      "DoS                 1167\n",
      "Backdoors            534\n",
      "Analysis             526\n",
      "Shellcode            223\n",
      "Worms                 24\n",
      "Name: count, dtype: int64\n",
      "Processed and updated /scratch/user/syedwali/Datasets/UNSW/provided_CSVs/UNSW-NB15_1.csv\n",
      "File: /scratch/user/syedwali/Datasets/UNSW/provided_CSVs/UNSW-NB15_3.csv\n",
      "attack_cat\n",
      "Benign              542576\n",
      "Generic             118198\n",
      "Exploits             16574\n",
      " Fuzzers              9137\n",
      "DoS                   5642\n",
      " Reconnaissance       5582\n",
      "Analysis               873\n",
      "Backdoor               759\n",
      " Shellcode             593\n",
      "Worms                   67\n",
      "Name: count, dtype: int64\n",
      "Processed and updated /scratch/user/syedwali/Datasets/UNSW/provided_CSVs/UNSW-NB15_3.csv\n",
      "File: /scratch/user/syedwali/Datasets/UNSW/provided_CSVs/UNSW-NB15_2.csv\n",
      "attack_cat\n",
      "Benign              647252\n",
      "Generic              27883\n",
      "Exploits             11103\n",
      " Fuzzers              4668\n",
      "DoS                   4637\n",
      " Reconnaissance       3116\n",
      "Analysis               608\n",
      "Backdoor               370\n",
      " Shellcode             324\n",
      "Worms                   40\n",
      "Name: count, dtype: int64\n",
      "Processed and updated /scratch/user/syedwali/Datasets/UNSW/provided_CSVs/UNSW-NB15_2.csv\n",
      "File: /scratch/user/syedwali/Datasets/UNSW/provided_CSVs/UNSW-NB15_4.csv\n",
      "attack_cat\n",
      "Benign              351150\n",
      "Generic              61878\n",
      "Exploits             11439\n",
      " Fuzzers              5390\n",
      "DoS                   4907\n",
      " Reconnaissance       3530\n",
      "Analysis               670\n",
      "Backdoor               666\n",
      " Shellcode             371\n",
      "Worms                   43\n",
      "Name: count, dtype: int64\n",
      "Processed and updated /scratch/user/syedwali/Datasets/UNSW/provided_CSVs/UNSW-NB15_4.csv\n"
     ]
    }
   ],
   "source": [
    "import os\n",
    "import pandas as pd\n",
    "\n",
    "def process_and_update_csvs(folder_path):\n",
    "    # Iterate over all files in the specified folder\n",
    "    for filename in os.listdir(folder_path):\n",
    "        if filename.endswith(\".csv\"):\n",
    "            file_path = os.path.join(folder_path, filename)\n",
    "            try:\n",
    "                # Read the CSV file into a DataFrame\n",
    "                df = pd.read_csv(file_path, low_memory=False)\n",
    "                \n",
    "                # Check if 'attack_cat' column exists\n",
    "                if 'attack_cat' in df.columns:\n",
    "                    # Fill empty strings and NaN values in 'attack_cat' with 'Benign'\n",
    "                    df['attack_cat'].replace('', 'Benign', inplace=True)  # Replace empty strings\n",
    "                    df['attack_cat'].fillna('Benign', inplace=True)      # Replace NaN values\n",
    "\n",
    "                    # Show value counts for 'attack_cat'\n",
    "                    print(f\"File: {file_path}\")\n",
    "                    print(df['attack_cat'].value_counts())\n",
    "\n",
    "                    # Save the DataFrame back to the same CSV file\n",
    "                    df.to_csv(file_path, index=False)  # Set index=False to avoid writing row numbers\n",
    "\n",
    "                    print(f\"Processed and updated {file_path}\")\n",
    "\n",
    "                else:\n",
    "                    print(f\"Skipping {file_path}: 'attack_cat' column not found.\")\n",
    "\n",
    "            except Exception as e:\n",
    "                print(f\"Failed to process {file_path}: {e}\")\n",
    "\n",
    "# Example usage\n",
    "folder_path = \"/scratch/user/syedwali/Datasets/UNSW/provided_CSVs\"  # Replace with the path to your folder\n",
    "process_and_update_csvs(folder_path)\n"
   ]
  },
  {
   "cell_type": "markdown",
   "id": "7ece251e-0351-4047-a933-682812f8768e",
   "metadata": {},
   "source": [
    "### Extracting meta data from provided csvs (labeled csv)"
   ]
  },
  {
   "cell_type": "code",
   "execution_count": 1,
   "id": "a05bb44b-d79e-4664-b428-c8822944942c",
   "metadata": {
    "scrolled": true
   },
   "outputs": [
    {
     "name": "stderr",
     "output_type": "stream",
     "text": [
      "INFO:label.parallel_label:Processed /scratch/user/syedwali/Datasets/UNSW/provided_CSVs/UNSW-NB15_4.csv: Min timestamp = 1424249984000, Max timestamp = 1424262068000\n",
      "INFO:label.parallel_label:Processed /scratch/user/syedwali/Datasets/UNSW/provided_CSVs/UNSW-NB15_3.csv: Min timestamp = 1424231099000, Max timestamp = 1424250009000\n",
      "INFO:label.parallel_label:Processed /scratch/user/syedwali/Datasets/UNSW/provided_CSVs/UNSW-NB15_2.csv: Min timestamp = 1421955795000, Max timestamp = 1424231129000\n",
      "INFO:label.parallel_label:Processed /scratch/user/syedwali/Datasets/UNSW/provided_CSVs/UNSW-NB15_1.csv: Min timestamp = 1421927377000, Max timestamp = 1421955842000\n"
     ]
    },
    {
     "name": "stdout",
     "output_type": "stream",
     "text": [
      "                                           file_path  min_timestamp  \\\n",
      "0  /scratch/user/syedwali/Datasets/UNSW/provided_...  1421927377000   \n",
      "1  /scratch/user/syedwali/Datasets/UNSW/provided_...  1424231099000   \n",
      "2  /scratch/user/syedwali/Datasets/UNSW/provided_...  1421955795000   \n",
      "3  /scratch/user/syedwali/Datasets/UNSW/provided_...  1424249984000   \n",
      "\n",
      "   max_timestamp  \n",
      "0  1421955842000  \n",
      "1  1424250009000  \n",
      "2  1424231129000  \n",
      "3  1424262068000  \n"
     ]
    }
   ],
   "source": [
    "from label.parallel_label import *\n",
    "if __name__ == '__main__':\n",
    "    #set_start_method(\"fork\")  # or \"spawn\" depending on your system\n",
    "\n",
    "    # Example usage:\n",
    "    folders = [\"/scratch/user/syedwali/Datasets/UNSW/provided_CSVs\"]\n",
    "\n",
    "    # Step 1: Extract time ranges from CSV files in all folders using multiple cores\n",
    "    meta_data = extract_time_ranges_from_csvs(folders, timestamp_column='timestamp', timezone='None', batch_size=5)\n",
    "\n",
    "    # Print resulting metadata\n",
    "    print(meta_data)"
   ]
  },
  {
   "cell_type": "markdown",
   "id": "3282c7f8-bf28-40f3-b2c6-aabc02a9fc4a",
   "metadata": {},
   "source": [
    "### Labeling"
   ]
  },
  {
   "cell_type": "markdown",
   "id": "8dbd014e-e122-4be7-bb56-a2383ae710ce",
   "metadata": {},
   "source": [
    "We are now labeling our processed CSV files using the labeled CSVs from UNSW. Since UNSW uses Unix timestamps, we are setting the timezone to None. Additionally, Unix timestamps have second-level precision, which we are considering. In the UNSW dataset, the labels are in the column named attack_cat, which we have also defined as function attributes."
   ]
  },
  {
   "cell_type": "code",
   "execution_count": 2,
   "id": "2faaa577-c0ff-4b77-9bbf-ff03528f8b6e",
   "metadata": {
    "scrolled": true
   },
   "outputs": [
    {
     "name": "stderr",
     "output_type": "stream",
     "text": [
      "Processing CSVs:   0%|          | 0/79 [00:00<?, ?it/s]"
     ]
    },
    {
     "name": "stdout",
     "output_type": "stream",
     "text": [
      "Reading: /scratch/user/syedwali/Datasets/UNSW/provided_CSVs/UNSW-NB15_1.csv\n",
      "Reading: /scratch/user/syedwali/Datasets/UNSW/provided_CSVs/UNSW-NB15_1.csv\n",
      "Reading: /scratch/user/syedwali/Datasets/UNSW/provided_CSVs/UNSW-NB15_1.csv\n",
      "Reading: /scratch/user/syedwali/Datasets/UNSW/provided_CSVs/UNSW-NB15_3.csv\n"
     ]
    },
    {
     "name": "stderr",
     "output_type": "stream",
     "text": [
      "Processing CSVs:   1%|▏         | 1/79 [01:52<2:26:03, 112.35s/it]"
     ]
    },
    {
     "name": "stdout",
     "output_type": "stream",
     "text": [
      "Finished processing 11_1000000075_20240905-205247_processed.csv.\n",
      "Label distribution:\n",
      "label\n",
      "Benign    18001\n",
      "Name: count, dtype: int64\n"
     ]
    },
    {
     "name": "stderr",
     "output_type": "stream",
     "text": [
      "Processing CSVs:   3%|▎         | 2/79 [01:53<1:00:34, 47.21s/it] "
     ]
    },
    {
     "name": "stdout",
     "output_type": "stream",
     "text": [
      "Finished processing 14_1028986624_20240905-211644_processed.csv.\n",
      "Label distribution:\n",
      "label\n",
      "Benign      18478\n",
      "No Match        2\n",
      "Name: count, dtype: int64\n",
      "Finished processing 3_1000000694_20240905-205641_processed.csv.\n",
      "Label distribution:\n",
      "label\n",
      "Benign            17366\n",
      "Exploits            428\n",
      " Fuzzers            231\n",
      "Reconnaissance      211\n",
      "DoS                  72\n",
      "Generic              58\n",
      "Shellcode            24\n",
      "Backdoors             3\n",
      "No Match              2\n",
      "Worms                 2\n",
      "Name: count, dtype: int64\n",
      "Reading: /scratch/user/syedwali/Datasets/UNSW/provided_CSVs/UNSW-NB15_1.csv\n",
      "Reading: /scratch/user/syedwali/Datasets/UNSW/provided_CSVs/UNSW-NB15_2.csv\n",
      "Reading: /scratch/user/syedwali/Datasets/UNSW/provided_CSVs/UNSW-NB15_3.csv\n",
      "Reading: /scratch/user/syedwali/Datasets/UNSW/provided_CSVs/UNSW-NB15_2.csv\n"
     ]
    },
    {
     "name": "stderr",
     "output_type": "stream",
     "text": [
      "Processing CSVs:   5%|▌         | 4/79 [04:09<1:15:04, 60.06s/it]"
     ]
    },
    {
     "name": "stdout",
     "output_type": "stream",
     "text": [
      "Finished processing 31_processed.csv.\n",
      "Label distribution:\n",
      "label\n",
      "Benign      24322\n",
      "No Match        1\n",
      "Name: count, dtype: int64\n"
     ]
    },
    {
     "name": "stderr",
     "output_type": "stream",
     "text": [
      "Processing CSVs:   6%|▋         | 5/79 [04:24<56:53, 46.13s/it]  "
     ]
    },
    {
     "name": "stdout",
     "output_type": "stream",
     "text": [
      "Finished processing 41_processed.csv.\n",
      "Label distribution:\n",
      "label\n",
      "Benign      27352\n",
      "No Match        2\n",
      "Name: count, dtype: int64\n",
      "Reading: /scratch/user/syedwali/Datasets/UNSW/provided_CSVs/UNSW-NB15_1.csv\n",
      "Reading: /scratch/user/syedwali/Datasets/UNSW/provided_CSVs/UNSW-NB15_2.csv\n",
      "Reading: /scratch/user/syedwali/Datasets/UNSW/provided_CSVs/UNSW-NB15_2.csv\n"
     ]
    },
    {
     "name": "stderr",
     "output_type": "stream",
     "text": [
      "Processing CSVs:   8%|▊         | 6/79 [06:09<1:18:10, 64.25s/it]"
     ]
    },
    {
     "name": "stdout",
     "output_type": "stream",
     "text": [
      "Finished processing 35_processed.csv.\n",
      "Label distribution:\n",
      "label\n",
      "Benign      16754\n",
      "No Match        2\n",
      "Name: count, dtype: int64\n"
     ]
    },
    {
     "name": "stderr",
     "output_type": "stream",
     "text": [
      "Processing CSVs:   9%|▉         | 7/79 [06:09<53:43, 44.78s/it]  "
     ]
    },
    {
     "name": "stdout",
     "output_type": "stream",
     "text": [
      "Finished processing 33_processed.csv.\n",
      "Label distribution:\n",
      "label\n",
      "Benign    17940\n",
      "Name: count, dtype: int64\n",
      "Reading: /scratch/user/syedwali/Datasets/UNSW/provided_CSVs/UNSW-NB15_2.csv\n",
      "Reading: /scratch/user/syedwali/Datasets/UNSW/provided_CSVs/UNSW-NB15_2.csv\n"
     ]
    },
    {
     "name": "stderr",
     "output_type": "stream",
     "text": [
      "Processing CSVs:  10%|█         | 8/79 [07:20<1:02:20, 52.68s/it]"
     ]
    },
    {
     "name": "stdout",
     "output_type": "stream",
     "text": [
      "Finished processing 53_processed.csv.\n",
      "Label distribution:\n",
      "label\n",
      "Benign    13020\n",
      "Name: count, dtype: int64\n",
      "Reading: /scratch/user/syedwali/Datasets/UNSW/provided_CSVs/UNSW-NB15_2.csv\n"
     ]
    },
    {
     "name": "stderr",
     "output_type": "stream",
     "text": [
      "Processing CSVs:  11%|█▏        | 9/79 [07:58<56:20, 48.29s/it]  "
     ]
    },
    {
     "name": "stdout",
     "output_type": "stream",
     "text": [
      "Finished processing 46_processed.csv.\n",
      "Label distribution:\n",
      "label\n",
      "Benign    18138\n",
      "Name: count, dtype: int64\n",
      "Reading: /scratch/user/syedwali/Datasets/UNSW/provided_CSVs/UNSW-NB15_1.csv\n"
     ]
    },
    {
     "name": "stderr",
     "output_type": "stream",
     "text": [
      "Processing CSVs:  13%|█▎        | 10/79 [09:21<1:07:27, 58.66s/it]"
     ]
    },
    {
     "name": "stdout",
     "output_type": "stream",
     "text": [
      "Finished processing 11_processed.csv.\n",
      "Label distribution:\n",
      "label\n",
      "Benign              36503\n",
      "Exploits             1121\n",
      " Fuzzers              455\n",
      " Reconnaissance       420\n",
      "DoS                   161\n",
      "Generic               159\n",
      " Shellcode             54\n",
      "Backdoor               31\n",
      "Worms                   9\n",
      "Analysis                3\n",
      "No Match                2\n",
      "Name: count, dtype: int64\n",
      "Reading: /scratch/user/syedwali/Datasets/UNSW/provided_CSVs/UNSW-NB15_1.csv\n"
     ]
    },
    {
     "name": "stderr",
     "output_type": "stream",
     "text": [
      "Processing CSVs:  14%|█▍        | 11/79 [11:10<1:23:34, 73.74s/it]"
     ]
    },
    {
     "name": "stdout",
     "output_type": "stream",
     "text": [
      "Finished processing 19_1028414664_20240905-211405_processed.csv.\n",
      "Label distribution:\n",
      "label\n",
      "Benign    17651\n",
      "Name: count, dtype: int64\n",
      "Reading: /scratch/user/syedwali/Datasets/UNSW/provided_CSVs/UNSW-NB15_2.csv\n"
     ]
    },
    {
     "name": "stderr",
     "output_type": "stream",
     "text": [
      "Processing CSVs:  15%|█▌        | 12/79 [12:01<1:14:42, 66.91s/it]"
     ]
    },
    {
     "name": "stdout",
     "output_type": "stream",
     "text": [
      "Finished processing 32_processed.csv.\n",
      "Label distribution:\n",
      "label\n",
      "Benign    17635\n",
      "Name: count, dtype: int64\n",
      "Reading: /scratch/user/syedwali/Datasets/UNSW/provided_CSVs/UNSW-NB15_1.csv\n"
     ]
    },
    {
     "name": "stderr",
     "output_type": "stream",
     "text": [
      "Processing CSVs:  16%|█▋        | 13/79 [12:54<1:09:03, 62.78s/it]"
     ]
    },
    {
     "name": "stdout",
     "output_type": "stream",
     "text": [
      "Finished processing 1_processed.csv.\n",
      "Label distribution:\n",
      "label\n",
      "Benign              15144\n",
      "Exploits              337\n",
      " Fuzzers              330\n",
      "No Match              172\n",
      " Reconnaissance       141\n",
      "Generic                48\n",
      "DoS                    47\n",
      " Shellcode             20\n",
      "Worms                   3\n",
      "Backdoor                2\n",
      "Name: count, dtype: int64\n"
     ]
    },
    {
     "name": "stderr",
     "output_type": "stream",
     "text": [
      "Processing CSVs:  18%|█▊        | 14/79 [13:05<51:02, 47.11s/it]  "
     ]
    },
    {
     "name": "stdout",
     "output_type": "stream",
     "text": [
      "Finished processing 7_processed.csv.\n",
      "Label distribution:\n",
      "label\n",
      "Benign              35826\n",
      "Exploits             1105\n",
      " Fuzzers              702\n",
      " Reconnaissance       418\n",
      "Generic               157\n",
      "DoS                   147\n",
      " Shellcode             58\n",
      "Worms                  10\n",
      "Backdoor               10\n",
      "No Match                4\n",
      "Analysis                1\n",
      "Name: count, dtype: int64\n",
      "Reading: /scratch/user/syedwali/Datasets/UNSW/provided_CSVs/UNSW-NB15_2.csv\n",
      "Reading: /scratch/user/syedwali/Datasets/UNSW/provided_CSVs/UNSW-NB15_4.csv\n"
     ]
    },
    {
     "name": "stderr",
     "output_type": "stream",
     "text": [
      "Processing CSVs:  19%|█▉        | 15/79 [13:55<51:19, 48.12s/it]"
     ]
    },
    {
     "name": "stdout",
     "output_type": "stream",
     "text": [
      "Finished processing 4_1000000277_20240905-215800_processed.csv.\n",
      "Label distribution:\n",
      "label\n",
      "Benign            17876\n",
      "Exploits            430\n",
      " Fuzzers            211\n",
      "Reconnaissance      189\n",
      "DoS                  67\n",
      "Generic              63\n",
      "Shellcode            23\n",
      "Backdoors             6\n",
      "Worms                 2\n",
      "No Match              2\n",
      "Name: count, dtype: int64\n",
      "Reading: /scratch/user/syedwali/Datasets/UNSW/provided_CSVs/UNSW-NB15_2.csv\n"
     ]
    },
    {
     "name": "stderr",
     "output_type": "stream",
     "text": [
      "Processing CSVs:  20%|██        | 16/79 [14:31<46:37, 44.40s/it]"
     ]
    },
    {
     "name": "stdout",
     "output_type": "stream",
     "text": [
      "Finished processing 3_processed.csv.\n",
      "Label distribution:\n",
      "label\n",
      "Benign              37405\n",
      "Exploits             1034\n",
      " Fuzzers              624\n",
      " Reconnaissance       431\n",
      "Generic               203\n",
      "DoS                   175\n",
      " Shellcode             56\n",
      "Backdoor               16\n",
      "Worms                   9\n",
      "Analysis                3\n",
      "No Match                3\n",
      "Name: count, dtype: int64\n"
     ]
    },
    {
     "name": "stderr",
     "output_type": "stream",
     "text": [
      "Processing CSVs:  22%|██▏       | 17/79 [14:57<40:04, 38.78s/it]"
     ]
    },
    {
     "name": "stdout",
     "output_type": "stream",
     "text": [
      "Finished processing 51_processed.csv.\n",
      "Label distribution:\n",
      "label\n",
      "Benign    18595\n",
      "Name: count, dtype: int64\n",
      "Reading: /scratch/user/syedwali/Datasets/UNSW/provided_CSVs/UNSW-NB15_2.csv\n",
      "Reading: /scratch/user/syedwali/Datasets/UNSW/provided_CSVs/UNSW-NB15_4.csv\n"
     ]
    },
    {
     "name": "stderr",
     "output_type": "stream",
     "text": [
      "Processing CSVs:  23%|██▎       | 18/79 [16:01<47:10, 46.41s/it]"
     ]
    },
    {
     "name": "stdout",
     "output_type": "stream",
     "text": [
      "Finished processing 50_processed.csv.\n",
      "Label distribution:\n",
      "label\n",
      "Benign      21959\n",
      "No Match        2\n",
      "Name: count, dtype: int64\n",
      "Reading: /scratch/user/syedwali/Datasets/UNSW/provided_CSVs/UNSW-NB15_1.csv\n",
      "Reading: /scratch/user/syedwali/Datasets/UNSW/provided_CSVs/UNSW-NB15_3.csv\n",
      "Reading: /scratch/user/syedwali/Datasets/UNSW/provided_CSVs/UNSW-NB15_2.csv\n",
      "Reading: /scratch/user/syedwali/Datasets/UNSW/provided_CSVs/UNSW-NB15_4.csv\n"
     ]
    },
    {
     "name": "stderr",
     "output_type": "stream",
     "text": [
      "Processing CSVs:  24%|██▍       | 19/79 [19:26<1:34:03, 94.05s/it]"
     ]
    },
    {
     "name": "stdout",
     "output_type": "stream",
     "text": [
      "Finished processing 6_processed.csv.\n",
      "Label distribution:\n",
      "label\n",
      "Benign              38782\n",
      "Exploits              881\n",
      " Fuzzers              414\n",
      " Reconnaissance       401\n",
      "DoS                   136\n",
      "Generic               126\n",
      " Shellcode             50\n",
      "Backdoor               11\n",
      "Worms                   4\n",
      "No Match                3\n",
      "Name: count, dtype: int64\n",
      "Reading: /scratch/user/syedwali/Datasets/UNSW/provided_CSVs/UNSW-NB15_1.csv\n"
     ]
    },
    {
     "name": "stderr",
     "output_type": "stream",
     "text": [
      "Processing CSVs:  25%|██▌       | 20/79 [21:19<1:38:03, 99.71s/it]"
     ]
    },
    {
     "name": "stdout",
     "output_type": "stream",
     "text": [
      "Finished processing 30_processed.csv.\n",
      "Label distribution:\n",
      "label\n",
      "Benign    18987\n",
      "Name: count, dtype: int64\n",
      "Reading: /scratch/user/syedwali/Datasets/UNSW/provided_CSVs/UNSW-NB15_2.csv\n"
     ]
    },
    {
     "name": "stderr",
     "output_type": "stream",
     "text": [
      "Processing CSVs:  27%|██▋       | 21/79 [22:44<1:32:13, 95.41s/it]"
     ]
    },
    {
     "name": "stdout",
     "output_type": "stream",
     "text": [
      "Finished processing 20_processed.csv.\n",
      "Label distribution:\n",
      "label\n",
      "Benign              38418\n",
      "Exploits             1026\n",
      " Reconnaissance       421\n",
      " Fuzzers              372\n",
      "Generic               165\n",
      "DoS                   149\n",
      " Shellcode             58\n",
      "Backdoor               17\n",
      "Worms                   7\n",
      "Analysis                5\n",
      "No Match                2\n",
      "Name: count, dtype: int64\n"
     ]
    },
    {
     "name": "stderr",
     "output_type": "stream",
     "text": [
      "Processing CSVs:  28%|██▊       | 22/79 [23:13<1:11:42, 75.49s/it]"
     ]
    },
    {
     "name": "stdout",
     "output_type": "stream",
     "text": [
      "Finished processing 45_processed.csv.\n",
      "Label distribution:\n",
      "label\n",
      "Benign    19232\n",
      "Name: count, dtype: int64\n",
      "Reading: /scratch/user/syedwali/Datasets/UNSW/provided_CSVs/UNSW-NB15_3.csv\n",
      "Reading: /scratch/user/syedwali/Datasets/UNSW/provided_CSVs/UNSW-NB15_4.csv\n"
     ]
    },
    {
     "name": "stderr",
     "output_type": "stream",
     "text": [
      "Processing CSVs:  29%|██▉       | 23/79 [24:03<1:03:16, 67.80s/it]"
     ]
    },
    {
     "name": "stdout",
     "output_type": "stream",
     "text": [
      "Finished processing 25_processed.csv.\n",
      "Label distribution:\n",
      "label\n",
      "Benign              38033\n",
      "Exploits             1045\n",
      " Fuzzers              797\n",
      " Reconnaissance       425\n",
      "Generic               172\n",
      "DoS                   168\n",
      " Shellcode             56\n",
      "Backdoor               17\n",
      "Worms                   9\n",
      "No Match                3\n",
      "Analysis                1\n",
      "Name: count, dtype: int64\n",
      "Reading: /scratch/user/syedwali/Datasets/UNSW/provided_CSVs/UNSW-NB15_4.csv\n"
     ]
    },
    {
     "name": "stderr",
     "output_type": "stream",
     "text": [
      "Processing CSVs:  30%|███       | 24/79 [27:37<1:42:22, 111.68s/it]"
     ]
    },
    {
     "name": "stdout",
     "output_type": "stream",
     "text": [
      "Finished processing 10_processed.csv.\n",
      "Label distribution:\n",
      "label\n",
      "Benign              35937\n",
      "Exploits              850\n",
      " Fuzzers              475\n",
      " Reconnaissance       392\n",
      "Generic               137\n",
      "DoS                   117\n",
      " Shellcode             53\n",
      "Backdoor               15\n",
      "Worms                   4\n",
      "No Match                3\n",
      "Name: count, dtype: int64\n",
      "Reading: /scratch/user/syedwali/Datasets/UNSW/provided_CSVs/UNSW-NB15_1.csv\n"
     ]
    },
    {
     "name": "stderr",
     "output_type": "stream",
     "text": [
      "Processing CSVs:  32%|███▏      | 25/79 [29:38<1:42:54, 114.35s/it]"
     ]
    },
    {
     "name": "stdout",
     "output_type": "stream",
     "text": [
      "Finished processing 25_1029881776_20240905-214109_processed.csv.\n",
      "Label distribution:\n",
      "label\n",
      "Benign    20768\n",
      "Name: count, dtype: int64\n",
      "Reading: /scratch/user/syedwali/Datasets/UNSW/provided_CSVs/UNSW-NB15_2.csv\n"
     ]
    },
    {
     "name": "stderr",
     "output_type": "stream",
     "text": [
      "Processing CSVs:  33%|███▎      | 26/79 [31:29<1:40:09, 113.38s/it]"
     ]
    },
    {
     "name": "stdout",
     "output_type": "stream",
     "text": [
      "Finished processing 34_processed.csv.\n",
      "Label distribution:\n",
      "label\n",
      "Benign    18543\n",
      "Name: count, dtype: int64\n",
      "Reading: /scratch/user/syedwali/Datasets/UNSW/provided_CSVs/UNSW-NB15_1.csv\n"
     ]
    },
    {
     "name": "stderr",
     "output_type": "stream",
     "text": [
      "Processing CSVs:  34%|███▍      | 27/79 [32:46<1:28:55, 102.60s/it]"
     ]
    },
    {
     "name": "stdout",
     "output_type": "stream",
     "text": [
      "Finished processing 22_processed.csv.\n",
      "Label distribution:\n",
      "label\n",
      "Benign              39684\n",
      "Exploits              794\n",
      " Fuzzers              583\n",
      " Reconnaissance       380\n",
      "DoS                   110\n",
      "Generic               107\n",
      "Analysis               59\n",
      " Shellcode             46\n",
      "No Match               37\n",
      "Backdoor               11\n",
      "Worms                   3\n",
      "Name: count, dtype: int64\n",
      "Reading: /scratch/user/syedwali/Datasets/UNSW/provided_CSVs/UNSW-NB15_2.csv\n"
     ]
    },
    {
     "name": "stderr",
     "output_type": "stream",
     "text": [
      "Processing CSVs:  35%|███▌      | 28/79 [33:41<1:14:59, 88.22s/it] "
     ]
    },
    {
     "name": "stdout",
     "output_type": "stream",
     "text": [
      "Finished processing 1_1000000847_20240905-213056_processed.csv.\n",
      "Label distribution:\n",
      "label\n",
      "Benign            21390\n",
      " Fuzzers            707\n",
      "Exploits            503\n",
      "Reconnaissance      210\n",
      "DoS                  67\n",
      "Generic              67\n",
      "Shellcode            30\n",
      "Worms                 4\n",
      "Backdoors             3\n",
      "No Match              2\n",
      "Name: count, dtype: int64\n"
     ]
    },
    {
     "name": "stderr",
     "output_type": "stream",
     "text": [
      "Processing CSVs:  37%|███▋      | 29/79 [33:49<53:32, 64.25s/it]  "
     ]
    },
    {
     "name": "stdout",
     "output_type": "stream",
     "text": [
      "Finished processing 21_processed.csv.\n",
      "Label distribution:\n",
      "label\n",
      "Benign              37864\n",
      "Exploits              919\n",
      " Fuzzers              546\n",
      " Reconnaissance       403\n",
      "Generic               153\n",
      "DoS                   126\n",
      " Shellcode             51\n",
      "Backdoor               14\n",
      "Worms                   6\n",
      "No Match                5\n",
      "Analysis                1\n",
      "Name: count, dtype: int64\n",
      "Reading: /scratch/user/syedwali/Datasets/UNSW/provided_CSVs/UNSW-NB15_1.csv\n",
      "Reading: /scratch/user/syedwali/Datasets/UNSW/provided_CSVs/UNSW-NB15_3.csv\n"
     ]
    },
    {
     "name": "stderr",
     "output_type": "stream",
     "text": [
      "Processing CSVs:  38%|███▊      | 30/79 [34:29<46:33, 57.01s/it]"
     ]
    },
    {
     "name": "stdout",
     "output_type": "stream",
     "text": [
      "Finished processing 43_processed.csv.\n",
      "Label distribution:\n",
      "label\n",
      "Benign    16263\n",
      "Name: count, dtype: int64\n",
      "Reading: /scratch/user/syedwali/Datasets/UNSW/provided_CSVs/UNSW-NB15_2.csv\n"
     ]
    },
    {
     "name": "stderr",
     "output_type": "stream",
     "text": [
      "Processing CSVs:  39%|███▉      | 31/79 [35:16<43:01, 53.79s/it]"
     ]
    },
    {
     "name": "stdout",
     "output_type": "stream",
     "text": [
      "Finished processing 23_processed.csv.\n",
      "Label distribution:\n",
      "label\n",
      "No Match            40607\n",
      "Benign              24884\n",
      " Fuzzers              608\n",
      "Exploits              585\n",
      " Reconnaissance       248\n",
      "Generic                87\n",
      "DoS                    78\n",
      " Shellcode             33\n",
      "Backdoor               12\n",
      "Worms                   3\n",
      "Analysis                1\n",
      "Name: count, dtype: int64\n",
      "Reading: /scratch/user/syedwali/Datasets/UNSW/provided_CSVs/UNSW-NB15_2.csv\n"
     ]
    },
    {
     "name": "stderr",
     "output_type": "stream",
     "text": [
      "Processing CSVs:  41%|████      | 32/79 [35:49<37:22, 47.70s/it]"
     ]
    },
    {
     "name": "stdout",
     "output_type": "stream",
     "text": [
      "Finished processing 26_1030712176_20240905-205051_processed.csv.\n",
      "Label distribution:\n",
      "label\n",
      "Benign    20604\n",
      "Name: count, dtype: int64\n",
      "Reading: /scratch/user/syedwali/Datasets/UNSW/provided_CSVs/UNSW-NB15_1.csv\n"
     ]
    },
    {
     "name": "stderr",
     "output_type": "stream",
     "text": [
      "Processing CSVs:  42%|████▏     | 33/79 [36:29<34:52, 45.48s/it]"
     ]
    },
    {
     "name": "stdout",
     "output_type": "stream",
     "text": [
      "Finished processing 40_processed.csv.\n",
      "Label distribution:\n",
      "label\n",
      "Benign    20915\n",
      "Name: count, dtype: int64\n",
      "Reading: /scratch/user/syedwali/Datasets/UNSW/provided_CSVs/UNSW-NB15_2.csv\n"
     ]
    },
    {
     "name": "stderr",
     "output_type": "stream",
     "text": [
      "Processing CSVs:  43%|████▎     | 34/79 [38:27<50:24, 67.21s/it]"
     ]
    },
    {
     "name": "stdout",
     "output_type": "stream",
     "text": [
      "Finished processing 5_1000000832_20240905-202039_processed.csv.\n",
      "Label distribution:\n",
      "label\n",
      "Benign            18202\n",
      " Fuzzers            829\n",
      "Exploits            475\n",
      "Reconnaissance      214\n",
      "Generic              66\n",
      "DoS                  66\n",
      "Shellcode            29\n",
      "Analysis             14\n",
      "Backdoors             8\n",
      "Worms                 7\n",
      "No Match              3\n",
      "Name: count, dtype: int64\n"
     ]
    },
    {
     "name": "stderr",
     "output_type": "stream",
     "text": [
      "Processing CSVs:  44%|████▍     | 35/79 [38:33<35:46, 48.79s/it]"
     ]
    },
    {
     "name": "stdout",
     "output_type": "stream",
     "text": [
      "Finished processing 48_processed.csv.\n",
      "Label distribution:\n",
      "label\n",
      "Benign    21760\n",
      "Name: count, dtype: int64\n",
      "Reading: /scratch/user/syedwali/Datasets/UNSW/provided_CSVs/UNSW-NB15_1.csv\n",
      "Reading: /scratch/user/syedwali/Datasets/UNSW/provided_CSVs/UNSW-NB15_1.csv\n"
     ]
    },
    {
     "name": "stderr",
     "output_type": "stream",
     "text": [
      "Processing CSVs:  46%|████▌     | 36/79 [40:50<53:55, 75.24s/it]"
     ]
    },
    {
     "name": "stdout",
     "output_type": "stream",
     "text": [
      "Finished processing 16_1030797880_20240905-210615_processed.csv.\n",
      "Label distribution:\n",
      "label\n",
      "Benign    20498\n",
      "Name: count, dtype: int64\n"
     ]
    },
    {
     "name": "stderr",
     "output_type": "stream",
     "text": [
      "Processing CSVs:  47%|████▋     | 37/79 [40:53<37:28, 53.54s/it]"
     ]
    },
    {
     "name": "stdout",
     "output_type": "stream",
     "text": [
      "Finished processing 15_1000000964_20240905-203852_processed.csv.\n",
      "Label distribution:\n",
      "label\n",
      "Benign    21049\n",
      "Name: count, dtype: int64\n",
      "Reading: /scratch/user/syedwali/Datasets/UNSW/provided_CSVs/UNSW-NB15_2.csv\n",
      "Reading: /scratch/user/syedwali/Datasets/UNSW/provided_CSVs/UNSW-NB15_2.csv\n"
     ]
    },
    {
     "name": "stderr",
     "output_type": "stream",
     "text": [
      "Processing CSVs:  48%|████▊     | 38/79 [42:26<44:38, 65.33s/it]"
     ]
    },
    {
     "name": "stdout",
     "output_type": "stream",
     "text": [
      "Finished processing 4_processed.csv.\n",
      "Label distribution:\n",
      "label\n",
      "Benign              36818\n",
      "Exploits              925\n",
      " Fuzzers              705\n",
      " Reconnaissance       415\n",
      "DoS                   133\n",
      "Generic               124\n",
      "Analysis               59\n",
      " Shellcode             53\n",
      "No Match               23\n",
      "Backdoor               17\n",
      "Worms                   4\n",
      "Name: count, dtype: int64\n"
     ]
    },
    {
     "name": "stderr",
     "output_type": "stream",
     "text": [
      "Processing CSVs:  49%|████▉     | 39/79 [42:56<36:31, 54.79s/it]"
     ]
    },
    {
     "name": "stdout",
     "output_type": "stream",
     "text": [
      "Finished processing 37_processed.csv.\n",
      "Label distribution:\n",
      "label\n",
      "Benign    21614\n",
      "Name: count, dtype: int64\n",
      "Reading: /scratch/user/syedwali/Datasets/UNSW/provided_CSVs/UNSW-NB15_3.csv\n"
     ]
    },
    {
     "name": "stderr",
     "output_type": "stream",
     "text": [
      "Processing CSVs:  51%|█████     | 40/79 [43:03<26:21, 40.54s/it]"
     ]
    },
    {
     "name": "stdout",
     "output_type": "stream",
     "text": [
      "Finished processing 36_processed.csv.\n",
      "Label distribution:\n",
      "label\n",
      "Benign      22561\n",
      "No Match        2\n",
      "Name: count, dtype: int64\n"
     ]
    },
    {
     "name": "stderr",
     "output_type": "stream",
     "text": [
      "Processing CSVs:  52%|█████▏    | 41/79 [43:06<18:32, 29.27s/it]"
     ]
    },
    {
     "name": "stdout",
     "output_type": "stream",
     "text": [
      "Finished processing 12_processed.csv.\n",
      "Label distribution:\n",
      "label\n",
      "Benign              36120\n",
      "Exploits              820\n",
      " Fuzzers              552\n",
      " Reconnaissance       399\n",
      "Generic               149\n",
      "DoS                   116\n",
      "Analysis               53\n",
      " Shellcode             51\n",
      "Backdoor               16\n",
      "No Match                5\n",
      "Worms                   4\n",
      "Name: count, dtype: int64\n",
      "Reading: /scratch/user/syedwali/Datasets/UNSW/provided_CSVs/UNSW-NB15_1.csv\n",
      "Reading: /scratch/user/syedwali/Datasets/UNSW/provided_CSVs/UNSW-NB15_1.csv\n",
      "Reading: /scratch/user/syedwali/Datasets/UNSW/provided_CSVs/UNSW-NB15_4.csv\n"
     ]
    },
    {
     "name": "stderr",
     "output_type": "stream",
     "text": [
      "Processing CSVs:  53%|█████▎    | 42/79 [44:59<33:23, 54.14s/it]"
     ]
    },
    {
     "name": "stdout",
     "output_type": "stream",
     "text": [
      "Finished processing 23_1029096252_20240905-213450_processed.csv.\n",
      "Label distribution:\n",
      "label\n",
      "Benign    18550\n",
      "Name: count, dtype: int64\n"
     ]
    },
    {
     "name": "stderr",
     "output_type": "stream",
     "text": [
      "Processing CSVs:  54%|█████▍    | 43/79 [45:02<23:17, 38.81s/it]"
     ]
    },
    {
     "name": "stdout",
     "output_type": "stream",
     "text": [
      "Finished processing 17_1030213624_20240905-203030_processed.csv.\n",
      "Label distribution:\n",
      "label\n",
      "Benign      20053\n",
      "No Match        2\n",
      "Name: count, dtype: int64\n",
      "Reading: /scratch/user/syedwali/Datasets/UNSW/provided_CSVs/UNSW-NB15_3.csv\n",
      "Reading: /scratch/user/syedwali/Datasets/UNSW/provided_CSVs/UNSW-NB15_3.csv\n"
     ]
    },
    {
     "name": "stderr",
     "output_type": "stream",
     "text": [
      "Processing CSVs:  56%|█████▌    | 44/79 [46:58<36:17, 62.21s/it]"
     ]
    },
    {
     "name": "stdout",
     "output_type": "stream",
     "text": [
      "Finished processing 14_processed.csv.\n",
      "Label distribution:\n",
      "label\n",
      "Benign              34156\n",
      " Fuzzers              808\n",
      "Exploits              796\n",
      " Reconnaissance       359\n",
      "Generic               134\n",
      "DoS                   103\n",
      " Shellcode             45\n",
      "Backdoor               17\n",
      "Worms                   6\n",
      "No Match                4\n",
      "Name: count, dtype: int64\n",
      "Reading: /scratch/user/syedwali/Datasets/UNSW/provided_CSVs/UNSW-NB15_4.csv\n"
     ]
    },
    {
     "name": "stderr",
     "output_type": "stream",
     "text": [
      "Processing CSVs:  57%|█████▋    | 45/79 [49:41<52:15, 92.21s/it]"
     ]
    },
    {
     "name": "stdout",
     "output_type": "stream",
     "text": [
      "Finished processing 15_processed.csv.\n",
      "Label distribution:\n",
      "label\n",
      "Benign              34486\n",
      "Exploits              912\n",
      " Reconnaissance       376\n",
      " Fuzzers              347\n",
      "DoS                   149\n",
      "Generic               122\n",
      " Shellcode             50\n",
      "Backdoor                8\n",
      "Worms                   6\n",
      "No Match                3\n",
      "Name: count, dtype: int64\n",
      "Reading: /scratch/user/syedwali/Datasets/UNSW/provided_CSVs/UNSW-NB15_3.csv\n"
     ]
    },
    {
     "name": "stderr",
     "output_type": "stream",
     "text": [
      "Processing CSVs:  58%|█████▊    | 46/79 [51:58<58:12, 105.82s/it]"
     ]
    },
    {
     "name": "stdout",
     "output_type": "stream",
     "text": [
      "Finished processing 26_processed.csv.\n",
      "Label distribution:\n",
      "label\n",
      "Benign              38867\n",
      "Exploits              862\n",
      " Fuzzers              665\n",
      " Reconnaissance       390\n",
      "Generic               123\n",
      "DoS                   118\n",
      "Analysis               55\n",
      " Shellcode             49\n",
      "Backdoor               15\n",
      "No Match                4\n",
      "Worms                   3\n",
      "Name: count, dtype: int64\n"
     ]
    },
    {
     "name": "stderr",
     "output_type": "stream",
     "text": [
      "Processing CSVs:  59%|█████▉    | 47/79 [52:05<40:40, 76.26s/it] "
     ]
    },
    {
     "name": "stdout",
     "output_type": "stream",
     "text": [
      "Finished processing 24_processed.csv.\n",
      "Label distribution:\n",
      "label\n",
      "Benign              38286\n",
      "Exploits              954\n",
      " Reconnaissance       440\n",
      " Fuzzers              392\n",
      "DoS                   147\n",
      "Generic               139\n",
      " Shellcode             55\n",
      "Backdoor               11\n",
      "Worms                   5\n",
      "No Match                1\n",
      "Name: count, dtype: int64\n",
      "Reading: /scratch/user/syedwali/Datasets/UNSW/provided_CSVs/UNSW-NB15_2.csv\n",
      "Reading: /scratch/user/syedwali/Datasets/UNSW/provided_CSVs/UNSW-NB15_2.csv\n"
     ]
    },
    {
     "name": "stderr",
     "output_type": "stream",
     "text": [
      "Processing CSVs:  61%|██████    | 48/79 [53:58<44:57, 87.03s/it]"
     ]
    },
    {
     "name": "stdout",
     "output_type": "stream",
     "text": [
      "Finished processing 44_processed.csv.\n",
      "Label distribution:\n",
      "label\n",
      "Benign    17881\n",
      "Name: count, dtype: int64\n"
     ]
    },
    {
     "name": "stderr",
     "output_type": "stream",
     "text": [
      "Processing CSVs:  62%|██████▏   | 49/79 [54:00<30:45, 61.53s/it]"
     ]
    },
    {
     "name": "stdout",
     "output_type": "stream",
     "text": [
      "Finished processing 49_processed.csv.\n",
      "Label distribution:\n",
      "label\n",
      "Benign    21192\n",
      "Name: count, dtype: int64\n",
      "Reading: /scratch/user/syedwali/Datasets/UNSW/provided_CSVs/UNSW-NB15_1.csv\n",
      "Reading: /scratch/user/syedwali/Datasets/UNSW/provided_CSVs/UNSW-NB15_3.csv\n"
     ]
    },
    {
     "name": "stderr",
     "output_type": "stream",
     "text": [
      "Processing CSVs:  63%|██████▎   | 50/79 [54:33<25:42, 53.18s/it]"
     ]
    },
    {
     "name": "stdout",
     "output_type": "stream",
     "text": [
      "Finished processing 9_processed.csv.\n",
      "Label distribution:\n",
      "label\n",
      "Benign              38091\n",
      " Fuzzers             1044\n",
      "Exploits              920\n",
      " Reconnaissance       417\n",
      "DoS                   141\n",
      "Generic               122\n",
      " Shellcode             55\n",
      "Backdoor               13\n",
      "Worms                   6\n",
      "No Match                5\n",
      "Analysis                3\n",
      "Name: count, dtype: int64\n",
      "Reading: /scratch/user/syedwali/Datasets/UNSW/provided_CSVs/UNSW-NB15_2.csv\n"
     ]
    },
    {
     "name": "stderr",
     "output_type": "stream",
     "text": [
      "Processing CSVs:  65%|██████▍   | 51/79 [56:23<32:43, 70.12s/it]"
     ]
    },
    {
     "name": "stdout",
     "output_type": "stream",
     "text": [
      "Finished processing 42_processed.csv.\n",
      "Label distribution:\n",
      "label\n",
      "Benign      18375\n",
      "No Match        2\n",
      "Name: count, dtype: int64\n",
      "Reading: /scratch/user/syedwali/Datasets/UNSW/provided_CSVs/UNSW-NB15_1.csv\n"
     ]
    },
    {
     "name": "stderr",
     "output_type": "stream",
     "text": [
      "Processing CSVs:  66%|██████▌   | 52/79 [58:02<35:25, 78.73s/it]"
     ]
    },
    {
     "name": "stdout",
     "output_type": "stream",
     "text": [
      "Finished processing 21_1028743892_20240905-213253_processed.csv.\n",
      "Label distribution:\n",
      "label\n",
      "Benign    17635\n",
      "Name: count, dtype: int64\n"
     ]
    },
    {
     "name": "stderr",
     "output_type": "stream",
     "text": [
      "Processing CSVs:  67%|██████▋   | 53/79 [58:10<24:59, 57.67s/it]"
     ]
    },
    {
     "name": "stdout",
     "output_type": "stream",
     "text": [
      "Failed to process 27_processed.csv. Error: Can only use .str accessor with string values!\n",
      "Reading: /scratch/user/syedwali/Datasets/UNSW/provided_CSVs/UNSW-NB15_2.csv\n"
     ]
    },
    {
     "name": "stderr",
     "output_type": "stream",
     "text": [
      "Processing CSVs:  68%|██████▊   | 54/79 [58:46<21:19, 51.16s/it]"
     ]
    },
    {
     "name": "stdout",
     "output_type": "stream",
     "text": [
      "Finished processing 8_1000001035_20240905-214538_processed.csv.\n",
      "Label distribution:\n",
      "label\n",
      "Benign            17497\n",
      "Exploits            423\n",
      " Fuzzers            405\n",
      "Reconnaissance      205\n",
      "DoS                  68\n",
      "Generic              45\n",
      "Shellcode            25\n",
      "Backdoors             8\n",
      "Analysis              3\n",
      "Worms                 1\n",
      "Name: count, dtype: int64\n"
     ]
    },
    {
     "name": "stderr",
     "output_type": "stream",
     "text": [
      "Processing CSVs:  70%|██████▉   | 55/79 [58:48<14:30, 36.27s/it]"
     ]
    },
    {
     "name": "stdout",
     "output_type": "stream",
     "text": [
      "Finished processing 8_processed.csv.\n",
      "Label distribution:\n",
      "label\n",
      "Benign              34889\n",
      "Exploits              859\n",
      " Fuzzers              616\n",
      " Reconnaissance       411\n",
      "Generic               147\n",
      "DoS                   110\n",
      "Analysis               55\n",
      " Shellcode             46\n",
      "Backdoor               13\n",
      "No Match                5\n",
      "Worms                   4\n",
      "Name: count, dtype: int64\n",
      "Reading: /scratch/user/syedwali/Datasets/UNSW/provided_CSVs/UNSW-NB15_1.csv\n",
      "Reading: /scratch/user/syedwali/Datasets/UNSW/provided_CSVs/UNSW-NB15_3.csv\n"
     ]
    },
    {
     "name": "stderr",
     "output_type": "stream",
     "text": [
      "Processing CSVs:  71%|███████   | 56/79 [1:00:04<18:29, 48.22s/it]"
     ]
    },
    {
     "name": "stdout",
     "output_type": "stream",
     "text": [
      "Finished processing 47_processed.csv.\n",
      "Label distribution:\n",
      "label\n",
      "Benign      19240\n",
      "No Match        2\n",
      "Name: count, dtype: int64\n",
      "Reading: /scratch/user/syedwali/Datasets/UNSW/provided_CSVs/UNSW-NB15_1.csv\n"
     ]
    },
    {
     "name": "stderr",
     "output_type": "stream",
     "text": [
      "Processing CSVs:  72%|███████▏  | 57/79 [1:00:30<15:15, 41.63s/it]"
     ]
    },
    {
     "name": "stdout",
     "output_type": "stream",
     "text": [
      "Finished processing 18_processed.csv.\n",
      "Label distribution:\n",
      "label\n",
      "Benign              21517\n",
      "Exploits              487\n",
      " Fuzzers              383\n",
      " Reconnaissance       217\n",
      "DoS                    83\n",
      "Generic                69\n",
      " Shellcode             34\n",
      "Backdoor                7\n",
      "Analysis                5\n",
      "No Match                3\n",
      "Worms                   1\n",
      "Name: count, dtype: int64\n"
     ]
    },
    {
     "name": "stderr",
     "output_type": "stream",
     "text": [
      "Processing CSVs:  73%|███████▎  | 58/79 [1:00:46<11:50, 33.85s/it]"
     ]
    },
    {
     "name": "stdout",
     "output_type": "stream",
     "text": [
      "Finished processing 24_1029809696_20240905-202437_processed.csv.\n",
      "Label distribution:\n",
      "label\n",
      "Benign    20043\n",
      "Name: count, dtype: int64\n",
      "Reading: /scratch/user/syedwali/Datasets/UNSW/provided_CSVs/UNSW-NB15_1.csv\n",
      "Reading: /scratch/user/syedwali/Datasets/UNSW/provided_CSVs/UNSW-NB15_1.csv\n"
     ]
    },
    {
     "name": "stderr",
     "output_type": "stream",
     "text": [
      "Processing CSVs:  75%|███████▍  | 59/79 [1:01:50<14:19, 42.98s/it]"
     ]
    },
    {
     "name": "stdout",
     "output_type": "stream",
     "text": [
      "Finished processing 2_1000000159_20240905-204444_processed.csv.\n",
      "Label distribution:\n",
      "label\n",
      "Benign            15581\n",
      " Fuzzers            483\n",
      "Exploits            374\n",
      "Reconnaissance      161\n",
      "Generic              71\n",
      "DoS                  44\n",
      "Shellcode            23\n",
      "Backdoors             6\n",
      "No Match              2\n",
      "Worms                 2\n",
      "Name: count, dtype: int64\n",
      "Reading: /scratch/user/syedwali/Datasets/UNSW/provided_CSVs/UNSW-NB15_1.csv\n"
     ]
    },
    {
     "name": "stderr",
     "output_type": "stream",
     "text": [
      "Processing CSVs:  76%|███████▌  | 60/79 [1:02:25<12:50, 40.55s/it]"
     ]
    },
    {
     "name": "stdout",
     "output_type": "stream",
     "text": [
      "Finished processing 18_1029238692_20240905-203437_processed.csv.\n",
      "Label distribution:\n",
      "label\n",
      "Benign    19241\n",
      "Name: count, dtype: int64\n"
     ]
    },
    {
     "name": "stderr",
     "output_type": "stream",
     "text": [
      "Processing CSVs:  77%|███████▋  | 61/79 [1:02:36<09:30, 31.69s/it]"
     ]
    },
    {
     "name": "stdout",
     "output_type": "stream",
     "text": [
      "Finished processing 28_processed.csv.\n",
      "Label distribution:\n",
      "label\n",
      "Benign    18272\n",
      "Name: count, dtype: int64\n",
      "Reading: /scratch/user/syedwali/Datasets/UNSW/provided_CSVs/UNSW-NB15_1.csv\n",
      "Reading: /scratch/user/syedwali/Datasets/UNSW/provided_CSVs/UNSW-NB15_1.csv\n"
     ]
    },
    {
     "name": "stderr",
     "output_type": "stream",
     "text": [
      "Processing CSVs:  78%|███████▊  | 62/79 [1:04:13<14:29, 51.14s/it]"
     ]
    },
    {
     "name": "stdout",
     "output_type": "stream",
     "text": [
      "Finished processing 27_1028678596_20240905-212657_processed.csv.\n",
      "Label distribution:\n",
      "label\n",
      "Benign    17466\n",
      "Name: count, dtype: int64\n"
     ]
    },
    {
     "name": "stderr",
     "output_type": "stream",
     "text": [
      "Processing CSVs:  80%|███████▉  | 63/79 [1:04:26<10:37, 39.84s/it]"
     ]
    },
    {
     "name": "stdout",
     "output_type": "stream",
     "text": [
      "Finished processing 22_1029011312_20240905-202237_processed.csv.\n",
      "Label distribution:\n",
      "label\n",
      "Benign    18057\n",
      "Name: count, dtype: int64\n",
      "Reading: /scratch/user/syedwali/Datasets/UNSW/provided_CSVs/UNSW-NB15_1.csv\n",
      "Reading: /scratch/user/syedwali/Datasets/UNSW/provided_CSVs/UNSW-NB15_1.csv\n"
     ]
    },
    {
     "name": "stderr",
     "output_type": "stream",
     "text": [
      "Processing CSVs:  81%|████████  | 64/79 [1:05:54<13:36, 54.41s/it]"
     ]
    },
    {
     "name": "stdout",
     "output_type": "stream",
     "text": [
      "Finished processing 52_processed.csv.\n",
      "Label distribution:\n",
      "label\n",
      "Benign    17635\n",
      "Name: count, dtype: int64\n"
     ]
    },
    {
     "name": "stderr",
     "output_type": "stream",
     "text": [
      "Processing CSVs:  82%|████████▏ | 65/79 [1:06:01<09:21, 40.07s/it]"
     ]
    },
    {
     "name": "stdout",
     "output_type": "stream",
     "text": [
      "Finished processing 13_processed.csv.\n",
      "Label distribution:\n",
      "label\n",
      "Benign    17560\n",
      "Name: count, dtype: int64\n",
      "Reading: /scratch/user/syedwali/Datasets/UNSW/provided_CSVs/UNSW-NB15_1.csv\n",
      "Reading: /scratch/user/syedwali/Datasets/UNSW/provided_CSVs/UNSW-NB15_2.csv\n"
     ]
    },
    {
     "name": "stderr",
     "output_type": "stream",
     "text": [
      "Processing CSVs:  84%|████████▎ | 66/79 [1:06:26<07:40, 35.41s/it]"
     ]
    },
    {
     "name": "stdout",
     "output_type": "stream",
     "text": [
      "Finished processing 20_1030212288_20240905-203637_processed.csv.\n",
      "Label distribution:\n",
      "label\n",
      "Benign      20483\n",
      "No Match        2\n",
      "Name: count, dtype: int64\n",
      "Reading: /scratch/user/syedwali/Datasets/UNSW/provided_CSVs/UNSW-NB15_1.csv\n"
     ]
    },
    {
     "name": "stderr",
     "output_type": "stream",
     "text": [
      "Processing CSVs:  85%|████████▍ | 67/79 [1:07:54<10:15, 51.27s/it]"
     ]
    },
    {
     "name": "stdout",
     "output_type": "stream",
     "text": [
      "Finished processing 39_processed.csv.\n",
      "Label distribution:\n",
      "label\n",
      "Benign      18969\n",
      "No Match        3\n",
      "Name: count, dtype: int64\n",
      "Reading: /scratch/user/syedwali/Datasets/UNSW/provided_CSVs/UNSW-NB15_1.csv\n"
     ]
    },
    {
     "name": "stderr",
     "output_type": "stream",
     "text": [
      "Processing CSVs:  86%|████████▌ | 68/79 [1:08:19<07:56, 43.28s/it]"
     ]
    },
    {
     "name": "stdout",
     "output_type": "stream",
     "text": [
      "Finished processing 29_processed.csv.\n",
      "Label distribution:\n",
      "label\n",
      "Benign    18693\n",
      "Name: count, dtype: int64\n"
     ]
    },
    {
     "name": "stderr",
     "output_type": "stream",
     "text": [
      "Processing CSVs:  87%|████████▋ | 69/79 [1:08:21<05:10, 31.07s/it]"
     ]
    },
    {
     "name": "stdout",
     "output_type": "stream",
     "text": [
      "Finished processing 17_processed.csv.\n",
      "Label distribution:\n",
      "label\n",
      "Benign              34039\n",
      "Exploits              764\n",
      " Fuzzers              498\n",
      " Reconnaissance       353\n",
      "Generic               109\n",
      "DoS                   105\n",
      "Analysis               52\n",
      " Shellcode             40\n",
      "Backdoor               11\n",
      "No Match                5\n",
      "Worms                   3\n",
      "Name: count, dtype: int64\n"
     ]
    },
    {
     "name": "stderr",
     "output_type": "stream",
     "text": [
      "Processing CSVs:  89%|████████▊ | 70/79 [1:08:27<03:30, 23.42s/it]"
     ]
    },
    {
     "name": "stdout",
     "output_type": "stream",
     "text": [
      "Finished processing 6_1028295840_20240905-211841_processed.csv.\n",
      "Label distribution:\n",
      "label\n",
      "Benign            17436\n",
      " Fuzzers            428\n",
      "Exploits            406\n",
      "Reconnaissance      205\n",
      "Generic              88\n",
      "DoS                  52\n",
      "Shellcode            27\n",
      "Backdoors             6\n",
      "No Match              3\n",
      "Worms                 3\n",
      "Name: count, dtype: int64\n",
      "Reading: /scratch/user/syedwali/Datasets/UNSW/provided_CSVs/UNSW-NB15_2.csv\n",
      "Reading: /scratch/user/syedwali/Datasets/UNSW/provided_CSVs/UNSW-NB15_1.csv\n",
      "Reading: /scratch/user/syedwali/Datasets/UNSW/provided_CSVs/UNSW-NB15_2.csv\n"
     ]
    },
    {
     "name": "stderr",
     "output_type": "stream",
     "text": [
      "Processing CSVs:  90%|████████▉ | 71/79 [1:09:51<05:33, 41.64s/it]"
     ]
    },
    {
     "name": "stdout",
     "output_type": "stream",
     "text": [
      "Finished processing 12_1000001417_20240905-205955_processed.csv.\n",
      "Label distribution:\n",
      "label\n",
      "Benign    19786\n",
      "Name: count, dtype: int64\n"
     ]
    },
    {
     "name": "stderr",
     "output_type": "stream",
     "text": [
      "Processing CSVs:  91%|█████████ | 72/79 [1:10:19<04:23, 37.67s/it]"
     ]
    },
    {
     "name": "stdout",
     "output_type": "stream",
     "text": [
      "Finished processing 38_processed.csv.\n",
      "Label distribution:\n",
      "label\n",
      "Benign    20644\n",
      "Name: count, dtype: int64\n",
      "Reading: /scratch/user/syedwali/Datasets/UNSW/provided_CSVs/UNSW-NB15_2.csv\n"
     ]
    },
    {
     "name": "stderr",
     "output_type": "stream",
     "text": [
      "Processing CSVs:  92%|█████████▏| 73/79 [1:10:32<03:01, 30.26s/it]"
     ]
    },
    {
     "name": "stdout",
     "output_type": "stream",
     "text": [
      "Finished processing 10_1000001192_20240905-215144_processed.csv.\n",
      "Label distribution:\n",
      "label\n",
      "Benign    21939\n",
      "Name: count, dtype: int64\n",
      "Reading: /scratch/user/syedwali/Datasets/UNSW/provided_CSVs/UNSW-NB15_3.csv\n",
      "Reading: /scratch/user/syedwali/Datasets/UNSW/provided_CSVs/UNSW-NB15_4.csv\n",
      "Reading: /scratch/user/syedwali/Datasets/UNSW/provided_CSVs/UNSW-NB15_1.csv\n"
     ]
    },
    {
     "name": "stderr",
     "output_type": "stream",
     "text": [
      "Processing CSVs:  94%|█████████▎| 74/79 [1:12:59<05:26, 65.28s/it]"
     ]
    },
    {
     "name": "stdout",
     "output_type": "stream",
     "text": [
      "Finished processing 5_processed.csv.\n",
      "Label distribution:\n",
      "label\n",
      "Benign              36281\n",
      "Exploits              836\n",
      " Fuzzers              836\n",
      " Reconnaissance       372\n",
      "Generic               133\n",
      "DoS                   114\n",
      " Shellcode             52\n",
      "Backdoor               13\n",
      "Worms                   6\n",
      "No Match                2\n",
      "Name: count, dtype: int64\n"
     ]
    },
    {
     "name": "stderr",
     "output_type": "stream",
     "text": [
      "Processing CSVs:  95%|█████████▍| 75/79 [1:13:08<03:12, 48.22s/it]"
     ]
    },
    {
     "name": "stdout",
     "output_type": "stream",
     "text": [
      "Finished processing 7_1029959340_20240905-210156_processed.csv.\n",
      "Label distribution:\n",
      "label\n",
      "Benign            19772\n",
      "Exploits            480\n",
      " Fuzzers            354\n",
      "Reconnaissance      224\n",
      "Generic              77\n",
      "DoS                  71\n",
      "Analysis             52\n",
      "Shellcode            28\n",
      "Backdoors             9\n",
      "No Match              3\n",
      "Worms                 2\n",
      "Name: count, dtype: int64\n",
      "Reading: /scratch/user/syedwali/Datasets/UNSW/provided_CSVs/UNSW-NB15_1.csv\n",
      "Reading: /scratch/user/syedwali/Datasets/UNSW/provided_CSVs/UNSW-NB15_3.csv\n"
     ]
    },
    {
     "name": "stderr",
     "output_type": "stream",
     "text": [
      "Processing CSVs:  96%|█████████▌| 76/79 [1:14:08<02:35, 51.95s/it]"
     ]
    },
    {
     "name": "stdout",
     "output_type": "stream",
     "text": [
      "Finished processing 2_processed.csv.\n",
      "Label distribution:\n",
      "label\n",
      "Benign              33769\n",
      "Exploits              827\n",
      " Reconnaissance       381\n",
      " Fuzzers              250\n",
      "DoS                   125\n",
      "Generic               117\n",
      " Shellcode             46\n",
      "Backdoor                9\n",
      "Worms                   5\n",
      "No Match                3\n",
      "Name: count, dtype: int64\n"
     ]
    },
    {
     "name": "stderr",
     "output_type": "stream",
     "text": [
      "Processing CSVs:  97%|█████████▋| 77/79 [1:14:51<01:38, 49.05s/it]"
     ]
    },
    {
     "name": "stdout",
     "output_type": "stream",
     "text": [
      "Finished processing 19_processed.csv.\n",
      "Label distribution:\n",
      "label\n",
      "Benign              33806\n",
      "Exploits              793\n",
      " Fuzzers              619\n",
      " Reconnaissance       339\n",
      "Generic               126\n",
      "DoS                   114\n",
      " Shellcode             46\n",
      "Backdoor               17\n",
      "Worms                   4\n",
      "No Match                3\n",
      "Name: count, dtype: int64\n"
     ]
    },
    {
     "name": "stderr",
     "output_type": "stream",
     "text": [
      "Processing CSVs:  99%|█████████▊| 78/79 [1:14:58<00:36, 36.43s/it]"
     ]
    },
    {
     "name": "stdout",
     "output_type": "stream",
     "text": [
      "Finished processing 9_1000001414_20240905-212854_processed.csv.\n",
      "Label distribution:\n",
      "label\n",
      "Benign            17489\n",
      " Fuzzers            210\n",
      "Exploits            207\n",
      "Reconnaissance      104\n",
      "Generic              36\n",
      "DoS                  29\n",
      "Shellcode            14\n",
      "Backdoors             1\n",
      "Worms                 1\n",
      "Name: count, dtype: int64\n"
     ]
    },
    {
     "name": "stderr",
     "output_type": "stream",
     "text": [
      "Processing CSVs: 100%|██████████| 79/79 [1:23:53<00:00, 63.71s/it] "
     ]
    },
    {
     "name": "stdout",
     "output_type": "stream",
     "text": [
      "Finished processing 16_processed.csv.\n",
      "Label distribution:\n",
      "label\n",
      "Benign              39330\n",
      "Exploits              988\n",
      " Fuzzers              720\n",
      " Reconnaissance       414\n",
      "Generic               162\n",
      "DoS                   134\n",
      " Shellcode             53\n",
      "Backdoor               17\n",
      "Worms                   8\n",
      "No Match                2\n",
      "Analysis                1\n",
      "Name: count, dtype: int64\n"
     ]
    },
    {
     "name": "stderr",
     "output_type": "stream",
     "text": [
      "\n"
     ]
    }
   ],
   "source": [
    "import warnings\n",
    "from label.parallel_label import *\n",
    "# Suppress all warnings\n",
    "warnings.filterwarnings(\"ignore\")\n",
    "label_csvs(input_folder=\"/scratch/user/syedwali/Datasets/UNSW/processed/\", time_ranges_df=meta_data, timezone='None',num_workers=4,\n",
    "          unit='sec',flowduration_col='duration',label_col='attack_cat')"
   ]
  },
  {
   "cell_type": "markdown",
   "id": "bd833c6e-1637-4d1d-855c-da40dc5ce636",
   "metadata": {},
   "source": [
    "Reading labeled CSV files from the UNSW dataset folder. Due to the dataset's large size, each CSV file is read individually, with columns related to ports, IPs, MAC addresses, and payloads being dropped. Additionally, the label count for each file is limited to a maximum of 5000. Unmatched rows have been removed, and the resulting DataFrame is exported. Users can adjust these settings based on their system requirements."
   ]
  },
  {
   "cell_type": "code",
   "execution_count": 3,
   "id": "2c364f65-0723-4b1a-93f2-11af12c8a6ec",
   "metadata": {},
   "outputs": [
    {
     "name": "stderr",
     "output_type": "stream",
     "text": [
      "Processing CSV files: 100%|██████████| 78/78 [23:05<00:00, 17.77s/it]\n"
     ]
    }
   ],
   "source": [
    "import os\n",
    "import pandas as pd\n",
    "from tqdm import tqdm\n",
    "\n",
    "# Function to process all CSV files in a folder\n",
    "def process_csvs_in_folder(input_folder):\n",
    "    # Initialize an empty DataFrame to store the combined results\n",
    "    combined_df = pd.DataFrame()\n",
    "\n",
    "    # Iterate over all CSV files in the input folder with progress bar\n",
    "    csv_files = [f for f in os.listdir(input_folder) if f.endswith(\".csv\")]\n",
    "    \n",
    "    for csv_file in tqdm(csv_files, desc=\"Processing CSV files\"):\n",
    "        try:\n",
    "            # Read the CSV file\n",
    "            file_path = os.path.join(input_folder, csv_file)\n",
    "            df = pd.read_csv(file_path, low_memory=False)\n",
    "            \n",
    "            # Drop unnecessary columns\n",
    "            df.drop(['id','expiration_id','src_ip','src_mac','src_oui','src_port','dst_ip','dst_mac','dst_oui','dst_port',\n",
    "                     'protocol','ip_version','vlan_id','tunnel_id','bidirectional_first_seen_ms','bidirectional_last_seen_ms',\n",
    "                     'src2dst_first_seen_ms','src2dst_last_seen_ms','dst2src_first_seen_ms','dst2src_last_seen_ms',\n",
    "                     'application_name', 'application_category_name', 'application_is_guessed', 'application_confidence',\n",
    "                     'requested_server_name','client_fingerprint','server_fingerprint','user_agent','content_type',\n",
    "                     'udps.payload_data','udps.delta_time','udps.packet_direction','udps.ip_size','udps.transport_size',\n",
    "                     'udps.payload_size','udps.syn','udps.cwr','udps.ece','udps.urg','udps.ack','udps.psh','udps.rst',\n",
    "                     'udps.fin','file'], axis=1, inplace=True)\n",
    "\n",
    "            # Drop rows with missing values\n",
    "            df.dropna(inplace=True)\n",
    "\n",
    "            # Remove rows where the label is 'No Match'\n",
    "            df = df[df['label'] != 'No Match']\n",
    "\n",
    "            # Limit the number of instances per class label to 5000\n",
    "            df = df.groupby('label').apply(lambda x: x.head(5000)).reset_index(drop=True)\n",
    "\n",
    "            # Append the processed DataFrame to the combined DataFrame\n",
    "            combined_df = pd.concat([combined_df, df], ignore_index=True)\n",
    "        \n",
    "        except Exception as e:\n",
    "            print(f\"Failed to process {csv_file}: {e}\")\n",
    "\n",
    "    # Return the combined DataFrame\n",
    "    return combined_df\n",
    "\n",
    "# Example usage:\n",
    "input_folder = \"/scratch/user/syedwali/Datasets/UNSW/processed/labeled_csv\"\n",
    "df = process_csvs_in_folder(input_folder)\n"
   ]
  },
  {
   "cell_type": "code",
   "execution_count": 4,
   "id": "29511c0e-ed48-4a91-9f1a-30955e7de8f3",
   "metadata": {},
   "outputs": [],
   "source": [
    "df['label'] = df['label'].str.strip()"
   ]
  },
  {
   "cell_type": "code",
   "execution_count": 5,
   "id": "bec9476d-8e48-4a3c-9771-20f696853dbf",
   "metadata": {},
   "outputs": [
    {
     "data": {
      "text/plain": [
       "label\n",
       "Benign            390000\n",
       "Exploits           25158\n",
       "Fuzzers            18199\n",
       "Reconnaissance     11086\n",
       "Generic             3861\n",
       "DoS                 3642\n",
       "Shellcode           1433\n",
       "Analysis             426\n",
       "Backdoor             340\n",
       "Worms                156\n",
       "Backdoors             50\n",
       "Name: count, dtype: int64"
      ]
     },
     "execution_count": 5,
     "metadata": {},
     "output_type": "execute_result"
    }
   ],
   "source": [
    "df['label'].value_counts()"
   ]
  },
  {
   "cell_type": "code",
   "execution_count": 6,
   "id": "d6f301df-e1a2-4d63-898f-7e57870f2232",
   "metadata": {},
   "outputs": [],
   "source": [
    "# If needed, save the combined DataFrame to a CSV\n",
    "output_file = \"/scratch/user/syedwali/Datasets/UNSW_dataset.csv\"\n",
    "df.to_csv(output_file, index=False)"
   ]
  },
  {
   "cell_type": "code",
   "execution_count": 12,
   "id": "30aa3b61-9ae8-4bf3-af4f-a7582f6bc249",
   "metadata": {},
   "outputs": [],
   "source": [
    "df=pd.read_csv(\"/scratch/user/syedwali/Datasets/UNSW_dataset.csv\")"
   ]
  },
  {
   "cell_type": "code",
   "execution_count": 13,
   "id": "fc284331-9595-497c-aece-a873b3c597e1",
   "metadata": {},
   "outputs": [],
   "source": [
    "df['label'] = df['label'].replace(['Backdoors', 'Backdoor'], 'Backdoor')"
   ]
  },
  {
   "cell_type": "code",
   "execution_count": 14,
   "id": "a2633227-f491-4f26-a614-0c6f25d475f1",
   "metadata": {},
   "outputs": [
    {
     "data": {
      "text/plain": [
       "label\n",
       "Benign            390000\n",
       "Exploits           25158\n",
       "Fuzzers            18199\n",
       "Reconnaissance     11086\n",
       "Generic             3861\n",
       "DoS                 3642\n",
       "Shellcode           1433\n",
       "Analysis             426\n",
       "Backdoor             390\n",
       "Worms                156\n",
       "Name: count, dtype: int64"
      ]
     },
     "execution_count": 14,
     "metadata": {},
     "output_type": "execute_result"
    }
   ],
   "source": [
    "df['label'].value_counts()"
   ]
  },
  {
   "cell_type": "code",
   "execution_count": 15,
   "id": "e149aaca-3220-4da0-8954-2e3a5585e0cd",
   "metadata": {},
   "outputs": [],
   "source": [
    "df.drop(['flowid'],axis=1,inplace=True)"
   ]
  },
  {
   "cell_type": "code",
   "execution_count": 8,
   "id": "873043e4-58c9-4e6e-9442-e20f4a901b8c",
   "metadata": {},
   "outputs": [
    {
     "data": {
      "text/plain": [
       "Index(['bidirectional_duration_ms', 'bidirectional_packets',\n",
       "       'bidirectional_bytes', 'src2dst_duration_ms', 'src2dst_packets',\n",
       "       'src2dst_bytes', 'dst2src_duration_ms', 'dst2src_packets',\n",
       "       'dst2src_bytes', 'bidirectional_min_ps', 'bidirectional_mean_ps',\n",
       "       'bidirectional_stddev_ps', 'bidirectional_max_ps', 'src2dst_min_ps',\n",
       "       'src2dst_mean_ps', 'src2dst_stddev_ps', 'src2dst_max_ps',\n",
       "       'dst2src_min_ps', 'dst2src_mean_ps', 'dst2src_stddev_ps',\n",
       "       'dst2src_max_ps', 'bidirectional_min_piat_ms',\n",
       "       'bidirectional_mean_piat_ms', 'bidirectional_stddev_piat_ms',\n",
       "       'bidirectional_max_piat_ms', 'src2dst_min_piat_ms',\n",
       "       'src2dst_mean_piat_ms', 'src2dst_stddev_piat_ms', 'src2dst_max_piat_ms',\n",
       "       'dst2src_min_piat_ms', 'dst2src_mean_piat_ms', 'dst2src_stddev_piat_ms',\n",
       "       'dst2src_max_piat_ms', 'bidirectional_syn_packets',\n",
       "       'bidirectional_cwr_packets', 'bidirectional_ece_packets',\n",
       "       'bidirectional_urg_packets', 'bidirectional_ack_packets',\n",
       "       'bidirectional_psh_packets', 'bidirectional_rst_packets',\n",
       "       'bidirectional_fin_packets', 'src2dst_syn_packets',\n",
       "       'src2dst_cwr_packets', 'src2dst_ece_packets', 'src2dst_urg_packets',\n",
       "       'src2dst_ack_packets', 'src2dst_psh_packets', 'src2dst_rst_packets',\n",
       "       'src2dst_fin_packets', 'dst2src_syn_packets', 'dst2src_cwr_packets',\n",
       "       'dst2src_ece_packets', 'dst2src_urg_packets', 'dst2src_ack_packets',\n",
       "       'dst2src_psh_packets', 'dst2src_rst_packets', 'dst2src_fin_packets',\n",
       "       'udps.srcdst_packet_size_variation', 'udps.srcdst_udp_packet_count',\n",
       "       'udps.udp_packet_count', 'udps.srcdst_tcp_packet_count',\n",
       "       'udps.tcp_packet_count', 'udps.srcdst_ack_packet_count',\n",
       "       'udps.ack_packet_count', 'udps.srcdst_fin_packet_count',\n",
       "       'udps.fin_packet_count', 'udps.srcdst_rst_packet_count',\n",
       "       'udps.rst_packet_count', 'udps.srcdst_psh_packet_count',\n",
       "       'udps.psh_packet_count', 'udps.srcdst_syn_packet_count',\n",
       "       'udps.syn_packet_count', 'udps.srcdst_unique_ports_count',\n",
       "       'udps.srcdst_icmp_packet_count', 'udps.icmp_packet_count',\n",
       "       'udps.srcdst_http_ports_count', 'udps.http_ports_count',\n",
       "       'udps.srcdst_bidirectional_duration_avg',\n",
       "       'udps.bidirectional_duration_avg', 'udps.srcdst_dns_port_count',\n",
       "       'udps.dns_port_count', 'udps.srcdst_dns_port_src_count',\n",
       "       'udps.dns_port_src_count', 'udps.srcdst_vul_ports_count',\n",
       "       'udps.src2dst_packet_count', 'udps.bidirectional_packet_count',\n",
       "       'udps.srcdst_src2dst_packet_count',\n",
       "       'udps.srcdst_bidirectional_packet_count', 'label'],\n",
       "      dtype='object')"
      ]
     },
     "execution_count": 8,
     "metadata": {},
     "output_type": "execute_result"
    }
   ],
   "source": [
    "df.columns"
   ]
  },
  {
   "cell_type": "markdown",
   "id": "3bf36b66-0fdf-492a-a930-126a140feff3",
   "metadata": {},
   "source": [
    "### Performance Evaluation with contextual Features"
   ]
  },
  {
   "cell_type": "code",
   "execution_count": 16,
   "id": "674b0518-cd60-43e5-876c-82d54d5c0303",
   "metadata": {},
   "outputs": [
    {
     "name": "stdout",
     "output_type": "stream",
     "text": [
      "Accuracy: 0.98\n",
      "Classification Report:\n",
      "                precision    recall  f1-score   support\n",
      "\n",
      "      Analysis       0.80      0.82      0.81       128\n",
      "      Backdoor       0.83      0.57      0.68       112\n",
      "        Benign       1.00      1.00      1.00    117065\n",
      "           DoS       0.71      0.26      0.38      1075\n",
      "      Exploits       0.84      0.92      0.88      7531\n",
      "       Fuzzers       0.92      0.95      0.93      5408\n",
      "       Generic       0.88      0.72      0.79      1164\n",
      "Reconnaissance       0.91      0.91      0.91      3363\n",
      "     Shellcode       0.63      0.62      0.62       423\n",
      "         Worms       0.64      0.43      0.52        37\n",
      "\n",
      "      accuracy                           0.98    136306\n",
      "     macro avg       0.82      0.72      0.75    136306\n",
      "  weighted avg       0.98      0.98      0.98    136306\n",
      "\n"
     ]
    }
   ],
   "source": [
    "import pandas as pd\n",
    "from sklearn.model_selection import train_test_split\n",
    "from sklearn.ensemble import RandomForestClassifier\n",
    "from sklearn.metrics import classification_report, accuracy_score\n",
    "\n",
    "# Assuming df is already defined and has a 'label' column\n",
    "X = df.drop('label', axis=1)  # Features (drop the label column)\n",
    "y = df['label']  # Labels\n",
    "\n",
    "# Split the data (70% train, 30% test)\n",
    "X_train, X_test, y_train, y_test = train_test_split(X, y, test_size=0.30, random_state=42)\n",
    "\n",
    "# Initialize the Random Forest Classifier\n",
    "clf = RandomForestClassifier(n_estimators=100, random_state=42,n_jobs=-1)\n",
    "\n",
    "# Train the classifier\n",
    "clf.fit(X_train, y_train)\n",
    "\n",
    "# Predict on the test set\n",
    "y_pred = clf.predict(X_test)\n",
    "\n",
    "# Evaluate the model\n",
    "accuracy = accuracy_score(y_test, y_pred)\n",
    "report = classification_report(y_test, y_pred)\n",
    "\n",
    "print(f'Accuracy: {accuracy:.2f}')\n",
    "print('Classification Report:')\n",
    "print(report)"
   ]
  },
  {
   "cell_type": "markdown",
   "id": "6927101a-d319-4fa4-8198-950f6086931e",
   "metadata": {},
   "source": [
    "### Performance Evaluation without contextual Features"
   ]
  },
  {
   "cell_type": "markdown",
   "id": "19411c53-0baa-405c-a113-ebb5174f6f7f",
   "metadata": {},
   "source": [
    "To demonstrate the impact of extended contextual features on classification performance, we've removed all such features from our analysis. By doing so, we can observe the potential degradation in classification accuracy when contextual information is limited."
   ]
  },
  {
   "cell_type": "code",
   "execution_count": 17,
   "id": "78d03469-ccda-40f0-881e-880f6311e7e5",
   "metadata": {},
   "outputs": [],
   "source": [
    "df.drop(['udps.srcdst_packet_size_variation','udps.srcdst_udp_packet_count','udps.udp_packet_count',\n",
    "'udps.srcdst_tcp_packet_count','udps.tcp_packet_count','udps.srcdst_ack_packet_count',\n",
    "'udps.ack_packet_count','udps.srcdst_fin_packet_count','udps.fin_packet_count',\n",
    "'udps.srcdst_rst_packet_count','udps.rst_packet_count','udps.srcdst_psh_packet_count',\n",
    "'udps.psh_packet_count','udps.srcdst_syn_packet_count','udps.syn_packet_count','udps.srcdst_unique_ports_count',\n",
    "'udps.srcdst_icmp_packet_count','udps.icmp_packet_count','udps.srcdst_http_ports_count','udps.http_ports_count',\n",
    "'udps.srcdst_bidirectional_duration_avg','udps.bidirectional_duration_avg','udps.srcdst_dns_port_count',\n",
    "'udps.dns_port_count','udps.srcdst_dns_port_src_count','udps.dns_port_src_count','udps.srcdst_vul_ports_count',\n",
    "'udps.src2dst_packet_count','udps.bidirectional_packet_count','udps.srcdst_src2dst_packet_count',\n",
    "'udps.srcdst_bidirectional_packet_count'],axis=1,inplace=True)"
   ]
  },
  {
   "cell_type": "code",
   "execution_count": 18,
   "id": "b3b58a1f-d3e2-4890-9e43-497f496d844b",
   "metadata": {},
   "outputs": [
    {
     "name": "stdout",
     "output_type": "stream",
     "text": [
      "Accuracy: 0.97\n",
      "Classification Report:\n",
      "                precision    recall  f1-score   support\n",
      "\n",
      "      Analysis       0.38      0.27      0.31       128\n",
      "      Backdoor       0.86      0.58      0.69       112\n",
      "        Benign       1.00      0.99      0.99    117065\n",
      "           DoS       0.70      0.36      0.48      1075\n",
      "      Exploits       0.83      0.91      0.86      7531\n",
      "       Fuzzers       0.79      0.86      0.83      5408\n",
      "       Generic       0.87      0.79      0.83      1164\n",
      "Reconnaissance       0.90      0.90      0.90      3363\n",
      "     Shellcode       0.58      0.53      0.56       423\n",
      "         Worms       0.61      0.54      0.57        37\n",
      "\n",
      "      accuracy                           0.97    136306\n",
      "     macro avg       0.75      0.67      0.70    136306\n",
      "  weighted avg       0.97      0.97      0.97    136306\n",
      "\n"
     ]
    }
   ],
   "source": [
    "import pandas as pd\n",
    "from sklearn.model_selection import train_test_split\n",
    "from sklearn.ensemble import RandomForestClassifier\n",
    "from sklearn.metrics import classification_report, accuracy_score\n",
    "\n",
    "# Assuming df is already defined and has a 'label' column\n",
    "X = df.drop('label', axis=1)  # Features (drop the label column)\n",
    "y = df['label']  # Labels\n",
    "\n",
    "# Split the data (70% train, 30% test)\n",
    "X_train, X_test, y_train, y_test = train_test_split(X, y, test_size=0.30, random_state=42)\n",
    "\n",
    "# Initialize the Random Forest Classifier\n",
    "clf = RandomForestClassifier(n_estimators=100, random_state=42,n_jobs=-1)\n",
    "\n",
    "# Train the classifier\n",
    "clf.fit(X_train, y_train)\n",
    "\n",
    "# Predict on the test set\n",
    "y_pred = clf.predict(X_test)\n",
    "\n",
    "# Evaluate the model\n",
    "accuracy = accuracy_score(y_test, y_pred)\n",
    "report = classification_report(y_test, y_pred)\n",
    "\n",
    "print(f'Accuracy: {accuracy:.2f}')\n",
    "print('Classification Report:')\n",
    "print(report)"
   ]
  },
  {
   "cell_type": "code",
   "execution_count": null,
   "id": "9652ed1e-d569-44bc-9725-b9b6e966e90d",
   "metadata": {},
   "outputs": [],
   "source": []
  }
 ],
 "metadata": {
  "kernelspec": {
   "display_name": "Python 3 (ipykernel)",
   "language": "python",
   "name": "python3"
  },
  "language_info": {
   "codemirror_mode": {
    "name": "ipython",
    "version": 3
   },
   "file_extension": ".py",
   "mimetype": "text/x-python",
   "name": "python",
   "nbconvert_exporter": "python",
   "pygments_lexer": "ipython3",
   "version": "3.8.2"
  }
 },
 "nbformat": 4,
 "nbformat_minor": 5
}
