{
 "cells": [
  {
   "cell_type": "markdown",
   "id": "633ce7d8-6e0f-4e85-b788-c08cce4a8991",
   "metadata": {},
   "source": [
    "Supporting Functions for extracting payload and converting them to string"
   ]
  },
  {
   "cell_type": "code",
   "execution_count": 93,
   "id": "6749a2d9-1ad2-40ff-b9ca-910d5eab5dd3",
   "metadata": {},
   "outputs": [],
   "source": [
    "import pandas as pd\n",
    "from sklearn.utils import resample\n",
    "import ast \n",
    "import string\n",
    "# Function to convert hex values to ASCII string\n",
    "def hex_to_ascii(hex_list):\n",
    "    ascii_str = ''\n",
    "\n",
    "    #print(len(hex_list))\n",
    "    for hex_val in hex_list:\n",
    "\n",
    "    # Split each hex value into pairs and convert them to ASCII characters\n",
    "      # Split each hex value into pairs and convert them to ASCII characters\n",
    "      ascii_str += ''.join([chr(int(hex_val[i:i+2], 16)) for i in range(0, len(hex_val), 2)])\n",
    "      filtered_str = ''.join(filter(lambda x: x in string.printable, ascii_str))\n",
    "    #print(filtered_str)\n",
    "\n",
    "    return filtered_str\n"
   ]
  },
  {
   "cell_type": "markdown",
   "id": "017ac12d-d114-45b6-8165-33bbddbb4511",
   "metadata": {},
   "source": [
    "### TFIDF based Example for string based payload NIDS"
   ]
  },
  {
   "cell_type": "markdown",
   "id": "799cab4c-789c-4ee1-8d3d-65106a461194",
   "metadata": {},
   "source": [
    "Reading Some web attacks from CIC-IoT 2023 dataset and undersampling them"
   ]
  },
  {
   "cell_type": "code",
   "execution_count": 34,
   "id": "280aea68-0dcc-42ce-8afe-0b63c5314ffb",
   "metadata": {},
   "outputs": [],
   "source": [
    "cross=pd.read_csv(\"/scratch/user/syedwali/Datasets/undersampled_iot23_dataset.csv\",low_memory=False)"
   ]
  },
  {
   "cell_type": "code",
   "execution_count": 35,
   "id": "310eb8a8-52e9-429f-81e3-ca2819c6dfc4",
   "metadata": {
    "scrolled": true
   },
   "outputs": [
    {
     "data": {
      "text/plain": [
       "label\n",
       "DDoS-RSTFINFlood           5000\n",
       "Mirai-udpplain             5000\n",
       "DDoS-SynonymousIP_Flood    5000\n",
       "Recon-PortScan             5000\n",
       "DoS-UDP_Flood              5000\n",
       "DDoS-ICMP_Fragmentation    5000\n",
       "DoS-TCP_Flood              5000\n",
       "DoS-HTTP_Flood             5000\n",
       "Recon-HostDiscovery        5000\n",
       "DDoS-UDP_Fragmentation     5000\n",
       "DDoS-SYN_Flood             5000\n",
       "Mirai-greip_flood          5000\n",
       "DDoS-PSHACK_Flood          5000\n",
       "benign                     5000\n",
       "DDoS-TCP_Flood             5000\n",
       "DNS_Spoofing               5000\n",
       "DDoS-SlowLoris             5000\n",
       "MITM-ArpSpoofing           5000\n",
       "DDoS-ACK_Fragmentation     5000\n",
       "DoS-SYN_Flood              5000\n",
       "DDoS-ICMP_Flood            5000\n",
       "Mirai-greeth_flood         5000\n",
       "DDoS-HTTP_Flood-           5000\n",
       "DDoS-UDP_Flood             5000\n",
       "SqlInjection               2830\n",
       "DictionaryBruteForce       2184\n",
       "BrowserHijacking            972\n",
       "CommandInjection            275\n",
       "Backdoor_Malware            244\n",
       "XSS                         222\n",
       "Name: count, dtype: int64"
      ]
     },
     "execution_count": 35,
     "metadata": {},
     "output_type": "execute_result"
    }
   ],
   "source": [
    "cross['label'].value_counts()"
   ]
  },
  {
   "cell_type": "code",
   "execution_count": 38,
   "id": "97487008-13d6-40ca-9db5-f8035741020f",
   "metadata": {},
   "outputs": [
    {
     "name": "stdout",
     "output_type": "stream",
     "text": [
      "label\n",
      "benign          5000\n",
      "SqlInjection    2830\n",
      "XSS              222\n",
      "Name: count, dtype: int64\n"
     ]
    }
   ],
   "source": [
    "from sklearn.utils import resample\n",
    "# Classes to extract and the number of samples per class\n",
    "classes_to_extract = ['benign', 'XSS', 'SqlInjection']\n",
    "\n",
    "# Create an empty DataFrame to store the extracted samples\n",
    "df_extracted = cross[cross['label'].isin(classes_to_extract)]\n",
    "\n",
    "# Display the value counts for each label after extraction\n",
    "print(df_extracted['label'].value_counts())\n",
    "\n"
   ]
  },
  {
   "cell_type": "code",
   "execution_count": 39,
   "id": "240f08c6-ba60-445d-92b6-3b813b27aa90",
   "metadata": {},
   "outputs": [
    {
     "name": "stdout",
     "output_type": "stream",
     "text": [
      "label\n",
      "0    5000\n",
      "1    2830\n",
      "2     222\n",
      "Name: count, dtype: int64\n"
     ]
    },
    {
     "name": "stderr",
     "output_type": "stream",
     "text": [
      "/tmp/job.11542174/ipykernel_149109/2119393291.py:2: SettingWithCopyWarning: \n",
      "A value is trying to be set on a copy of a slice from a DataFrame.\n",
      "Try using .loc[row_indexer,col_indexer] = value instead\n",
      "\n",
      "See the caveats in the documentation: https://pandas.pydata.org/pandas-docs/stable/user_guide/indexing.html#returning-a-view-versus-a-copy\n",
      "  df_extracted['label'] = df_extracted['label'].replace({\n"
     ]
    }
   ],
   "source": [
    "# Use replace to map specific labels to numeric values\n",
    "df_extracted['label'] = df_extracted['label'].replace({\n",
    "    'benign': 0,        # Map 'benign' to 0\n",
    "    'SqlInjection': 1,  # Map 'SqlInjection' to 1\n",
    "    'XSS': 2            # Map 'XSS' to 2\n",
    "})\n",
    "\n",
    "# Display the new label values after conversion to numeric\n",
    "print(df_extracted['label'].value_counts())\n"
   ]
  },
  {
   "cell_type": "code",
   "execution_count": 40,
   "id": "91a2fb42-02af-44d4-b472-45b68d60f455",
   "metadata": {},
   "outputs": [
    {
     "name": "stderr",
     "output_type": "stream",
     "text": [
      "/tmp/job.11542174/ipykernel_149109/4075109190.py:1: SettingWithCopyWarning: \n",
      "A value is trying to be set on a copy of a slice from a DataFrame.\n",
      "Try using .loc[row_indexer,col_indexer] = value instead\n",
      "\n",
      "See the caveats in the documentation: https://pandas.pydata.org/pandas-docs/stable/user_guide/indexing.html#returning-a-view-versus-a-copy\n",
      "  df_extracted['udps.payload_data'] = df_extracted['udps.payload_data'].apply(ast.literal_eval)\n",
      "/tmp/job.11542174/ipykernel_149109/4075109190.py:2: SettingWithCopyWarning: \n",
      "A value is trying to be set on a copy of a slice from a DataFrame.\n",
      "Try using .loc[row_indexer,col_indexer] = value instead\n",
      "\n",
      "See the caveats in the documentation: https://pandas.pydata.org/pandas-docs/stable/user_guide/indexing.html#returning-a-view-versus-a-copy\n",
      "  df_extracted['string'] = df_extracted['udps.payload_data'].apply(hex_to_ascii)\n"
     ]
    }
   ],
   "source": [
    "df_extracted['udps.payload_data'] = df_extracted['udps.payload_data'].apply(ast.literal_eval)\n",
    "df_extracted['string'] = df_extracted['udps.payload_data'].apply(hex_to_ascii)"
   ]
  },
  {
   "cell_type": "code",
   "execution_count": 41,
   "id": "0ec48ed0-0711-44ac-85d8-8048d07df8a4",
   "metadata": {},
   "outputs": [
    {
     "name": "stdout",
     "output_type": "stream",
     "text": [
      "330\n"
     ]
    }
   ],
   "source": [
    "# Find rows where X_train['string'] is empty or contains only whitespace characters\n",
    "empty_rows = df_extracted['string'].str.strip().eq('')\n",
    "# Get the indices of the rows to be dropped\n",
    "indices_to_drop = empty_rows[empty_rows].index\n",
    "# Drop the rows from the DataFrame\n",
    "df_extracted = df_extracted.drop(indices_to_drop)\n",
    "# Reset the index after dropping rows\n",
    "df_extracted.reset_index(drop=True, inplace=True)\n",
    "# Check the modified DataFrame\n",
    "print(len(indices_to_drop))"
   ]
  },
  {
   "cell_type": "code",
   "execution_count": 43,
   "id": "2ea0d11c-94ca-4eeb-840b-22af497285fe",
   "metadata": {},
   "outputs": [
    {
     "name": "stdout",
     "output_type": "stream",
     "text": [
      "Accuracy: 0.9728331177231565\n",
      "Classification Report:\n",
      "              precision    recall  f1-score   support\n",
      "\n",
      "           0       0.96      1.00      0.98       482\n",
      "           1       1.00      0.94      0.97       269\n",
      "           2       0.94      0.73      0.82        22\n",
      "\n",
      "    accuracy                           0.97       773\n",
      "   macro avg       0.97      0.89      0.92       773\n",
      "weighted avg       0.97      0.97      0.97       773\n",
      "\n"
     ]
    }
   ],
   "source": [
    "import pandas as pd\n",
    "from sklearn.model_selection import train_test_split\n",
    "from sklearn.feature_extraction.text import TfidfVectorizer\n",
    "from sklearn.ensemble import RandomForestClassifier\n",
    "from sklearn.metrics import classification_report, accuracy_score\n",
    "\n",
    "# Assuming 'data' contains the 'string' and 'label' columns\n",
    "# Split the data into training and testing sets\n",
    "X_train, X_test, y_train, y_test = train_test_split(df_extracted['string'], df_extracted['label'], test_size=0.1, random_state=42)\n",
    "\n",
    "# Initialize the TF-IDF vectorizer\n",
    "tfidf = TfidfVectorizer()\n",
    "\n",
    "# Fit the vectorizer on the training data and transform both train and test data\n",
    "X_train_tfidf = tfidf.fit_transform(X_train)\n",
    "X_test_tfidf = tfidf.transform(X_test)\n",
    "\n",
    "# Initialize the Random Forest Classifier with parallel processing (n_jobs=-1)\n",
    "rf_classifier = RandomForestClassifier(n_jobs=-1, random_state=42)\n",
    "\n",
    "# Train the classifier on the TF-IDF features and labels\n",
    "rf_classifier.fit(X_train_tfidf, y_train)\n",
    "\n",
    "# Make predictions on the test set\n",
    "y_pred = rf_classifier.predict(X_test_tfidf)\n",
    "\n",
    "# Evaluate the model's performance\n",
    "accuracy = accuracy_score(y_test, y_pred)\n",
    "print(f\"Accuracy: {accuracy}\")\n",
    "\n",
    "# Generate a classification report\n",
    "print(\"Classification Report:\")\n",
    "print(classification_report(y_test, y_pred))"
   ]
  },
  {
   "cell_type": "markdown",
   "id": "20b44d1c-013b-400d-be7e-1d3ead593e8b",
   "metadata": {},
   "source": [
    "Reading SQL and benign from CIC-IDS 2017 dataset for cross validation "
   ]
  },
  {
   "cell_type": "code",
   "execution_count": 73,
   "id": "f30911d8-534c-4d7c-a5c4-d49f82b8e991",
   "metadata": {},
   "outputs": [],
   "source": [
    "import pandas as pd\n",
    "cic_17=pd.read_csv('/scratch/user/syedwali/Datasets/CIC_2017/processed/split_files/labeled_csv/thur_processed.1.csv',low_memory=False)"
   ]
  },
  {
   "cell_type": "code",
   "execution_count": 63,
   "id": "dc663a67-bd4d-451c-83e9-93f78a71514c",
   "metadata": {},
   "outputs": [
    {
     "data": {
      "text/plain": [
       "label\n",
       "BENIGN                        96170\n",
       "Web Attack  XSS               1459\n",
       "Web Attack  Brute Force        413\n",
       "Web Attack  Sql Injection       15\n",
       "Name: count, dtype: int64"
      ]
     },
     "execution_count": 63,
     "metadata": {},
     "output_type": "execute_result"
    }
   ],
   "source": [
    "cic_17['label'].value_counts()"
   ]
  },
  {
   "cell_type": "code",
   "execution_count": 74,
   "id": "117bf6ed-f7a7-4ccb-b7cf-c8e8e9cbb558",
   "metadata": {},
   "outputs": [
    {
     "name": "stdout",
     "output_type": "stream",
     "text": [
      "label\n",
      "Web Attack  XSS              1459\n",
      "Web Attack  Brute Force       413\n",
      "BENIGN                          20\n",
      "Web Attack  Sql Injection      15\n",
      "Name: count, dtype: int64\n"
     ]
    }
   ],
   "source": [
    "import pandas as pd\n",
    "from sklearn.utils import resample\n",
    "\n",
    "# Create an empty DataFrame to store the undersampled data\n",
    "df_undersampled = pd.DataFrame()\n",
    "\n",
    "# Set the number of BENIGN samples to keep\n",
    "benign_samples = 20\n",
    "\n",
    "# Iterate over each class\n",
    "for label in cic_17['label'].unique():\n",
    "    # Filter the DataFrame for the current class\n",
    "    df_class = cic_17[cic_17['label'] == label]\n",
    "    \n",
    "    # If the class is 'BENIGN', undersample it to 1000 samples\n",
    "    if label == 'BENIGN':\n",
    "        df_class = resample(df_class, replace=False, n_samples=benign_samples, random_state=42)\n",
    "    \n",
    "    # Append the class DataFrame to the undersampled DataFrame\n",
    "    df_undersampled = pd.concat([df_undersampled, df_class])\n",
    "\n",
    "# Shuffle the undersampled dataset to avoid any ordering bias\n",
    "df_undersampled = df_undersampled.sample(frac=1, random_state=42).reset_index(drop=True)\n",
    "\n",
    "# Display the value counts for each label after undersampling\n",
    "print(df_undersampled['label'].value_counts())\n"
   ]
  },
  {
   "cell_type": "code",
   "execution_count": 75,
   "id": "de99b291-8d32-4f8e-ae16-f073eeb0618d",
   "metadata": {},
   "outputs": [],
   "source": [
    "filtered_classes=['Web Attack \\x96 Sql Injection','BENIGN']\n",
    "df_undersampled=df_undersampled[df_undersampled['label'].isin(filtered_classes)]"
   ]
  },
  {
   "cell_type": "code",
   "execution_count": 76,
   "id": "220df862-abd9-4e61-8b1d-7150f98170ef",
   "metadata": {},
   "outputs": [
    {
     "data": {
      "text/plain": [
       "label\n",
       "BENIGN                        20\n",
       "Web Attack  Sql Injection    15\n",
       "Name: count, dtype: int64"
      ]
     },
     "execution_count": 76,
     "metadata": {},
     "output_type": "execute_result"
    }
   ],
   "source": [
    "df_undersampled['label'].value_counts()"
   ]
  },
  {
   "cell_type": "code",
   "execution_count": 77,
   "id": "929b4fdf-6cd7-4e91-bd2e-603ed12dcb34",
   "metadata": {},
   "outputs": [
    {
     "name": "stdout",
     "output_type": "stream",
     "text": [
      "label\n",
      "0    20\n",
      "1    15\n",
      "Name: count, dtype: int64\n"
     ]
    }
   ],
   "source": [
    "# Use replace to map specific labels to numeric values\n",
    "df_undersampled['label'] = df_undersampled['label'].replace({\n",
    "    'BENIGN': 0,        # Map 'benign' to 0\n",
    "    'Web Attack \\x96 Sql Injection': 1,  # Map 'SqlInjection' to 1\n",
    "   # 'Web Attack \\x96 XSS': 2            # Map 'XSS' to 2\n",
    "})\n",
    "\n",
    "# Display the new label values after conversion to numeric\n",
    "print(df_undersampled['label'].value_counts())"
   ]
  },
  {
   "cell_type": "code",
   "execution_count": 78,
   "id": "c343b509-5817-4681-ab8a-f3bee43e5082",
   "metadata": {},
   "outputs": [],
   "source": [
    "import ast\n",
    "# Convert each string representation to a list\n",
    "df_undersampled['udps.payload_data'] = df_undersampled['udps.payload_data'].apply(ast.literal_eval)"
   ]
  },
  {
   "cell_type": "code",
   "execution_count": 79,
   "id": "2a1bb4fb-8bbb-4a68-a9ca-225a9e7df479",
   "metadata": {},
   "outputs": [],
   "source": [
    "df_undersampled['string'] = df_undersampled['udps.payload_data'].apply(hex_to_ascii)"
   ]
  },
  {
   "cell_type": "code",
   "execution_count": 80,
   "id": "1e009134-4403-4c8b-8345-a64bd891158b",
   "metadata": {},
   "outputs": [
    {
     "name": "stdout",
     "output_type": "stream",
     "text": [
      "13\n"
     ]
    }
   ],
   "source": [
    "# Find rows where X_train['string'] is empty or contains only whitespace characters\n",
    "empty_rows = df_undersampled['string'].str.strip().eq('')\n",
    "\n",
    "# Get the indices of the rows to be dropped\n",
    "indices_to_drop = empty_rows[empty_rows].index\n",
    "\n",
    "# Drop the rows from the DataFrame\n",
    "df_undersampled = df_undersampled.drop(indices_to_drop)\n",
    "\n",
    "# Reset the index after dropping rows\n",
    "df_undersampled.reset_index(drop=True, inplace=True)\n",
    "\n",
    "# Check the modified DataFrame\n",
    "print(len(indices_to_drop))"
   ]
  },
  {
   "cell_type": "code",
   "execution_count": 81,
   "id": "a02edc43-1dbc-47be-bfc2-b37c72d648df",
   "metadata": {},
   "outputs": [],
   "source": [
    "X_test_tfidf = tfidf.transform(df_undersampled['string'])"
   ]
  },
  {
   "cell_type": "code",
   "execution_count": 82,
   "id": "5951adfc-4af5-4d04-974f-c87389350fb2",
   "metadata": {},
   "outputs": [
    {
     "name": "stdout",
     "output_type": "stream",
     "text": [
      "Accuracy: 0.8636363636363636\n",
      "Classification Report:\n",
      "              precision    recall  f1-score   support\n",
      "\n",
      "           0       0.77      1.00      0.87        10\n",
      "           1       1.00      0.75      0.86        12\n",
      "\n",
      "    accuracy                           0.86        22\n",
      "   macro avg       0.88      0.88      0.86        22\n",
      "weighted avg       0.90      0.86      0.86        22\n",
      "\n"
     ]
    }
   ],
   "source": [
    "# Make predictions on the test set\n",
    "y_pred = rf_classifier.predict(X_test_tfidf)\n",
    "y_test=df_undersampled['label']\n",
    "# Evaluate the model's performance\n",
    "accuracy = accuracy_score(y_test, y_pred)\n",
    "print(f\"Accuracy: {accuracy}\")\n",
    "\n",
    "# Generate a classification report\n",
    "print(\"Classification Report:\")\n",
    "print(classification_report(y_test, y_pred))"
   ]
  },
  {
   "cell_type": "markdown",
   "id": "5154941e-1edd-4f65-be58-a88008baddf0",
   "metadata": {},
   "source": [
    "### Training and testing Flow-based NIDS for comparison"
   ]
  },
  {
   "cell_type": "markdown",
   "id": "0efea156-8edf-425b-a28b-eef5bdfd73c4",
   "metadata": {},
   "source": [
    "Now Preparing Dataset for flow based NIDS by dropping irrelevant columns"
   ]
  },
  {
   "cell_type": "code",
   "execution_count": 83,
   "id": "7eef8a84-bbd5-4cdd-ab68-e1f3aed2a7b2",
   "metadata": {
    "scrolled": true
   },
   "outputs": [
    {
     "name": "stdout",
     "output_type": "stream",
     "text": [
      "id\n",
      "expiration_id\n",
      "src_ip\n",
      "src_mac\n",
      "src_oui\n",
      "src_port\n",
      "dst_ip\n",
      "dst_mac\n",
      "dst_oui\n",
      "dst_port\n",
      "protocol\n",
      "ip_version\n",
      "vlan_id\n",
      "tunnel_id\n",
      "bidirectional_first_seen_ms\n",
      "bidirectional_last_seen_ms\n",
      "bidirectional_duration_ms\n",
      "bidirectional_packets\n",
      "bidirectional_bytes\n",
      "src2dst_first_seen_ms\n",
      "src2dst_last_seen_ms\n",
      "src2dst_duration_ms\n",
      "src2dst_packets\n",
      "src2dst_bytes\n",
      "dst2src_first_seen_ms\n",
      "dst2src_last_seen_ms\n",
      "dst2src_duration_ms\n",
      "dst2src_packets\n",
      "dst2src_bytes\n",
      "bidirectional_min_ps\n",
      "bidirectional_mean_ps\n",
      "bidirectional_stddev_ps\n",
      "bidirectional_max_ps\n",
      "src2dst_min_ps\n",
      "src2dst_mean_ps\n",
      "src2dst_stddev_ps\n",
      "src2dst_max_ps\n",
      "dst2src_min_ps\n",
      "dst2src_mean_ps\n",
      "dst2src_stddev_ps\n",
      "dst2src_max_ps\n",
      "bidirectional_min_piat_ms\n",
      "bidirectional_mean_piat_ms\n",
      "bidirectional_stddev_piat_ms\n",
      "bidirectional_max_piat_ms\n",
      "src2dst_min_piat_ms\n",
      "src2dst_mean_piat_ms\n",
      "src2dst_stddev_piat_ms\n",
      "src2dst_max_piat_ms\n",
      "dst2src_min_piat_ms\n",
      "dst2src_mean_piat_ms\n",
      "dst2src_stddev_piat_ms\n",
      "dst2src_max_piat_ms\n",
      "bidirectional_syn_packets\n",
      "bidirectional_cwr_packets\n",
      "bidirectional_ece_packets\n",
      "bidirectional_urg_packets\n",
      "bidirectional_ack_packets\n",
      "bidirectional_psh_packets\n",
      "bidirectional_rst_packets\n",
      "bidirectional_fin_packets\n",
      "src2dst_syn_packets\n",
      "src2dst_cwr_packets\n",
      "src2dst_ece_packets\n",
      "src2dst_urg_packets\n",
      "src2dst_ack_packets\n",
      "src2dst_psh_packets\n",
      "src2dst_rst_packets\n",
      "src2dst_fin_packets\n",
      "dst2src_syn_packets\n",
      "dst2src_cwr_packets\n",
      "dst2src_ece_packets\n",
      "dst2src_urg_packets\n",
      "dst2src_ack_packets\n",
      "dst2src_psh_packets\n",
      "dst2src_rst_packets\n",
      "dst2src_fin_packets\n",
      "application_name\n",
      "application_category_name\n",
      "application_is_guessed\n",
      "application_confidence\n",
      "requested_server_name\n",
      "client_fingerprint\n",
      "server_fingerprint\n",
      "user_agent\n",
      "content_type\n",
      "udps.payload_data\n",
      "udps.delta_time\n",
      "udps.packet_direction\n",
      "udps.ip_size\n",
      "udps.transport_size\n",
      "udps.payload_size\n",
      "udps.syn\n",
      "udps.cwr\n",
      "udps.ece\n",
      "udps.urg\n",
      "udps.ack\n",
      "udps.psh\n",
      "udps.rst\n",
      "udps.fin\n",
      "udps.srcdst_packet_size_variation\n",
      "udps.srcdst_udp_packet_count\n",
      "udps.udp_packet_count\n",
      "udps.srcdst_tcp_packet_count\n",
      "udps.tcp_packet_count\n",
      "udps.srcdst_ack_packet_count\n",
      "udps.ack_packet_count\n",
      "udps.srcdst_fin_packet_count\n",
      "udps.fin_packet_count\n",
      "udps.srcdst_rst_packet_count\n",
      "udps.rst_packet_count\n",
      "udps.srcdst_psh_packet_count\n",
      "udps.psh_packet_count\n",
      "udps.srcdst_syn_packet_count\n",
      "udps.syn_packet_count\n",
      "udps.srcdst_unique_ports_count\n",
      "udps.srcdst_icmp_packet_count\n",
      "udps.icmp_packet_count\n",
      "udps.srcdst_http_ports_count\n",
      "udps.http_ports_count\n",
      "udps.srcdst_bidirectional_duration_avg\n",
      "udps.bidirectional_duration_avg\n",
      "udps.srcdst_dns_port_count\n",
      "udps.dns_port_count\n",
      "udps.srcdst_dns_port_src_count\n",
      "udps.dns_port_src_count\n",
      "udps.srcdst_vul_ports_count\n",
      "udps.src2dst_packet_count\n",
      "udps.bidirectional_packet_count\n",
      "udps.srcdst_src2dst_packet_count\n",
      "udps.srcdst_bidirectional_packet_count\n",
      "file\n",
      "label\n",
      "string\n"
     ]
    }
   ],
   "source": [
    "for i in df_extracted.columns:\n",
    "    print(i)"
   ]
  },
  {
   "cell_type": "code",
   "execution_count": 84,
   "id": "f49156c5-4421-48c0-9913-2aa1ee72ff60",
   "metadata": {},
   "outputs": [],
   "source": [
    "df_extracted.drop(['id','expiration_id','src_ip','src_mac','src_oui','src_port','dst_ip','dst_mac','dst_oui','dst_port',\n",
    "'protocol','ip_version','vlan_id','tunnel_id','bidirectional_first_seen_ms','bidirectional_last_seen_ms','src2dst_first_seen_ms',\n",
    "'src2dst_last_seen_ms','dst2src_first_seen_ms','dst2src_last_seen_ms','application_name','application_category_name',\n",
    "'application_is_guessed','application_confidence','requested_server_name','client_fingerprint','server_fingerprint','user_agent',\n",
    "'content_type','udps.payload_data','udps.delta_time','udps.packet_direction','udps.ip_size','udps.transport_size','udps.payload_size',\n",
    "'udps.syn','udps.cwr','udps.ece','udps.urg','udps.ack','udps.psh','udps.rst','udps.fin','file'],axis=1,inplace=True)"
   ]
  },
  {
   "cell_type": "code",
   "execution_count": 86,
   "id": "c5b3a6ee-e718-425e-9f70-d1bf5447af33",
   "metadata": {},
   "outputs": [],
   "source": [
    "# X will contain all features except the label columns\n",
    "X = df_extracted.drop(['label','string'], axis=1)\n",
    "# Y will be the encoded labels\n",
    "y = df_extracted['label']\n",
    "# Step 2: Split into training and testing sets (70% train, 30% test)\n",
    "X_train, X_test, y_train, y_test = train_test_split(X, y, test_size=0.3, random_state=42, stratify=y)"
   ]
  },
  {
   "cell_type": "code",
   "execution_count": 88,
   "id": "783d81a6-f60b-4f80-a6bd-03343849eb0c",
   "metadata": {},
   "outputs": [
    {
     "name": "stdout",
     "output_type": "stream",
     "text": [
      "Random Forest Accuracy: 0.9914\n",
      "Classification Report for Random Forest:\n",
      "              precision    recall  f1-score   support\n",
      "\n",
      "           0       0.99      1.00      1.00      1411\n",
      "           1       1.00      0.98      0.99       842\n",
      "           2       0.90      0.95      0.92        64\n",
      "\n",
      "    accuracy                           0.99      2317\n",
      "   macro avg       0.96      0.98      0.97      2317\n",
      "weighted avg       0.99      0.99      0.99      2317\n",
      "\n"
     ]
    }
   ],
   "source": [
    "from sklearn.ensemble import RandomForestClassifier\n",
    "# Train a Random Forest Classifier\n",
    "rf_clf = RandomForestClassifier(random_state=42,n_jobs=-1)\n",
    "rf_clf.fit(X_train, y_train)\n",
    "\n",
    "# Make predictions\n",
    "y_pred_rf = rf_clf.predict(X_test)\n",
    "\n",
    "# Evaluate the classifier\n",
    "print(f\"Random Forest Accuracy: {accuracy_score(y_test, y_pred_rf):.4f}\")\n",
    "print(f\"Classification Report for Random Forest:\\n{classification_report(y_test, y_pred_rf)}\")"
   ]
  },
  {
   "cell_type": "markdown",
   "id": "1ce70da6-8287-409c-b667-5c4a95749bda",
   "metadata": {},
   "source": [
    "Now Preparing CIC-IDS 2017 dataset for cross validation purpose"
   ]
  },
  {
   "cell_type": "code",
   "execution_count": 89,
   "id": "3a436ab9-5816-4716-a698-eec2cdebd471",
   "metadata": {},
   "outputs": [
    {
     "name": "stdout",
     "output_type": "stream",
     "text": [
      "id\n",
      "expiration_id\n",
      "src_ip\n",
      "src_mac\n",
      "src_oui\n",
      "src_port\n",
      "dst_ip\n",
      "dst_mac\n",
      "dst_oui\n",
      "dst_port\n",
      "protocol\n",
      "ip_version\n",
      "vlan_id\n",
      "tunnel_id\n",
      "bidirectional_first_seen_ms\n",
      "bidirectional_last_seen_ms\n",
      "bidirectional_duration_ms\n",
      "bidirectional_packets\n",
      "bidirectional_bytes\n",
      "src2dst_first_seen_ms\n",
      "src2dst_last_seen_ms\n",
      "src2dst_duration_ms\n",
      "src2dst_packets\n",
      "src2dst_bytes\n",
      "dst2src_first_seen_ms\n",
      "dst2src_last_seen_ms\n",
      "dst2src_duration_ms\n",
      "dst2src_packets\n",
      "dst2src_bytes\n",
      "bidirectional_min_ps\n",
      "bidirectional_mean_ps\n",
      "bidirectional_stddev_ps\n",
      "bidirectional_max_ps\n",
      "src2dst_min_ps\n",
      "src2dst_mean_ps\n",
      "src2dst_stddev_ps\n",
      "src2dst_max_ps\n",
      "dst2src_min_ps\n",
      "dst2src_mean_ps\n",
      "dst2src_stddev_ps\n",
      "dst2src_max_ps\n",
      "bidirectional_min_piat_ms\n",
      "bidirectional_mean_piat_ms\n",
      "bidirectional_stddev_piat_ms\n",
      "bidirectional_max_piat_ms\n",
      "src2dst_min_piat_ms\n",
      "src2dst_mean_piat_ms\n",
      "src2dst_stddev_piat_ms\n",
      "src2dst_max_piat_ms\n",
      "dst2src_min_piat_ms\n",
      "dst2src_mean_piat_ms\n",
      "dst2src_stddev_piat_ms\n",
      "dst2src_max_piat_ms\n",
      "bidirectional_syn_packets\n",
      "bidirectional_cwr_packets\n",
      "bidirectional_ece_packets\n",
      "bidirectional_urg_packets\n",
      "bidirectional_ack_packets\n",
      "bidirectional_psh_packets\n",
      "bidirectional_rst_packets\n",
      "bidirectional_fin_packets\n",
      "src2dst_syn_packets\n",
      "src2dst_cwr_packets\n",
      "src2dst_ece_packets\n",
      "src2dst_urg_packets\n",
      "src2dst_ack_packets\n",
      "src2dst_psh_packets\n",
      "src2dst_rst_packets\n",
      "src2dst_fin_packets\n",
      "dst2src_syn_packets\n",
      "dst2src_cwr_packets\n",
      "dst2src_ece_packets\n",
      "dst2src_urg_packets\n",
      "dst2src_ack_packets\n",
      "dst2src_psh_packets\n",
      "dst2src_rst_packets\n",
      "dst2src_fin_packets\n",
      "application_name\n",
      "application_category_name\n",
      "application_is_guessed\n",
      "application_confidence\n",
      "requested_server_name\n",
      "client_fingerprint\n",
      "server_fingerprint\n",
      "user_agent\n",
      "content_type\n",
      "udps.payload_data\n",
      "udps.delta_time\n",
      "udps.packet_direction\n",
      "udps.ip_size\n",
      "udps.transport_size\n",
      "udps.payload_size\n",
      "udps.syn\n",
      "udps.cwr\n",
      "udps.ece\n",
      "udps.urg\n",
      "udps.ack\n",
      "udps.psh\n",
      "udps.rst\n",
      "udps.fin\n",
      "udps.srcdst_packet_size_variation\n",
      "udps.srcdst_udp_packet_count\n",
      "udps.udp_packet_count\n",
      "udps.srcdst_tcp_packet_count\n",
      "udps.tcp_packet_count\n",
      "udps.srcdst_ack_packet_count\n",
      "udps.ack_packet_count\n",
      "udps.srcdst_fin_packet_count\n",
      "udps.fin_packet_count\n",
      "udps.srcdst_rst_packet_count\n",
      "udps.rst_packet_count\n",
      "udps.srcdst_psh_packet_count\n",
      "udps.psh_packet_count\n",
      "udps.srcdst_syn_packet_count\n",
      "udps.syn_packet_count\n",
      "udps.srcdst_unique_ports_count\n",
      "udps.srcdst_icmp_packet_count\n",
      "udps.icmp_packet_count\n",
      "udps.srcdst_http_ports_count\n",
      "udps.http_ports_count\n",
      "udps.srcdst_bidirectional_duration_avg\n",
      "udps.bidirectional_duration_avg\n",
      "udps.srcdst_dns_port_count\n",
      "udps.dns_port_count\n",
      "udps.srcdst_dns_port_src_count\n",
      "udps.dns_port_src_count\n",
      "udps.srcdst_vul_ports_count\n",
      "udps.src2dst_packet_count\n",
      "udps.bidirectional_packet_count\n",
      "udps.srcdst_src2dst_packet_count\n",
      "udps.srcdst_bidirectional_packet_count\n",
      "flowid\n",
      "label\n",
      "string\n"
     ]
    }
   ],
   "source": [
    "for i in df_undersampled.columns:\n",
    "    print(i)"
   ]
  },
  {
   "cell_type": "code",
   "execution_count": 91,
   "id": "77ea959e-f169-40c2-9161-4414b8286a88",
   "metadata": {},
   "outputs": [],
   "source": [
    "df_undersampled.drop(['id','expiration_id','src_ip','src_mac','src_oui','src_port','dst_ip','dst_mac','dst_oui','dst_port',\n",
    "'protocol','ip_version','vlan_id','tunnel_id','bidirectional_first_seen_ms','bidirectional_last_seen_ms','src2dst_first_seen_ms',\n",
    "'src2dst_last_seen_ms','dst2src_first_seen_ms','dst2src_last_seen_ms','application_name','application_category_name',\n",
    "'application_is_guessed','application_confidence','requested_server_name','client_fingerprint','server_fingerprint','user_agent',\n",
    "'content_type','udps.payload_data','udps.delta_time','udps.packet_direction','udps.ip_size','udps.transport_size','udps.payload_size',\n",
    "'udps.syn','udps.cwr','udps.ece','udps.urg','udps.ack','udps.psh','udps.rst','udps.fin','flowid','string'],axis=1,inplace=True)"
   ]
  },
  {
   "cell_type": "code",
   "execution_count": 92,
   "id": "152aa352-7604-48b1-85c1-55bf743c69b7",
   "metadata": {},
   "outputs": [
    {
     "name": "stdout",
     "output_type": "stream",
     "text": [
      "Random Forest Accuracy: 0.4545\n",
      "Classification Report for Random Forest:\n",
      "              precision    recall  f1-score   support\n",
      "\n",
      "           0       0.45      1.00      0.62        10\n",
      "           1       0.00      0.00      0.00        12\n",
      "\n",
      "    accuracy                           0.45        22\n",
      "   macro avg       0.23      0.50      0.31        22\n",
      "weighted avg       0.21      0.45      0.28        22\n",
      "\n"
     ]
    },
    {
     "name": "stderr",
     "output_type": "stream",
     "text": [
      "/scratch/user/syedwali/Python_env/Processing/lib/python3.8/site-packages/sklearn/metrics/_classification.py:1471: UndefinedMetricWarning: Precision and F-score are ill-defined and being set to 0.0 in labels with no predicted samples. Use `zero_division` parameter to control this behavior.\n",
      "  _warn_prf(average, modifier, msg_start, len(result))\n",
      "/scratch/user/syedwali/Python_env/Processing/lib/python3.8/site-packages/sklearn/metrics/_classification.py:1471: UndefinedMetricWarning: Precision and F-score are ill-defined and being set to 0.0 in labels with no predicted samples. Use `zero_division` parameter to control this behavior.\n",
      "  _warn_prf(average, modifier, msg_start, len(result))\n",
      "/scratch/user/syedwali/Python_env/Processing/lib/python3.8/site-packages/sklearn/metrics/_classification.py:1471: UndefinedMetricWarning: Precision and F-score are ill-defined and being set to 0.0 in labels with no predicted samples. Use `zero_division` parameter to control this behavior.\n",
      "  _warn_prf(average, modifier, msg_start, len(result))\n"
     ]
    }
   ],
   "source": [
    "# X will contain all features except the label columns\n",
    "X_test = df_undersampled.drop(['label'], axis=1)\n",
    "\n",
    "# Y will be the encoded labels\n",
    "y_test = df_undersampled['label']\n",
    "\n",
    "# Make predictions\n",
    "y_pred_rf = rf_clf.predict(X_test)\n",
    "\n",
    "# Evaluate the classifier\n",
    "print(f\"Random Forest Accuracy: {accuracy_score(y_test, y_pred_rf):.4f}\")\n",
    "print(f\"Classification Report for Random Forest:\\n{classification_report(y_test, y_pred_rf)}\")"
   ]
  },
  {
   "cell_type": "code",
   "execution_count": null,
   "id": "7ecdcdf2-6c21-4667-af74-256f29f132ea",
   "metadata": {},
   "outputs": [],
   "source": []
  }
 ],
 "metadata": {
  "kernelspec": {
   "display_name": "Python 3 (ipykernel)",
   "language": "python",
   "name": "python3"
  },
  "language_info": {
   "codemirror_mode": {
    "name": "ipython",
    "version": 3
   },
   "file_extension": ".py",
   "mimetype": "text/x-python",
   "name": "python",
   "nbconvert_exporter": "python",
   "pygments_lexer": "ipython3",
   "version": "3.8.6"
  }
 },
 "nbformat": 4,
 "nbformat_minor": 5
}
