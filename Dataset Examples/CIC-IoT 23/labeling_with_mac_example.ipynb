{
 "cells": [
  {
   "cell_type": "markdown",
   "id": "b996e3e8-44a4-4f10-a1c1-122078ea6a18",
   "metadata": {},
   "source": [
    "### Labeling CIC-IoT23"
   ]
  },
  {
   "cell_type": "markdown",
   "id": "dd205cb4-8c6f-4af4-849e-6c1001356457",
   "metadata": {},
   "source": [
    "In this example, we're labeling the processed CSV using the attacker's MAC address. This labeling strategy can be applied to other datasets where attacker MAC addresses are provided, and attack/benign pcap files are separate. Note that this is the second step in the dataset labeling pipeline. The first step was extracting flows and features from the pcap files and converting them into unlabeled CSV. If you need to extract them, refer to the flow/payload extraction examples in the repository."
   ]
  },
  {
   "cell_type": "code",
   "execution_count": 2,
   "id": "3f281168-e4ea-43fc-acad-982d92f1b3b2",
   "metadata": {},
   "outputs": [],
   "source": [
    "import nfstream\n",
    "from nfstream import NFStreamer, NFPlugin\n",
    "import pandas as pd\n",
    "import os\n",
    "import sys\n",
    "from label.mac_label import *\n",
    "import warnings\n",
    "# Suppress all warnings\n",
    "warnings.filterwarnings(\"ignore\")"
   ]
  },
  {
   "cell_type": "code",
   "execution_count": null,
   "id": "c6ee6a56-bcc6-4a17-84a4-6d27e60b4269",
   "metadata": {},
   "outputs": [
    {
     "name": "stderr",
     "output_type": "stream",
     "text": [
      "Processing CSV files:   2%|▏         | 1/47 [00:32<24:56, 32.53s/it]"
     ]
    },
    {
     "name": "stdout",
     "output_type": "stream",
     "text": [
      "Processed and labeled DoS-UDP_Flood_processed.csv: Label = ['DoS-UDP_Flood']\n"
     ]
    },
    {
     "name": "stderr",
     "output_type": "stream",
     "text": [
      "Processing CSV files:   4%|▍         | 2/47 [00:33<10:24, 13.88s/it]"
     ]
    },
    {
     "name": "stdout",
     "output_type": "stream",
     "text": [
      "Processed and labeled DictionaryBruteForce_processed.csv: Label = ['DictionaryBruteForce']\n"
     ]
    },
    {
     "name": "stderr",
     "output_type": "stream",
     "text": [
      "Processing CSV files:   6%|▋         | 3/47 [00:50<11:10, 15.25s/it]"
     ]
    },
    {
     "name": "stdout",
     "output_type": "stream",
     "text": [
      "Processed and labeled DDoS-UDP_Fragmentation1_processed.csv: Label = ['DDoS-UDP_Fragmentation']\n"
     ]
    },
    {
     "name": "stderr",
     "output_type": "stream",
     "text": [
      "Processing CSV files:   9%|▊         | 4/47 [00:54<07:50, 10.95s/it]"
     ]
    },
    {
     "name": "stdout",
     "output_type": "stream",
     "text": [
      "Processed and labeled Mirai-greeth_flood1_processed.csv: Label = ['Mirai-greeth_flood']\n"
     ]
    },
    {
     "name": "stderr",
     "output_type": "stream",
     "text": [
      "Processing CSV files:  11%|█         | 5/47 [01:46<18:00, 25.73s/it]"
     ]
    },
    {
     "name": "stdout",
     "output_type": "stream",
     "text": [
      "Processed and labeled DDoS-RSTFINFlood_processed.csv: Label = ['DDoS-RSTFINFlood']\n"
     ]
    },
    {
     "name": "stderr",
     "output_type": "stream",
     "text": [
      "Processing CSV files:  13%|█▎        | 6/47 [01:46<11:41, 17.11s/it]"
     ]
    },
    {
     "name": "stdout",
     "output_type": "stream",
     "text": [
      "Processed and labeled XSS_processed.csv: Label = ['XSS']\n"
     ]
    },
    {
     "name": "stderr",
     "output_type": "stream",
     "text": [
      "Processing CSV files:  15%|█▍        | 7/47 [02:18<14:29, 21.73s/it]"
     ]
    },
    {
     "name": "stdout",
     "output_type": "stream",
     "text": [
      "Processed and labeled DDoS-ICMP_Flood_processed.csv: Label = ['DDoS-ICMP_Flood']\n"
     ]
    },
    {
     "name": "stderr",
     "output_type": "stream",
     "text": [
      "Processing CSV files:  17%|█▋        | 8/47 [02:54<17:13, 26.51s/it]"
     ]
    },
    {
     "name": "stdout",
     "output_type": "stream",
     "text": [
      "Processed and labeled DDoS-ACK_Fragmentation_processed.csv: Label = ['DDoS-ACK_Fragmentation']\n"
     ]
    },
    {
     "name": "stderr",
     "output_type": "stream",
     "text": [
      "Processing CSV files:  19%|█▉        | 9/47 [03:45<21:39, 34.20s/it]"
     ]
    },
    {
     "name": "stdout",
     "output_type": "stream",
     "text": [
      "Processed and labeled DDoS-TCP_Flood1_processed.csv: Label = ['DDoS-TCP_Flood']\n"
     ]
    },
    {
     "name": "stderr",
     "output_type": "stream",
     "text": [
      "Processing CSV files:  21%|██▏       | 10/47 [03:57<16:44, 27.14s/it]"
     ]
    },
    {
     "name": "stdout",
     "output_type": "stream",
     "text": [
      "Processed and labeled Recon-HostDiscovery_processed.csv: Label = ['Recon-HostDiscovery']\n"
     ]
    },
    {
     "name": "stderr",
     "output_type": "stream",
     "text": [
      "Processing CSV files:  23%|██▎       | 11/47 [04:07<13:13, 22.05s/it]"
     ]
    },
    {
     "name": "stdout",
     "output_type": "stream",
     "text": [
      "Processed and labeled DDoS-ICMP_Fragmentation_processed.csv: Label = ['DDoS-ICMP_Fragmentation']\n"
     ]
    },
    {
     "name": "stderr",
     "output_type": "stream",
     "text": [
      "Processing CSV files:  26%|██▌       | 12/47 [04:43<15:21, 26.32s/it]"
     ]
    },
    {
     "name": "stdout",
     "output_type": "stream",
     "text": [
      "Processed and labeled BenignTraffic_processed.csv: Label = ['benign']\n"
     ]
    },
    {
     "name": "stderr",
     "output_type": "stream",
     "text": [
      "Processing CSV files:  28%|██▊       | 13/47 [05:34<19:04, 33.66s/it]"
     ]
    },
    {
     "name": "stdout",
     "output_type": "stream",
     "text": [
      "Processed and labeled DDoS-PSHACK_Flood_processed.csv: Label = ['DDoS-PSHACK_Flood']\n"
     ]
    },
    {
     "name": "stderr",
     "output_type": "stream",
     "text": [
      "Processing CSV files:  30%|██▉       | 14/47 [06:12<19:13, 34.96s/it]"
     ]
    },
    {
     "name": "stdout",
     "output_type": "stream",
     "text": [
      "Processed and labeled DDoS-UDP_Flood1_processed.csv: Label = ['DDoS-UDP_Flood']\n"
     ]
    },
    {
     "name": "stderr",
     "output_type": "stream",
     "text": [
      "Processing CSV files:  32%|███▏      | 15/47 [07:04<21:25, 40.17s/it]"
     ]
    },
    {
     "name": "stdout",
     "output_type": "stream",
     "text": [
      "Processed and labeled DDoS-SYN_Flood1_processed.csv: Label = ['DDoS-SYN_Flood']\n"
     ]
    },
    {
     "name": "stderr",
     "output_type": "stream",
     "text": [
      "Processing CSV files:  34%|███▍      | 16/47 [07:35<19:21, 37.46s/it]"
     ]
    },
    {
     "name": "stdout",
     "output_type": "stream",
     "text": [
      "Processed and labeled DoS-HTTP_Flood1_processed.csv: Label = ['DoS-HTTP_Flood']\n"
     ]
    },
    {
     "name": "stderr",
     "output_type": "stream",
     "text": [
      "Processing CSV files:  36%|███▌      | 17/47 [08:10<18:22, 36.75s/it]"
     ]
    },
    {
     "name": "stdout",
     "output_type": "stream",
     "text": [
      "Processed and labeled DDoS-SynonymousIP_Flood1_processed.csv: Label = ['DDoS-SynonymousIP_Flood']\n"
     ]
    },
    {
     "name": "stderr",
     "output_type": "stream",
     "text": [
      "Processing CSV files:  38%|███▊      | 18/47 [08:43<17:05, 35.35s/it]"
     ]
    },
    {
     "name": "stdout",
     "output_type": "stream",
     "text": [
      "Processed and labeled DoS-UDP_Flood1_processed.csv: Label = ['DoS-UDP_Flood']\n"
     ]
    },
    {
     "name": "stderr",
     "output_type": "stream",
     "text": [
      "Processing CSV files:  40%|████      | 19/47 [09:25<17:28, 37.46s/it]"
     ]
    },
    {
     "name": "stdout",
     "output_type": "stream",
     "text": [
      "Processed and labeled DoS-TCP_Flood1_processed.csv: Label = ['DoS-TCP_Flood']\n"
     ]
    },
    {
     "name": "stderr",
     "output_type": "stream",
     "text": [
      "Processing CSV files:  43%|████▎     | 20/47 [09:37<13:25, 29.85s/it]"
     ]
    },
    {
     "name": "stdout",
     "output_type": "stream",
     "text": [
      "Processed and labeled DDoS-SlowLoris_processed.csv: Label = ['DDoS-SlowLoris']\n"
     ]
    },
    {
     "name": "stderr",
     "output_type": "stream",
     "text": [
      "Processing CSV files:  45%|████▍     | 21/47 [09:54<11:13, 25.90s/it]"
     ]
    },
    {
     "name": "stdout",
     "output_type": "stream",
     "text": [
      "Processed and labeled DDoS-UDP_Fragmentation_processed.csv: Label = ['DDoS-UDP_Fragmentation']\n"
     ]
    },
    {
     "name": "stderr",
     "output_type": "stream",
     "text": [
      "Processing CSV files:  47%|████▋     | 22/47 [10:19<10:39, 25.58s/it]"
     ]
    },
    {
     "name": "stdout",
     "output_type": "stream",
     "text": [
      "Processed and labeled MITM-ArpSpoofing_processed.csv: Label = ['MITM-ArpSpoofing']\n"
     ]
    },
    {
     "name": "stderr",
     "output_type": "stream",
     "text": [
      "Processing CSV files:  49%|████▉     | 23/47 [11:10<13:23, 33.48s/it]"
     ]
    },
    {
     "name": "stdout",
     "output_type": "stream",
     "text": [
      "Processed and labeled DDoS-PSHACK_Flood1_processed.csv: Label = ['DDoS-PSHACK_Flood']\n"
     ]
    },
    {
     "name": "stderr",
     "output_type": "stream",
     "text": [
      "Processing CSV files:  51%|█████     | 24/47 [11:59<14:34, 38.02s/it]"
     ]
    },
    {
     "name": "stdout",
     "output_type": "stream",
     "text": [
      "Processed and labeled DDoS-TCP_Flood_processed.csv: Label = ['DDoS-TCP_Flood']\n"
     ]
    },
    {
     "name": "stderr",
     "output_type": "stream",
     "text": [
      "Processing CSV files:  53%|█████▎    | 25/47 [12:16<11:39, 31.77s/it]"
     ]
    },
    {
     "name": "stdout",
     "output_type": "stream",
     "text": [
      "Processed and labeled DDoS-HTTP_Flood-_processed.csv: Label = ['DDoS-HTTP_Flood-']\n"
     ]
    },
    {
     "name": "stderr",
     "output_type": "stream",
     "text": [
      "Processing CSV files:  55%|█████▌    | 26/47 [13:11<13:34, 38.77s/it]"
     ]
    },
    {
     "name": "stdout",
     "output_type": "stream",
     "text": [
      "Processed and labeled DDoS-RSTFINFlood1_processed.csv: Label = ['DDoS-RSTFINFlood']\n"
     ]
    },
    {
     "name": "stderr",
     "output_type": "stream",
     "text": [
      "Processing CSV files:  57%|█████▋    | 27/47 [13:12<09:07, 27.40s/it]"
     ]
    },
    {
     "name": "stdout",
     "output_type": "stream",
     "text": [
      "Processed and labeled CommandInjection_processed.csv: Label = ['CommandInjection']\n"
     ]
    },
    {
     "name": "stderr",
     "output_type": "stream",
     "text": [
      "Processing CSV files:  60%|█████▉    | 28/47 [13:45<09:11, 29.02s/it]"
     ]
    },
    {
     "name": "stdout",
     "output_type": "stream",
     "text": [
      "Processed and labeled DDoS-ICMP_Flood1_processed.csv: Label = ['DDoS-ICMP_Flood']\n"
     ]
    },
    {
     "name": "stderr",
     "output_type": "stream",
     "text": [
      "Processing CSV files:  62%|██████▏   | 29/47 [13:45<06:07, 20.41s/it]"
     ]
    },
    {
     "name": "stdout",
     "output_type": "stream",
     "text": [
      "Processed and labeled Backdoor_Malware_processed.csv: Label = ['Backdoor_Malware']\n"
     ]
    },
    {
     "name": "stderr",
     "output_type": "stream",
     "text": [
      "Processing CSV files:  64%|██████▍   | 30/47 [13:50<04:27, 15.75s/it]"
     ]
    },
    {
     "name": "stdout",
     "output_type": "stream",
     "text": [
      "Processed and labeled Mirai-greeth_flood_processed.csv: Label = ['Mirai-greeth_flood']\n"
     ]
    },
    {
     "name": "stderr",
     "output_type": "stream",
     "text": [
      "Processing CSV files:  66%|██████▌   | 31/47 [14:27<05:52, 22.01s/it]"
     ]
    },
    {
     "name": "stdout",
     "output_type": "stream",
     "text": [
      "Processed and labeled DoS-SYN_Flood1_processed.csv: Label = ['DoS-SYN_Flood']\n"
     ]
    },
    {
     "name": "stderr",
     "output_type": "stream",
     "text": [
      "Processing CSV files:  68%|██████▊   | 32/47 [14:59<06:16, 25.09s/it]"
     ]
    },
    {
     "name": "stdout",
     "output_type": "stream",
     "text": [
      "Processed and labeled Mirai-udpplain1_processed.csv: Label = ['Mirai-udpplain']\n"
     ]
    },
    {
     "name": "stderr",
     "output_type": "stream",
     "text": [
      "Processing CSV files:  70%|███████   | 33/47 [15:10<04:50, 20.76s/it]"
     ]
    },
    {
     "name": "stdout",
     "output_type": "stream",
     "text": [
      "Processed and labeled MITM-ArpSpoofing1_processed.csv: Label = ['MITM-ArpSpoofing']\n"
     ]
    },
    {
     "name": "stderr",
     "output_type": "stream",
     "text": [
      "Processing CSV files:  72%|███████▏  | 34/47 [15:11<03:12, 14.84s/it]"
     ]
    },
    {
     "name": "stdout",
     "output_type": "stream",
     "text": [
      "Processed and labeled BrowserHijacking_processed.csv: Label = ['BrowserHijacking']\n"
     ]
    },
    {
     "name": "stderr",
     "output_type": "stream",
     "text": [
      "Processing CSV files:  74%|███████▍  | 35/47 [15:47<04:15, 21.30s/it]"
     ]
    },
    {
     "name": "stdout",
     "output_type": "stream",
     "text": [
      "Processed and labeled DDoS-ACK_Fragmentation1_processed.csv: Label = ['DDoS-ACK_Fragmentation']\n"
     ]
    },
    {
     "name": "stderr",
     "output_type": "stream",
     "text": [
      "Processing CSV files:  77%|███████▋  | 36/47 [16:25<04:48, 26.23s/it]"
     ]
    },
    {
     "name": "stdout",
     "output_type": "stream",
     "text": [
      "Processed and labeled DDoS-UDP_Flood_processed.csv: Label = ['DDoS-UDP_Flood']\n"
     ]
    },
    {
     "name": "stderr",
     "output_type": "stream",
     "text": [
      "Processing CSV files:  79%|███████▊  | 37/47 [16:29<03:16, 19.68s/it]"
     ]
    },
    {
     "name": "stdout",
     "output_type": "stream",
     "text": [
      "Processed and labeled Mirai-greip_flood_processed.csv: Label = ['Mirai-greip_flood']\n"
     ]
    },
    {
     "name": "stderr",
     "output_type": "stream",
     "text": [
      "Processing CSV files:  81%|████████  | 38/47 [17:03<03:35, 23.94s/it]"
     ]
    },
    {
     "name": "stdout",
     "output_type": "stream",
     "text": [
      "Processed and labeled BenignTraffic1_processed.csv: Label = ['benign']\n"
     ]
    },
    {
     "name": "stderr",
     "output_type": "stream",
     "text": [
      "Processing CSV files:  83%|████████▎ | 39/47 [17:41<03:45, 28.24s/it]"
     ]
    },
    {
     "name": "stdout",
     "output_type": "stream",
     "text": [
      "Processed and labeled DDoS-SynonymousIP_Flood_processed.csv: Label = ['DDoS-SynonymousIP_Flood']\n"
     ]
    },
    {
     "name": "stderr",
     "output_type": "stream",
     "text": [
      "Processing CSV files:  85%|████████▌ | 40/47 [18:19<03:36, 31.00s/it]"
     ]
    },
    {
     "name": "stdout",
     "output_type": "stream",
     "text": [
      "Processed and labeled DoS-TCP_Flood_processed.csv: Label = ['DoS-TCP_Flood']\n"
     ]
    },
    {
     "name": "stderr",
     "output_type": "stream",
     "text": [
      "Processing CSV files:  87%|████████▋ | 41/47 [18:25<02:21, 23.52s/it]"
     ]
    },
    {
     "name": "stdout",
     "output_type": "stream",
     "text": [
      "Processed and labeled Recon-PortScan_processed.csv: Label = ['Recon-PortScan']\n"
     ]
    },
    {
     "name": "stderr",
     "output_type": "stream",
     "text": [
      "Processing CSV files:  89%|████████▉ | 42/47 [18:41<01:46, 21.20s/it]"
     ]
    },
    {
     "name": "stdout",
     "output_type": "stream",
     "text": [
      "Processed and labeled DDoS-ICMP_Fragmentation1_processed.csv: Label = ['DDoS-ICMP_Fragmentation']\n"
     ]
    },
    {
     "name": "stderr",
     "output_type": "stream",
     "text": [
      "Processing CSV files:  91%|█████████▏| 43/47 [19:29<01:57, 29.44s/it]"
     ]
    },
    {
     "name": "stdout",
     "output_type": "stream",
     "text": [
      "Processed and labeled DoS-SYN_Flood_processed.csv: Label = ['DoS-SYN_Flood']\n"
     ]
    },
    {
     "name": "stderr",
     "output_type": "stream",
     "text": [
      "Processing CSV files:  94%|█████████▎| 44/47 [19:42<01:13, 24.52s/it]"
     ]
    },
    {
     "name": "stdout",
     "output_type": "stream",
     "text": [
      "Processed and labeled DNS_Spoofing_processed.csv: Label = ['DNS_Spoofing']\n"
     ]
    },
    {
     "name": "stderr",
     "output_type": "stream",
     "text": [
      "Processing CSV files:  96%|█████████▌| 45/47 [19:43<00:34, 17.26s/it]"
     ]
    },
    {
     "name": "stdout",
     "output_type": "stream",
     "text": [
      "Processed and labeled SqlInjection_processed.csv: Label = ['SqlInjection']\n"
     ]
    },
    {
     "name": "stderr",
     "output_type": "stream",
     "text": [
      "Processing CSV files:  98%|█████████▊| 46/47 [20:54<00:33, 33.40s/it]"
     ]
    },
    {
     "name": "stdout",
     "output_type": "stream",
     "text": [
      "Processed and labeled DDoS-SYN_Flood_processed.csv: Label = ['DDoS-SYN_Flood']\n"
     ]
    },
    {
     "name": "stderr",
     "output_type": "stream",
     "text": [
      "Processing CSV files: 100%|██████████| 47/47 [21:30<00:00, 27.45s/it]"
     ]
    },
    {
     "name": "stdout",
     "output_type": "stream",
     "text": [
      "Processed and labeled DoS-HTTP_Flood_processed.csv: Label = ['DoS-HTTP_Flood']\n"
     ]
    },
    {
     "name": "stderr",
     "output_type": "stream",
     "text": [
      "\n"
     ]
    }
   ],
   "source": [
    "\n",
    "# Example usage:\n",
    "folder_path = '/scratch/user/syedwali/Datasets/CIC_IOT23/processed' # Replace with your folder path\n",
    "output_file = '/scratch/user/syedwali/Datasets/labeled_iot23_dataset.csv'  # Output file for the labeled dataset\n",
    "attacker_mac = [\n",
    "    'e4:5f:01:55:90:c4', 'dc:a6:32:dc:27:d5', 'dc:a6:32:c9:e4:ab', 'dc:a6:32:c9:e5:a4',\n",
    "    'ac:17:02:05:34:27', 'dc:a6:32:c9:e4:d5', 'dc:a6:32:c9:e5:ef', 'dc:a6:32:c9:e4:90',\n",
    "    'b0:09:da:3e:82:6c'\n",
    "]\n",
    "# Process all CSV files in the folder\n",
    "process_csv_with_attacker_macs(folder_path, output_file,attacker_mac)"
   ]
  },
  {
   "cell_type": "code",
   "execution_count": null,
   "id": "8968d61d-cea8-47c9-bc86-b6f68ff26c86",
   "metadata": {},
   "outputs": [],
   "source": []
  }
 ],
 "metadata": {
  "kernelspec": {
   "display_name": "Python 3 (ipykernel)",
   "language": "python",
   "name": "python3"
  },
  "language_info": {
   "codemirror_mode": {
    "name": "ipython",
    "version": 3
   },
   "file_extension": ".py",
   "mimetype": "text/x-python",
   "name": "python",
   "nbconvert_exporter": "python",
   "pygments_lexer": "ipython3",
   "version": "3.8.6"
  }
 },
 "nbformat": 4,
 "nbformat_minor": 5
}
