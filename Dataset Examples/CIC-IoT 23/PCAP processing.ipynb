{
 "cells": [
  {
   "cell_type": "markdown",
   "id": "35bd4467-32a0-4081-a0b6-ba4bd6466289",
   "metadata": {},
   "source": [
    "### Flow and Payload Extraction from PCAP"
   ]
  },
  {
   "cell_type": "markdown",
   "id": "a39c8c7c-8666-4896-af08-7893ee09c1df",
   "metadata": {},
   "source": [
    "In this example, we're leveraging our tool to extract flow and payload features from CIC-IoT 23 pcap files. We've configured the window context to 350 for extracting extended contextual features. Additionally, we've set active_timeout=1800 and idle_timeout=120 for flow generation. To tailor flow generation further, explore the available options in the pcap processing tool documentation."
   ]
  },
  {
   "cell_type": "code",
   "execution_count": 1,
   "id": "3f281168-e4ea-43fc-acad-982d92f1b3b2",
   "metadata": {},
   "outputs": [],
   "source": [
    "import nfstream\n",
    "from nfstream import NFStreamer, NFPlugin\n",
    "import pandas as pd\n",
    "import os\n",
    "import sys\n",
    "from pcap_process.flow_payload import *\n"
   ]
  },
  {
   "cell_type": "code",
   "execution_count": 7,
   "id": "127e079e-9310-4761-86b1-99c049377afe",
   "metadata": {},
   "outputs": [],
   "source": [
    "import pandas as pd\n",
    "folder_name='/scratch/user/syedwali/Datasets/CIC_IOT23/'\n",
    "window_size=350\n",
    "vulnerable_ports_list=[20, 21, 22, 23, 25, 53, 80, 110, 143, 443, 445, 3389, 8080]\n",
    "http_ports_list=[80,443,8080]\n"
   ]
  },
  {
   "cell_type": "code",
   "execution_count": null,
   "id": "e83d55a6-0863-49c2-80b1-8d20855067af",
   "metadata": {},
   "outputs": [],
   "source": []
  },
  {
   "cell_type": "code",
   "execution_count": 3,
   "id": "ae8f3ce7-1d57-4b54-9f6e-e3907a74631c",
   "metadata": {},
   "outputs": [
    {
     "name": "stdout",
     "output_type": "stream",
     "text": [
      "completed\n"
     ]
    }
   ],
   "source": [
    "print(status)"
   ]
  },
  {
   "cell_type": "code",
   "execution_count": 1,
   "id": "4b07f621-288d-4be3-99c5-7ab44542fcf0",
   "metadata": {},
   "outputs": [],
   "source": [
    "x=1"
   ]
  },
  {
   "cell_type": "code",
   "execution_count": null,
   "id": "8b5369d6-3ee3-4a4d-99ac-b2c404821c9a",
   "metadata": {},
   "outputs": [],
   "source": []
  }
 ],
 "metadata": {
  "kernelspec": {
   "display_name": "Python 3 (ipykernel)",
   "language": "python",
   "name": "python3"
  },
  "language_info": {
   "codemirror_mode": {
    "name": "ipython",
    "version": 3
   },
   "file_extension": ".py",
   "mimetype": "text/x-python",
   "name": "python",
   "nbconvert_exporter": "python",
   "pygments_lexer": "ipython3",
   "version": "3.8.2"
  }
 },
 "nbformat": 4,
 "nbformat_minor": 5
}
