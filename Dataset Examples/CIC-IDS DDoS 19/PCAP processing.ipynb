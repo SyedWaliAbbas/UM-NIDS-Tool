{
 "cells": [
  {
   "cell_type": "markdown",
   "id": "35bd4467-32a0-4081-a0b6-ba4bd6466289",
   "metadata": {},
   "source": [
    "### Flow and Payload Extraction from PCAP"
   ]
  },
  {
   "cell_type": "markdown",
   "id": "a39c8c7c-8666-4896-af08-7893ee09c1df",
   "metadata": {},
   "source": [
    "In this example, we're leveraging our tool to extract flow and payload features from CIC-IoT 23 pcap files. We've configured the window context to 350 for extracting extended contextual features. Additionally, we've set active_timeout=1800 and idle_timeout=120 for flow generation. To tailor flow generation further, explore the available options in the pcap processing tool documentation."
   ]
  },
  {
   "cell_type": "code",
   "execution_count": 1,
   "id": "4b07f621-288d-4be3-99c5-7ab44542fcf0",
   "metadata": {},
   "outputs": [],
   "source": [
    "import nfstream\n",
    "from nfstream import NFStreamer, NFPlugin\n",
    "import pandas as pd\n",
    "import os\n",
    "import sys\n",
    "from pcap_process.flow_payload import *"
   ]
  },
  {
   "cell_type": "code",
   "execution_count": 2,
   "id": "8b5369d6-3ee3-4a4d-99ac-b2c404821c9a",
   "metadata": {},
   "outputs": [],
   "source": [
    "folder_name='/scratch/user/syedwali/Datasets/CIC_2019/'\n",
    "window_size=350\n",
    "vulnerable_ports_list=[20, 21, 22, 23, 25, 53, 80, 110, 143, 443, 445, 3389, 8080]\n",
    "http_ports_list=[80,443,8080]"
   ]
  },
  {
   "cell_type": "code",
   "execution_count": 3,
   "id": "8624b004-037f-4bfa-95bf-2c6786fa827b",
   "metadata": {},
   "outputs": [],
   "source": [
    "status=pcap_process(dataset_folder=folder_name,window_size=window_size,vulnerable_ports_list=vulnerable_ports_list,\n",
    "                                           http_ports_list=http_ports_list ,n_meters=1)"
   ]
  },
  {
   "cell_type": "code",
   "execution_count": 4,
   "id": "beb8a1e8-302e-483b-99cb-252d68da7ebe",
   "metadata": {},
   "outputs": [],
   "source": [
    "print(status)"
   ]
  },
  {
   "cell_type": "code",
   "execution_count": null,
   "id": "e69fdf48-492c-4eb1-8f22-99c2fcfc7b7b",
   "metadata": {},
   "outputs": [],
   "source": []
  }
 ],
 "metadata": {
  "kernelspec": {
   "display_name": "Python 3 (ipykernel)",
   "language": "python",
   "name": "python3"
  },
  "language_info": {
   "codemirror_mode": {
    "name": "ipython",
    "version": 3
   },
   "file_extension": ".py",
   "mimetype": "text/x-python",
   "name": "python",
   "nbconvert_exporter": "python",
   "pygments_lexer": "ipython3",
   "version": "3.8.2"
  }
 },
 "nbformat": 4,
 "nbformat_minor": 5
}
