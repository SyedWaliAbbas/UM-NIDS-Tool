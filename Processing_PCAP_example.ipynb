{
 "cells": [
  {
   "cell_type": "markdown",
   "id": "35bd4467-32a0-4081-a0b6-ba4bd6466289",
   "metadata": {},
   "source": [
    "### Flow and Payload Extraction from PCAP"
   ]
  },
  {
   "cell_type": "markdown",
   "id": "a39c8c7c-8666-4896-af08-7893ee09c1df",
   "metadata": {},
   "source": [
    "In this example, we're leveraging our tool to extract flow and payload features from UNSW pcap files. We've configured the window context to 350 for extracting extended contextual features. Additionally, we've set active_timeout=1800 and idle_timeout=120 for flow generation. To tailor flow generation further, explore the available options in the pcap processing tool documentation."
   ]
  },
  {
   "cell_type": "code",
   "execution_count": 1,
   "id": "3f281168-e4ea-43fc-acad-982d92f1b3b2",
   "metadata": {},
   "outputs": [],
   "source": [
    "import nfstream\n",
    "from nfstream import NFStreamer, NFPlugin\n",
    "import pandas as pd\n",
    "import os\n",
    "import sys\n",
    "from pcap_process.flow_payload import *\n"
   ]
  },
  {
   "cell_type": "code",
   "execution_count": 7,
   "id": "127e079e-9310-4761-86b1-99c049377afe",
   "metadata": {},
   "outputs": [],
   "source": [
    "import pandas as pd\n",
    "folder_name='/scratch/user/syedwali/Datasets/UNSW/'\n",
    "window_size=350\n",
    "vulnerable_ports_list=[20, 21, 22, 23, 25, 53, 80, 110, 143, 443, 445, 3389, 8080]\n",
    "http_ports_list=[80,443,8080]\n"
   ]
  },
  {
   "cell_type": "code",
   "execution_count": 8,
   "id": "fe5c5a68-5946-41c9-b710-04e958417852",
   "metadata": {
    "scrolled": true
   },
   "outputs": [
    {
     "name": "stderr",
     "output_type": "stream",
     "text": [
      "Processing files:   0%|          | 0/80 [00:00<?, ?it/s]"
     ]
    },
    {
     "name": "stdout",
     "output_type": "stream",
     "text": [
      "ERROR! Session/line number was not unique in database. History logging moved to new session 174\n"
     ]
    },
    {
     "name": "stderr",
     "output_type": "stream",
     "text": [
      "Processing files:   1%|▏         | 1/80 [04:29<5:54:24, 269.17s/it]"
     ]
    },
    {
     "name": "stdout",
     "output_type": "stream",
     "text": [
      "Processed and saved /scratch/user/syedwali/Datasets/UNSW/processed/5_processed.csv\n"
     ]
    },
    {
     "name": "stderr",
     "output_type": "stream",
     "text": [
      "Processing files:   2%|▎         | 2/80 [08:44<5:39:02, 260.80s/it]"
     ]
    },
    {
     "name": "stdout",
     "output_type": "stream",
     "text": [
      "Processed and saved /scratch/user/syedwali/Datasets/UNSW/processed/22_processed.csv\n"
     ]
    },
    {
     "name": "stderr",
     "output_type": "stream",
     "text": [
      "Processing files:   4%|▍         | 3/80 [12:46<5:23:41, 252.22s/it]"
     ]
    },
    {
     "name": "stdout",
     "output_type": "stream",
     "text": [
      "Processed and saved /scratch/user/syedwali/Datasets/UNSW/processed/24_processed.csv\n"
     ]
    },
    {
     "name": "stderr",
     "output_type": "stream",
     "text": [
      "Processing files:   5%|▌         | 4/80 [16:36<5:08:47, 243.78s/it]"
     ]
    },
    {
     "name": "stdout",
     "output_type": "stream",
     "text": [
      "Processed and saved /scratch/user/syedwali/Datasets/UNSW/processed/17_processed.csv\n"
     ]
    },
    {
     "name": "stderr",
     "output_type": "stream",
     "text": [
      "/scratch/user/syedwali/Python_env/Processing/lib/python3.8/site-packages/nfstream/streamer.py:547: DtypeWarning: Columns (0,5,9,10,11,12,13,14,15) have mixed types. Specify dtype option on import or set low_memory=False.\n",
      "  df = pd.read_csv(temp_file_path)\n"
     ]
    },
    {
     "name": "stdout",
     "output_type": "stream",
     "text": [
      "WARNING: 2 flows ignored by pandas type conversion. Consider using to_csv() method if drops are critical.\n"
     ]
    },
    {
     "name": "stderr",
     "output_type": "stream",
     "text": [
      "Processing files:   6%|▋         | 5/80 [20:14<4:52:58, 234.38s/it]"
     ]
    },
    {
     "name": "stdout",
     "output_type": "stream",
     "text": [
      "Processed and saved /scratch/user/syedwali/Datasets/UNSW/processed/18_processed.csv\n"
     ]
    },
    {
     "name": "stderr",
     "output_type": "stream",
     "text": [
      "Processing files:   8%|▊         | 6/80 [24:14<4:51:21, 236.24s/it]"
     ]
    },
    {
     "name": "stdout",
     "output_type": "stream",
     "text": [
      "Processed and saved /scratch/user/syedwali/Datasets/UNSW/processed/20_processed.csv\n"
     ]
    },
    {
     "name": "stderr",
     "output_type": "stream",
     "text": [
      "Processing files:   9%|▉         | 7/80 [28:09<4:47:04, 235.95s/it]"
     ]
    },
    {
     "name": "stdout",
     "output_type": "stream",
     "text": [
      "Processed and saved /scratch/user/syedwali/Datasets/UNSW/processed/15_processed.csv\n"
     ]
    },
    {
     "name": "stderr",
     "output_type": "stream",
     "text": [
      "Processing files:  10%|█         | 8/80 [32:46<4:58:35, 248.83s/it]"
     ]
    },
    {
     "name": "stdout",
     "output_type": "stream",
     "text": [
      "Processed and saved /scratch/user/syedwali/Datasets/UNSW/processed/2_processed.csv\n"
     ]
    },
    {
     "name": "stderr",
     "output_type": "stream",
     "text": [
      "Processing files:  11%|█▏        | 9/80 [36:52<4:53:28, 248.01s/it]"
     ]
    },
    {
     "name": "stdout",
     "output_type": "stream",
     "text": [
      "Processed and saved /scratch/user/syedwali/Datasets/UNSW/processed/26_processed.csv\n"
     ]
    },
    {
     "name": "stderr",
     "output_type": "stream",
     "text": [
      "Processing files:  12%|█▎        | 10/80 [40:51<4:46:04, 245.21s/it]"
     ]
    },
    {
     "name": "stdout",
     "output_type": "stream",
     "text": [
      "Processed and saved /scratch/user/syedwali/Datasets/UNSW/processed/11_processed.csv\n"
     ]
    },
    {
     "name": "stderr",
     "output_type": "stream",
     "text": [
      "Processing files:  14%|█▍        | 11/80 [44:52<4:40:30, 243.92s/it]"
     ]
    },
    {
     "name": "stdout",
     "output_type": "stream",
     "text": [
      "Processed and saved /scratch/user/syedwali/Datasets/UNSW/processed/3_processed.csv\n"
     ]
    },
    {
     "name": "stderr",
     "output_type": "stream",
     "text": [
      "Processing files:  15%|█▌        | 12/80 [48:54<4:35:51, 243.41s/it]"
     ]
    },
    {
     "name": "stdout",
     "output_type": "stream",
     "text": [
      "Processed and saved /scratch/user/syedwali/Datasets/UNSW/processed/12_processed.csv\n"
     ]
    },
    {
     "name": "stderr",
     "output_type": "stream",
     "text": [
      "Processing files:  16%|█▋        | 13/80 [52:53<4:30:16, 242.03s/it]"
     ]
    },
    {
     "name": "stdout",
     "output_type": "stream",
     "text": [
      "Processed and saved /scratch/user/syedwali/Datasets/UNSW/processed/7_processed.csv\n"
     ]
    },
    {
     "name": "stderr",
     "output_type": "stream",
     "text": [
      "Processing files:  18%|█▊        | 14/80 [57:02<4:28:39, 244.23s/it]"
     ]
    },
    {
     "name": "stdout",
     "output_type": "stream",
     "text": [
      "Processed and saved /scratch/user/syedwali/Datasets/UNSW/processed/16_processed.csv\n"
     ]
    },
    {
     "name": "stderr",
     "output_type": "stream",
     "text": [
      "Processing files:  19%|█▉        | 15/80 [1:01:12<4:26:24, 245.92s/it]"
     ]
    },
    {
     "name": "stdout",
     "output_type": "stream",
     "text": [
      "Processed and saved /scratch/user/syedwali/Datasets/UNSW/processed/19_processed.csv\n"
     ]
    },
    {
     "name": "stderr",
     "output_type": "stream",
     "text": [
      "Processing files:  20%|██        | 16/80 [1:05:31<4:26:31, 249.87s/it]"
     ]
    },
    {
     "name": "stdout",
     "output_type": "stream",
     "text": [
      "Processed and saved /scratch/user/syedwali/Datasets/UNSW/processed/14_processed.csv\n"
     ]
    },
    {
     "name": "stderr",
     "output_type": "stream",
     "text": [
      "Processing files:  21%|██▏       | 17/80 [1:10:00<4:28:11, 255.43s/it]"
     ]
    },
    {
     "name": "stdout",
     "output_type": "stream",
     "text": [
      "Processed and saved /scratch/user/syedwali/Datasets/UNSW/processed/6_processed.csv\n"
     ]
    },
    {
     "name": "stderr",
     "output_type": "stream",
     "text": [
      "Processing files:  22%|██▎       | 18/80 [1:12:19<3:48:04, 220.71s/it]"
     ]
    },
    {
     "name": "stdout",
     "output_type": "stream",
     "text": [
      "Failed to process file: /scratch/user/syedwali/Datasets/UNSW/13.pcap. Error: Error tokenizing data. C error: Expected 131 fields in line 17714, saw 132\n",
      "\n"
     ]
    },
    {
     "name": "stderr",
     "output_type": "stream",
     "text": [
      "Processing files:  24%|██▍       | 19/80 [1:14:04<3:08:54, 185.82s/it]"
     ]
    },
    {
     "name": "stdout",
     "output_type": "stream",
     "text": [
      "Processed and saved /scratch/user/syedwali/Datasets/UNSW/processed/27_processed.csv\n"
     ]
    },
    {
     "name": "stderr",
     "output_type": "stream",
     "text": [
      "/scratch/user/syedwali/Python_env/Processing/lib/python3.8/site-packages/nfstream/streamer.py:547: DtypeWarning: Columns (0,1,5,9,10,11,12,13,14,15,16,17,18,19,20,21,22,23,24,25,26,27,28) have mixed types. Specify dtype option on import or set low_memory=False.\n",
      "  df = pd.read_csv(temp_file_path)\n"
     ]
    },
    {
     "name": "stdout",
     "output_type": "stream",
     "text": [
      "WARNING: 2 flows ignored by pandas type conversion. Consider using to_csv() method if drops are critical.\n"
     ]
    },
    {
     "name": "stderr",
     "output_type": "stream",
     "text": [
      "Processing files:  25%|██▌       | 20/80 [1:18:10<3:23:53, 203.89s/it]"
     ]
    },
    {
     "name": "stdout",
     "output_type": "stream",
     "text": [
      "Processed and saved /scratch/user/syedwali/Datasets/UNSW/processed/9_processed.csv\n"
     ]
    },
    {
     "name": "stderr",
     "output_type": "stream",
     "text": [
      "/scratch/user/syedwali/Python_env/Processing/lib/python3.8/site-packages/nfstream/streamer.py:547: DtypeWarning: Columns (0,1,5,9,10,11,12,13,14,15,16,17,18,19,20,21,22,23,24,25,26,27,28,29,30) have mixed types. Specify dtype option on import or set low_memory=False.\n",
      "  df = pd.read_csv(temp_file_path)\n"
     ]
    },
    {
     "name": "stdout",
     "output_type": "stream",
     "text": [
      "WARNING: 3 flows ignored by pandas type conversion. Consider using to_csv() method if drops are critical.\n"
     ]
    },
    {
     "name": "stderr",
     "output_type": "stream",
     "text": [
      "Processing files:  26%|██▋       | 21/80 [1:22:14<3:32:13, 215.83s/it]"
     ]
    },
    {
     "name": "stdout",
     "output_type": "stream",
     "text": [
      "Processed and saved /scratch/user/syedwali/Datasets/UNSW/processed/1_processed.csv\n"
     ]
    },
    {
     "name": "stderr",
     "output_type": "stream",
     "text": [
      "Processing files:  28%|██▊       | 22/80 [1:26:15<3:36:09, 223.61s/it]"
     ]
    },
    {
     "name": "stdout",
     "output_type": "stream",
     "text": [
      "Processed and saved /scratch/user/syedwali/Datasets/UNSW/processed/21_processed.csv\n"
     ]
    },
    {
     "name": "stderr",
     "output_type": "stream",
     "text": [
      "/scratch/user/syedwali/Python_env/Processing/lib/python3.8/site-packages/nfstream/streamer.py:547: DtypeWarning: Columns (0,1,5,9,10,11,12,13,14,15,16,17,18,19,20,21,22,23,24,25,26,27,28,81,82,83,84,85) have mixed types. Specify dtype option on import or set low_memory=False.\n",
      "  df = pd.read_csv(temp_file_path)\n"
     ]
    },
    {
     "name": "stdout",
     "output_type": "stream",
     "text": [
      "WARNING: 4 flows ignored by pandas type conversion. Consider using to_csv() method if drops are critical.\n"
     ]
    },
    {
     "name": "stderr",
     "output_type": "stream",
     "text": [
      "Processing files:  29%|██▉       | 23/80 [1:35:17<5:03:04, 319.02s/it]"
     ]
    },
    {
     "name": "stdout",
     "output_type": "stream",
     "text": [
      "Processed and saved /scratch/user/syedwali/Datasets/UNSW/processed/23_processed.csv\n"
     ]
    },
    {
     "name": "stderr",
     "output_type": "stream",
     "text": [
      "Processing files:  30%|███       | 24/80 [1:39:20<4:36:22, 296.12s/it]"
     ]
    },
    {
     "name": "stdout",
     "output_type": "stream",
     "text": [
      "Processed and saved /scratch/user/syedwali/Datasets/UNSW/processed/25_processed.csv\n"
     ]
    },
    {
     "name": "stderr",
     "output_type": "stream",
     "text": [
      "Processing files:  31%|███▏      | 25/80 [1:43:16<4:14:59, 278.17s/it]"
     ]
    },
    {
     "name": "stdout",
     "output_type": "stream",
     "text": [
      "Processed and saved /scratch/user/syedwali/Datasets/UNSW/processed/8_processed.csv\n"
     ]
    },
    {
     "name": "stderr",
     "output_type": "stream",
     "text": [
      "Processing files:  32%|███▎      | 26/80 [1:47:15<3:59:51, 266.50s/it]"
     ]
    },
    {
     "name": "stdout",
     "output_type": "stream",
     "text": [
      "Processed and saved /scratch/user/syedwali/Datasets/UNSW/processed/10_processed.csv\n"
     ]
    },
    {
     "name": "stderr",
     "output_type": "stream",
     "text": [
      "Processing files:  34%|███▍      | 27/80 [1:51:18<3:48:59, 259.23s/it]"
     ]
    },
    {
     "name": "stdout",
     "output_type": "stream",
     "text": [
      "Processed and saved /scratch/user/syedwali/Datasets/UNSW/processed/4_processed.csv\n"
     ]
    },
    {
     "name": "stderr",
     "output_type": "stream",
     "text": [
      "Processing files:  35%|███▌      | 28/80 [1:53:16<3:08:05, 217.04s/it]"
     ]
    },
    {
     "name": "stdout",
     "output_type": "stream",
     "text": [
      "Processed and saved /scratch/user/syedwali/Datasets/UNSW/processed/5_1000000832_20240905-202039_processed.csv\n"
     ]
    },
    {
     "name": "stderr",
     "output_type": "stream",
     "text": [
      "Processing files:  36%|███▋      | 29/80 [1:55:14<2:39:06, 187.19s/it]"
     ]
    },
    {
     "name": "stdout",
     "output_type": "stream",
     "text": [
      "Processed and saved /scratch/user/syedwali/Datasets/UNSW/processed/22_1029011312_20240905-202237_processed.csv\n"
     ]
    },
    {
     "name": "stderr",
     "output_type": "stream",
     "text": [
      "Processing files:  38%|███▊      | 30/80 [1:57:13<2:19:03, 166.86s/it]"
     ]
    },
    {
     "name": "stdout",
     "output_type": "stream",
     "text": [
      "Processed and saved /scratch/user/syedwali/Datasets/UNSW/processed/24_1029809696_20240905-202437_processed.csv\n"
     ]
    },
    {
     "name": "stderr",
     "output_type": "stream",
     "text": [
      "Processing files:  39%|███▉      | 31/80 [1:59:09<2:03:47, 151.59s/it]"
     ]
    },
    {
     "name": "stdout",
     "output_type": "stream",
     "text": [
      "Processed and saved /scratch/user/syedwali/Datasets/UNSW/processed/35_processed.csv\n"
     ]
    },
    {
     "name": "stderr",
     "output_type": "stream",
     "text": [
      "Processing files:  40%|████      | 32/80 [2:01:07<1:53:17, 141.61s/it]"
     ]
    },
    {
     "name": "stdout",
     "output_type": "stream",
     "text": [
      "Processed and saved /scratch/user/syedwali/Datasets/UNSW/processed/30_processed.csv\n"
     ]
    },
    {
     "name": "stderr",
     "output_type": "stream",
     "text": [
      "Processing files:  41%|████▏     | 33/80 [2:03:07<1:45:43, 134.98s/it]"
     ]
    },
    {
     "name": "stdout",
     "output_type": "stream",
     "text": [
      "Processed and saved /scratch/user/syedwali/Datasets/UNSW/processed/17_1030213624_20240905-203030_processed.csv\n"
     ]
    },
    {
     "name": "stderr",
     "output_type": "stream",
     "text": [
      "Processing files:  42%|████▎     | 34/80 [2:05:16<1:42:13, 133.33s/it]"
     ]
    },
    {
     "name": "stdout",
     "output_type": "stream",
     "text": [
      "Processed and saved /scratch/user/syedwali/Datasets/UNSW/processed/41_processed.csv\n"
     ]
    },
    {
     "name": "stderr",
     "output_type": "stream",
     "text": [
      "Processing files:  44%|████▍     | 35/80 [2:07:14<1:36:26, 128.60s/it]"
     ]
    },
    {
     "name": "stdout",
     "output_type": "stream",
     "text": [
      "Processed and saved /scratch/user/syedwali/Datasets/UNSW/processed/18_1029238692_20240905-203437_processed.csv\n"
     ]
    },
    {
     "name": "stderr",
     "output_type": "stream",
     "text": [
      "/scratch/user/syedwali/Python_env/Processing/lib/python3.8/site-packages/nfstream/streamer.py:547: DtypeWarning: Columns (82,83) have mixed types. Specify dtype option on import or set low_memory=False.\n",
      "  df = pd.read_csv(temp_file_path)\n",
      "Processing files:  45%|████▌     | 36/80 [2:09:27<1:35:20, 130.00s/it]"
     ]
    },
    {
     "name": "stdout",
     "output_type": "stream",
     "text": [
      "Processed and saved /scratch/user/syedwali/Datasets/UNSW/processed/20_1030212288_20240905-203637_processed.csv\n"
     ]
    },
    {
     "name": "stderr",
     "output_type": "stream",
     "text": [
      "Processing files:  46%|████▋     | 37/80 [2:11:29<1:31:21, 127.48s/it]"
     ]
    },
    {
     "name": "stdout",
     "output_type": "stream",
     "text": [
      "Processed and saved /scratch/user/syedwali/Datasets/UNSW/processed/15_1000000964_20240905-203852_processed.csv\n"
     ]
    },
    {
     "name": "stderr",
     "output_type": "stream",
     "text": [
      "Processing files:  48%|████▊     | 38/80 [2:13:30<1:28:00, 125.72s/it]"
     ]
    },
    {
     "name": "stdout",
     "output_type": "stream",
     "text": [
      "Processed and saved /scratch/user/syedwali/Datasets/UNSW/processed/48_processed.csv\n"
     ]
    },
    {
     "name": "stderr",
     "output_type": "stream",
     "text": [
      "Processing files:  49%|████▉     | 39/80 [2:15:27<1:24:04, 123.03s/it]"
     ]
    },
    {
     "name": "stdout",
     "output_type": "stream",
     "text": [
      "Processed and saved /scratch/user/syedwali/Datasets/UNSW/processed/28_processed.csv\n"
     ]
    },
    {
     "name": "stderr",
     "output_type": "stream",
     "text": [
      "Processing files:  50%|█████     | 40/80 [2:17:22<1:20:20, 120.51s/it]"
     ]
    },
    {
     "name": "stdout",
     "output_type": "stream",
     "text": [
      "Processed and saved /scratch/user/syedwali/Datasets/UNSW/processed/2_1000000159_20240905-204444_processed.csv\n"
     ]
    },
    {
     "name": "stderr",
     "output_type": "stream",
     "text": [
      "Processing files:  51%|█████▏    | 41/80 [2:19:25<1:18:46, 121.20s/it]"
     ]
    },
    {
     "name": "stdout",
     "output_type": "stream",
     "text": [
      "Processed and saved /scratch/user/syedwali/Datasets/UNSW/processed/36_processed.csv\n"
     ]
    },
    {
     "name": "stderr",
     "output_type": "stream",
     "text": [
      "Processing files:  52%|█████▎    | 42/80 [2:21:24<1:16:26, 120.70s/it]"
     ]
    },
    {
     "name": "stdout",
     "output_type": "stream",
     "text": [
      "Processed and saved /scratch/user/syedwali/Datasets/UNSW/processed/52_processed.csv\n"
     ]
    },
    {
     "name": "stderr",
     "output_type": "stream",
     "text": [
      "Processing files:  54%|█████▍    | 43/80 [2:23:28<1:14:57, 121.55s/it]"
     ]
    },
    {
     "name": "stdout",
     "output_type": "stream",
     "text": [
      "Processed and saved /scratch/user/syedwali/Datasets/UNSW/processed/26_1030712176_20240905-205051_processed.csv\n"
     ]
    },
    {
     "name": "stderr",
     "output_type": "stream",
     "text": [
      "Processing files:  55%|█████▌    | 44/80 [2:25:24<1:11:57, 119.94s/it]"
     ]
    },
    {
     "name": "stdout",
     "output_type": "stream",
     "text": [
      "Processed and saved /scratch/user/syedwali/Datasets/UNSW/processed/11_1000000075_20240905-205247_processed.csv\n"
     ]
    },
    {
     "name": "stderr",
     "output_type": "stream",
     "text": [
      "Processing files:  56%|█████▋    | 45/80 [2:27:22<1:09:35, 119.31s/it]"
     ]
    },
    {
     "name": "stdout",
     "output_type": "stream",
     "text": [
      "Processed and saved /scratch/user/syedwali/Datasets/UNSW/processed/47_processed.csv\n"
     ]
    },
    {
     "name": "stderr",
     "output_type": "stream",
     "text": [
      "Processing files:  57%|█████▊    | 46/80 [2:29:18<1:07:04, 118.37s/it]"
     ]
    },
    {
     "name": "stdout",
     "output_type": "stream",
     "text": [
      "Processed and saved /scratch/user/syedwali/Datasets/UNSW/processed/3_1000000694_20240905-205641_processed.csv\n"
     ]
    },
    {
     "name": "stderr",
     "output_type": "stream",
     "text": [
      "Processing files:  59%|█████▉    | 47/80 [2:30:33<57:56, 105.35s/it]  "
     ]
    },
    {
     "name": "stdout",
     "output_type": "stream",
     "text": [
      "Processed and saved /scratch/user/syedwali/Datasets/UNSW/processed/53_processed.csv\n"
     ]
    },
    {
     "name": "stderr",
     "output_type": "stream",
     "text": [
      "Processing files:  60%|██████    | 48/80 [2:32:33<58:31, 109.73s/it]"
     ]
    },
    {
     "name": "stdout",
     "output_type": "stream",
     "text": [
      "Processed and saved /scratch/user/syedwali/Datasets/UNSW/processed/12_1000001417_20240905-205955_processed.csv\n"
     ]
    },
    {
     "name": "stderr",
     "output_type": "stream",
     "text": [
      "Processing files:  61%|██████▏   | 49/80 [2:34:32<58:14, 112.72s/it]"
     ]
    },
    {
     "name": "stdout",
     "output_type": "stream",
     "text": [
      "Processed and saved /scratch/user/syedwali/Datasets/UNSW/processed/7_1029959340_20240905-210156_processed.csv\n"
     ]
    },
    {
     "name": "stderr",
     "output_type": "stream",
     "text": [
      "Processing files:  62%|██████▎   | 50/80 [2:36:30<57:02, 114.08s/it]"
     ]
    },
    {
     "name": "stdout",
     "output_type": "stream",
     "text": [
      "Processed and saved /scratch/user/syedwali/Datasets/UNSW/processed/34_processed.csv\n"
     ]
    },
    {
     "name": "stderr",
     "output_type": "stream",
     "text": [
      "Processing files:  64%|██████▍   | 51/80 [2:38:51<59:08, 122.35s/it]"
     ]
    },
    {
     "name": "stdout",
     "output_type": "stream",
     "text": [
      "Processed and saved /scratch/user/syedwali/Datasets/UNSW/processed/16_1030797880_20240905-210615_processed.csv\n"
     ]
    },
    {
     "name": "stderr",
     "output_type": "stream",
     "text": [
      "Processing files:  65%|██████▌   | 52/80 [2:40:48<56:18, 120.65s/it]"
     ]
    },
    {
     "name": "stdout",
     "output_type": "stream",
     "text": [
      "Processed and saved /scratch/user/syedwali/Datasets/UNSW/processed/46_processed.csv\n"
     ]
    },
    {
     "name": "stderr",
     "output_type": "stream",
     "text": [
      "Processing files:  66%|██████▋   | 53/80 [2:42:50<54:24, 120.91s/it]"
     ]
    },
    {
     "name": "stdout",
     "output_type": "stream",
     "text": [
      "Processed and saved /scratch/user/syedwali/Datasets/UNSW/processed/37_processed.csv\n"
     ]
    },
    {
     "name": "stderr",
     "output_type": "stream",
     "text": [
      "Processing files:  68%|██████▊   | 54/80 [2:44:46<51:49, 119.60s/it]"
     ]
    },
    {
     "name": "stdout",
     "output_type": "stream",
     "text": [
      "Processed and saved /scratch/user/syedwali/Datasets/UNSW/processed/42_processed.csv\n"
     ]
    },
    {
     "name": "stderr",
     "output_type": "stream",
     "text": [
      "Processing files:  69%|██████▉   | 55/80 [2:47:23<54:30, 130.82s/it]"
     ]
    },
    {
     "name": "stdout",
     "output_type": "stream",
     "text": [
      "Processed and saved /scratch/user/syedwali/Datasets/UNSW/processed/19_1028414664_20240905-211405_processed.csv\n"
     ]
    },
    {
     "name": "stderr",
     "output_type": "stream",
     "text": [
      "Processing files:  70%|███████   | 56/80 [2:49:20<50:41, 126.74s/it]"
     ]
    },
    {
     "name": "stdout",
     "output_type": "stream",
     "text": [
      "Processed and saved /scratch/user/syedwali/Datasets/UNSW/processed/14_1028986624_20240905-211644_processed.csv\n"
     ]
    },
    {
     "name": "stderr",
     "output_type": "stream",
     "text": [
      "Processing files:  71%|███████▏  | 57/80 [2:51:18<47:30, 123.93s/it]"
     ]
    },
    {
     "name": "stdout",
     "output_type": "stream",
     "text": [
      "Processed and saved /scratch/user/syedwali/Datasets/UNSW/processed/6_1028295840_20240905-211841_processed.csv\n"
     ]
    },
    {
     "name": "stderr",
     "output_type": "stream",
     "text": [
      "Processing files:  72%|███████▎  | 58/80 [2:53:14<44:36, 121.67s/it]"
     ]
    },
    {
     "name": "stdout",
     "output_type": "stream",
     "text": [
      "Processed and saved /scratch/user/syedwali/Datasets/UNSW/processed/51_processed.csv\n"
     ]
    },
    {
     "name": "stderr",
     "output_type": "stream",
     "text": [
      "Processing files:  74%|███████▍  | 59/80 [2:55:15<42:30, 121.43s/it]"
     ]
    },
    {
     "name": "stdout",
     "output_type": "stream",
     "text": [
      "Processed and saved /scratch/user/syedwali/Datasets/UNSW/processed/40_processed.csv\n"
     ]
    },
    {
     "name": "stderr",
     "output_type": "stream",
     "text": [
      "Processing files:  75%|███████▌  | 60/80 [2:57:37<42:32, 127.63s/it]"
     ]
    },
    {
     "name": "stdout",
     "output_type": "stream",
     "text": [
      "Processed and saved /scratch/user/syedwali/Datasets/UNSW/processed/13_processed.csv\n"
     ]
    },
    {
     "name": "stderr",
     "output_type": "stream",
     "text": [
      "Processing files:  76%|███████▋  | 61/80 [2:59:34<39:21, 124.29s/it]"
     ]
    },
    {
     "name": "stdout",
     "output_type": "stream",
     "text": [
      "Processed and saved /scratch/user/syedwali/Datasets/UNSW/processed/27_1028678596_20240905-212657_processed.csv\n"
     ]
    },
    {
     "name": "stderr",
     "output_type": "stream",
     "text": [
      "Processing files:  78%|███████▊  | 62/80 [3:01:31<36:39, 122.18s/it]"
     ]
    },
    {
     "name": "stdout",
     "output_type": "stream",
     "text": [
      "Processed and saved /scratch/user/syedwali/Datasets/UNSW/processed/9_1000001414_20240905-212854_processed.csv\n"
     ]
    },
    {
     "name": "stderr",
     "output_type": "stream",
     "text": [
      "/scratch/user/syedwali/Python_env/Processing/lib/python3.8/site-packages/nfstream/streamer.py:547: DtypeWarning: Columns (0,1,5,9,10,11,12,13,14,15,16,17,18,19,20,21,22,23,24,25,26,27,28,29,30) have mixed types. Specify dtype option on import or set low_memory=False.\n",
      "  df = pd.read_csv(temp_file_path)\n"
     ]
    },
    {
     "name": "stdout",
     "output_type": "stream",
     "text": [
      "WARNING: 4 flows ignored by pandas type conversion. Consider using to_csv() method if drops are critical.\n"
     ]
    },
    {
     "name": "stderr",
     "output_type": "stream",
     "text": [
      "Processing files:  79%|███████▉  | 63/80 [3:03:33<34:38, 122.27s/it]"
     ]
    },
    {
     "name": "stdout",
     "output_type": "stream",
     "text": [
      "Processed and saved /scratch/user/syedwali/Datasets/UNSW/processed/1_1000000847_20240905-213056_processed.csv\n"
     ]
    },
    {
     "name": "stderr",
     "output_type": "stream",
     "text": [
      "Processing files:  80%|████████  | 64/80 [3:05:30<32:09, 120.60s/it]"
     ]
    },
    {
     "name": "stdout",
     "output_type": "stream",
     "text": [
      "Processed and saved /scratch/user/syedwali/Datasets/UNSW/processed/21_1028743892_20240905-213253_processed.csv\n"
     ]
    },
    {
     "name": "stderr",
     "output_type": "stream",
     "text": [
      "Processing files:  81%|████████▏ | 65/80 [3:07:27<29:54, 119.61s/it]"
     ]
    },
    {
     "name": "stdout",
     "output_type": "stream",
     "text": [
      "Processed and saved /scratch/user/syedwali/Datasets/UNSW/processed/23_1029096252_20240905-213450_processed.csv\n"
     ]
    },
    {
     "name": "stderr",
     "output_type": "stream",
     "text": [
      "Processing files:  82%|████████▎ | 66/80 [3:09:22<27:35, 118.26s/it]"
     ]
    },
    {
     "name": "stdout",
     "output_type": "stream",
     "text": [
      "Processed and saved /scratch/user/syedwali/Datasets/UNSW/processed/43_processed.csv\n"
     ]
    },
    {
     "name": "stderr",
     "output_type": "stream",
     "text": [
      "Processing files:  84%|████████▍ | 67/80 [3:11:45<27:13, 125.64s/it]"
     ]
    },
    {
     "name": "stdout",
     "output_type": "stream",
     "text": [
      "Processed and saved /scratch/user/syedwali/Datasets/UNSW/processed/33_processed.csv\n"
     ]
    },
    {
     "name": "stderr",
     "output_type": "stream",
     "text": [
      "Processing files:  85%|████████▌ | 68/80 [3:13:45<24:47, 123.94s/it]"
     ]
    },
    {
     "name": "stdout",
     "output_type": "stream",
     "text": [
      "Processed and saved /scratch/user/syedwali/Datasets/UNSW/processed/25_1029881776_20240905-214109_processed.csv\n"
     ]
    },
    {
     "name": "stderr",
     "output_type": "stream",
     "text": [
      "Processing files:  86%|████████▋ | 69/80 [3:16:18<24:17, 132.52s/it]"
     ]
    },
    {
     "name": "stdout",
     "output_type": "stream",
     "text": [
      "Processed and saved /scratch/user/syedwali/Datasets/UNSW/processed/39_processed.csv\n"
     ]
    },
    {
     "name": "stderr",
     "output_type": "stream",
     "text": [
      "Processing files:  88%|████████▊ | 70/80 [3:18:18<21:29, 128.94s/it]"
     ]
    },
    {
     "name": "stdout",
     "output_type": "stream",
     "text": [
      "Processed and saved /scratch/user/syedwali/Datasets/UNSW/processed/8_1000001035_20240905-214538_processed.csv\n"
     ]
    },
    {
     "name": "stderr",
     "output_type": "stream",
     "text": [
      "Processing files:  89%|████████▉ | 71/80 [3:20:15<18:46, 125.13s/it]"
     ]
    },
    {
     "name": "stdout",
     "output_type": "stream",
     "text": [
      "Processed and saved /scratch/user/syedwali/Datasets/UNSW/processed/44_processed.csv\n"
     ]
    },
    {
     "name": "stderr",
     "output_type": "stream",
     "text": [
      "Processing files:  90%|█████████ | 72/80 [3:22:17<16:34, 124.31s/it]"
     ]
    },
    {
     "name": "stdout",
     "output_type": "stream",
     "text": [
      "Processed and saved /scratch/user/syedwali/Datasets/UNSW/processed/32_processed.csv\n"
     ]
    },
    {
     "name": "stderr",
     "output_type": "stream",
     "text": [
      "Processing files:  91%|█████████▏| 73/80 [3:24:23<14:34, 124.89s/it]"
     ]
    },
    {
     "name": "stdout",
     "output_type": "stream",
     "text": [
      "Processed and saved /scratch/user/syedwali/Datasets/UNSW/processed/10_1000001192_20240905-215144_processed.csv\n"
     ]
    },
    {
     "name": "stderr",
     "output_type": "stream",
     "text": [
      "Processing files:  92%|█████████▎| 74/80 [3:26:38<12:47, 127.93s/it]"
     ]
    },
    {
     "name": "stdout",
     "output_type": "stream",
     "text": [
      "Processed and saved /scratch/user/syedwali/Datasets/UNSW/processed/49_processed.csv\n"
     ]
    },
    {
     "name": "stderr",
     "output_type": "stream",
     "text": [
      "Processing files:  94%|█████████▍| 75/80 [3:28:40<10:30, 126.18s/it]"
     ]
    },
    {
     "name": "stdout",
     "output_type": "stream",
     "text": [
      "Processed and saved /scratch/user/syedwali/Datasets/UNSW/processed/50_processed.csv\n"
     ]
    },
    {
     "name": "stderr",
     "output_type": "stream",
     "text": [
      "Processing files:  95%|█████████▌| 76/80 [3:30:37<08:13, 123.39s/it]"
     ]
    },
    {
     "name": "stdout",
     "output_type": "stream",
     "text": [
      "Processed and saved /scratch/user/syedwali/Datasets/UNSW/processed/4_1000000277_20240905-215800_processed.csv\n"
     ]
    },
    {
     "name": "stderr",
     "output_type": "stream",
     "text": [
      "Processing files:  96%|█████████▋| 77/80 [3:32:43<06:12, 124.24s/it]"
     ]
    },
    {
     "name": "stdout",
     "output_type": "stream",
     "text": [
      "Processed and saved /scratch/user/syedwali/Datasets/UNSW/processed/38_processed.csv\n"
     ]
    },
    {
     "name": "stderr",
     "output_type": "stream",
     "text": [
      "Processing files:  98%|█████████▊| 78/80 [3:34:42<04:04, 122.49s/it]"
     ]
    },
    {
     "name": "stdout",
     "output_type": "stream",
     "text": [
      "Processed and saved /scratch/user/syedwali/Datasets/UNSW/processed/45_processed.csv\n"
     ]
    },
    {
     "name": "stderr",
     "output_type": "stream",
     "text": [
      "Processing files:  99%|█████████▉| 79/80 [3:36:48<02:03, 123.47s/it]"
     ]
    },
    {
     "name": "stdout",
     "output_type": "stream",
     "text": [
      "Processed and saved /scratch/user/syedwali/Datasets/UNSW/processed/31_processed.csv\n"
     ]
    },
    {
     "name": "stderr",
     "output_type": "stream",
     "text": [
      "Processing files: 100%|██████████| 80/80 [3:38:45<00:00, 164.07s/it]"
     ]
    },
    {
     "name": "stdout",
     "output_type": "stream",
     "text": [
      "Processed and saved /scratch/user/syedwali/Datasets/UNSW/processed/29_processed.csv\n",
      "All files processed and saved in /scratch/user/syedwali/Datasets/UNSW/processed\n"
     ]
    },
    {
     "name": "stderr",
     "output_type": "stream",
     "text": [
      "\n"
     ]
    }
   ],
   "source": [
    "status=pcap_process(dataset_folder=folder_name,window_size=window_size,vulnerable_ports_list=vulnerable_ports_list,\n",
    "                                           http_ports_list=http_ports_list ,n_meters=1)\n"
   ]
  },
  {
   "cell_type": "code",
   "execution_count": 3,
   "id": "ae8f3ce7-1d57-4b54-9f6e-e3907a74631c",
   "metadata": {},
   "outputs": [
    {
     "name": "stdout",
     "output_type": "stream",
     "text": [
      "completed\n"
     ]
    }
   ],
   "source": [
    "print(status)"
   ]
  },
  {
   "cell_type": "code",
   "execution_count": null,
   "id": "4b07f621-288d-4be3-99c5-7ab44542fcf0",
   "metadata": {},
   "outputs": [],
   "source": []
  }
 ],
 "metadata": {
  "kernelspec": {
   "display_name": "Python 3 (ipykernel)",
   "language": "python",
   "name": "python3"
  },
  "language_info": {
   "codemirror_mode": {
    "name": "ipython",
    "version": 3
   },
   "file_extension": ".py",
   "mimetype": "text/x-python",
   "name": "python",
   "nbconvert_exporter": "python",
   "pygments_lexer": "ipython3",
   "version": "3.8.6"
  }
 },
 "nbformat": 4,
 "nbformat_minor": 5
}
