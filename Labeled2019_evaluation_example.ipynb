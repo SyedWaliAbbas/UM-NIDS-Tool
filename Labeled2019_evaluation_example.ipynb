{
 "cells": [
  {
   "cell_type": "markdown",
   "id": "e25e5bf3-25a3-475b-b1f1-0487b13d307d",
   "metadata": {},
   "source": [
    "Reading labeled CSV files from the CIC_2019 dataset folder. Due to the dataset's large size, each CSV file is read individually, with columns related to ports, IPs, MAC addresses, and payloads being dropped. Additionally, the label count for each file is limited to a maximum of 5000. Unmatched rows have been removed, and the resulting DataFrame is exported. Users can adjust these settings based on their system requirements."
   ]
  },
  {
   "cell_type": "code",
   "execution_count": 1,
   "id": "fd00abc6-d6cf-4380-a6e9-65b6a77ca39e",
   "metadata": {},
   "outputs": [
    {
     "name": "stderr",
     "output_type": "stream",
     "text": [
      "Processing CSV files: 100%|██████████| 928/928 [1:11:10<00:00,  4.60s/it]\n"
     ]
    }
   ],
   "source": [
    "import os\n",
    "import pandas as pd\n",
    "from tqdm import tqdm\n",
    "\n",
    "# Function to process all CSV files in a folder\n",
    "def process_csvs_in_folder(input_folder):\n",
    "    # Initialize an empty DataFrame to store the combined results\n",
    "    combined_df = pd.DataFrame()\n",
    "\n",
    "    # Iterate over all CSV files in the input folder with progress bar\n",
    "    csv_files = [f for f in os.listdir(input_folder) if f.endswith(\".csv\")]\n",
    "    \n",
    "    for csv_file in tqdm(csv_files, desc=\"Processing CSV files\"):\n",
    "        try:\n",
    "            # Read the CSV file\n",
    "            file_path = os.path.join(input_folder, csv_file)\n",
    "            df = pd.read_csv(file_path, low_memory=False)\n",
    "            \n",
    "            # Drop unnecessary columns\n",
    "            df.drop(['id','expiration_id','src_ip','src_mac','src_oui','src_port','dst_ip','dst_mac','dst_oui','dst_port',\n",
    "                     'protocol','ip_version','vlan_id','tunnel_id','bidirectional_first_seen_ms','bidirectional_last_seen_ms',\n",
    "                     'src2dst_first_seen_ms','src2dst_last_seen_ms','dst2src_first_seen_ms','dst2src_last_seen_ms',\n",
    "                     'application_name', 'application_category_name', 'application_is_guessed', 'application_confidence',\n",
    "                     'requested_server_name','client_fingerprint','server_fingerprint','user_agent','content_type',\n",
    "                     'udps.payload_data','udps.delta_time','udps.packet_direction','udps.ip_size','udps.transport_size',\n",
    "                     'udps.payload_size','udps.syn','udps.cwr','udps.ece','udps.urg','udps.ack','udps.psh','udps.rst',\n",
    "                     'udps.fin','file'], axis=1, inplace=True)\n",
    "\n",
    "            # Drop rows with missing values\n",
    "            df.dropna(inplace=True)\n",
    "\n",
    "            # Remove rows where the label is 'No Match'\n",
    "            df = df[df['label'] != 'No Match']\n",
    "\n",
    "            # Limit the number of instances per class label to 5000\n",
    "            df = df.groupby('label').apply(lambda x: x.head(5000)).reset_index(drop=True)\n",
    "\n",
    "            # Append the processed DataFrame to the combined DataFrame\n",
    "            combined_df = pd.concat([combined_df, df], ignore_index=True)\n",
    "        \n",
    "        except Exception as e:\n",
    "            print(f\"Failed to process {csv_file}: {e}\")\n",
    "\n",
    "    # Return the combined DataFrame\n",
    "    return combined_df\n",
    "\n",
    "# Example usage:\n",
    "input_folder = \"/scratch/user/syedwali/Datasets/CIC_2019/processed/labeled_csv\"\n",
    "df = process_csvs_in_folder(input_folder)\n",
    "\n",
    "\n"
   ]
  },
  {
   "cell_type": "code",
   "execution_count": 3,
   "id": "68285f98-da45-4d79-8359-7b8392202e5e",
   "metadata": {},
   "outputs": [
    {
     "name": "stdout",
     "output_type": "stream",
     "text": [
      "processing completed\n"
     ]
    }
   ],
   "source": [
    "print('processing completed')"
   ]
  },
  {
   "cell_type": "code",
   "execution_count": 4,
   "id": "469a73fb-d7bf-4cd8-85dd-4e92375d1eda",
   "metadata": {},
   "outputs": [],
   "source": [
    "# If needed, save the combined DataFrame to a CSV\n",
    "output_file = \"/scratch/user/syedwali/Datasets/undersampled_CIC2019_dataset.csv\"\n",
    "df.to_csv(output_file, index=False)"
   ]
  },
  {
   "cell_type": "code",
   "execution_count": 5,
   "id": "fd2afd79-64ac-4019-81da-15b2b975db67",
   "metadata": {},
   "outputs": [
    {
     "data": {
      "text/plain": [
       "label\n",
       "BENIGN           1302431\n",
       "TFTP              950229\n",
       "DrDoS_NTP         916545\n",
       "DrDoS_DNS         868900\n",
       "DrDoS_SNMP        415000\n",
       "DrDoS_LDAP        240462\n",
       "MSSQL             190000\n",
       "LDAP              188571\n",
       "DrDoS_MSSQL       150000\n",
       "UDP               150000\n",
       "DrDoS_SSDP        105000\n",
       "DrDoS_UDP         105000\n",
       "DrDoS_NetBIOS      60000\n",
       "NetBIOS            55000\n",
       "Syn                41288\n",
       "Portmap             5000\n",
       "UDPLag               185\n",
       "Name: count, dtype: int64"
      ]
     },
     "execution_count": 5,
     "metadata": {},
     "output_type": "execute_result"
    }
   ],
   "source": [
    "df['label'].value_counts()"
   ]
  },
  {
   "cell_type": "code",
   "execution_count": 6,
   "id": "96156efd-a51e-43f0-a149-48fb73d8553b",
   "metadata": {
    "scrolled": true
   },
   "outputs": [
    {
     "name": "stdout",
     "output_type": "stream",
     "text": [
      "bidirectional_duration_ms\n",
      "bidirectional_packets\n",
      "bidirectional_bytes\n",
      "src2dst_duration_ms\n",
      "src2dst_packets\n",
      "src2dst_bytes\n",
      "dst2src_duration_ms\n",
      "dst2src_packets\n",
      "dst2src_bytes\n",
      "bidirectional_min_ps\n",
      "bidirectional_mean_ps\n",
      "bidirectional_stddev_ps\n",
      "bidirectional_max_ps\n",
      "src2dst_min_ps\n",
      "src2dst_mean_ps\n",
      "src2dst_stddev_ps\n",
      "src2dst_max_ps\n",
      "dst2src_min_ps\n",
      "dst2src_mean_ps\n",
      "dst2src_stddev_ps\n",
      "dst2src_max_ps\n",
      "bidirectional_min_piat_ms\n",
      "bidirectional_mean_piat_ms\n",
      "bidirectional_stddev_piat_ms\n",
      "bidirectional_max_piat_ms\n",
      "src2dst_min_piat_ms\n",
      "src2dst_mean_piat_ms\n",
      "src2dst_stddev_piat_ms\n",
      "src2dst_max_piat_ms\n",
      "dst2src_min_piat_ms\n",
      "dst2src_mean_piat_ms\n",
      "dst2src_stddev_piat_ms\n",
      "dst2src_max_piat_ms\n",
      "bidirectional_syn_packets\n",
      "bidirectional_cwr_packets\n",
      "bidirectional_ece_packets\n",
      "bidirectional_urg_packets\n",
      "bidirectional_ack_packets\n",
      "bidirectional_psh_packets\n",
      "bidirectional_rst_packets\n",
      "bidirectional_fin_packets\n",
      "src2dst_syn_packets\n",
      "src2dst_cwr_packets\n",
      "src2dst_ece_packets\n",
      "src2dst_urg_packets\n",
      "src2dst_ack_packets\n",
      "src2dst_psh_packets\n",
      "src2dst_rst_packets\n",
      "src2dst_fin_packets\n",
      "dst2src_syn_packets\n",
      "dst2src_cwr_packets\n",
      "dst2src_ece_packets\n",
      "dst2src_urg_packets\n",
      "dst2src_ack_packets\n",
      "dst2src_psh_packets\n",
      "dst2src_rst_packets\n",
      "dst2src_fin_packets\n",
      "udps.srcdst_packet_size_variation\n",
      "udps.srcdst_udp_packet_count\n",
      "udps.udp_packet_count\n",
      "udps.srcdst_tcp_packet_count\n",
      "udps.tcp_packet_count\n",
      "udps.srcdst_ack_packet_count\n",
      "udps.ack_packet_count\n",
      "udps.srcdst_fin_packet_count\n",
      "udps.fin_packet_count\n",
      "udps.srcdst_rst_packet_count\n",
      "udps.rst_packet_count\n",
      "udps.srcdst_psh_packet_count\n",
      "udps.psh_packet_count\n",
      "udps.srcdst_syn_packet_count\n",
      "udps.syn_packet_count\n",
      "udps.srcdst_unique_ports_count\n",
      "udps.srcdst_icmp_packet_count\n",
      "udps.icmp_packet_count\n",
      "udps.srcdst_http_ports_count\n",
      "udps.http_ports_count\n",
      "udps.srcdst_bidirectional_duration_avg\n",
      "udps.bidirectional_duration_avg\n",
      "udps.srcdst_dns_port_count\n",
      "udps.dns_port_count\n",
      "udps.srcdst_dns_port_src_count\n",
      "udps.dns_port_src_count\n",
      "udps.srcdst_vul_ports_count\n",
      "udps.src2dst_packet_count\n",
      "udps.bidirectional_packet_count\n",
      "udps.srcdst_src2dst_packet_count\n",
      "udps.srcdst_bidirectional_packet_count\n",
      "flowid\n",
      "label\n"
     ]
    }
   ],
   "source": [
    "for i in df.columns:\n",
    "    print(i)"
   ]
  },
  {
   "cell_type": "code",
   "execution_count": 8,
   "id": "df2aec17-96f9-4e58-af02-cb07239164db",
   "metadata": {},
   "outputs": [],
   "source": [
    "df.drop(['flowid'],axis=1,inplace=True)"
   ]
  },
  {
   "cell_type": "markdown",
   "id": "e6e20745-2ba8-4764-99e0-e596513ad897",
   "metadata": {},
   "source": [
    "### Performance Evaluation with contextual Features"
   ]
  },
  {
   "cell_type": "code",
   "execution_count": 9,
   "id": "81867a5b-68b0-464c-894f-8548ad4a9bde",
   "metadata": {},
   "outputs": [
    {
     "name": "stdout",
     "output_type": "stream",
     "text": [
      "Accuracy: 0.75\n",
      "Classification Report:\n",
      "               precision    recall  f1-score   support\n",
      "\n",
      "       BENIGN       0.58      0.72      0.64    390512\n",
      "    DrDoS_DNS       0.61      0.86      0.71    261362\n",
      "   DrDoS_LDAP       0.77      0.16      0.26     71965\n",
      "  DrDoS_MSSQL       0.81      0.46      0.58     44958\n",
      "    DrDoS_NTP       1.00      1.00      1.00    274893\n",
      "DrDoS_NetBIOS       0.97      0.87      0.92     18080\n",
      "   DrDoS_SNMP       0.72      0.39      0.51    124904\n",
      "   DrDoS_SSDP       0.58      0.55      0.56     31366\n",
      "    DrDoS_UDP       0.54      0.53      0.53     31209\n",
      "         LDAP       0.65      0.16      0.26     56479\n",
      "        MSSQL       0.75      0.46      0.57     57118\n",
      "      NetBIOS       0.98      0.87      0.92     16421\n",
      "      Portmap       0.91      0.16      0.27      1456\n",
      "          Syn       0.99      0.98      0.99     12280\n",
      "         TFTP       1.00      1.00      1.00    285131\n",
      "          UDP       0.61      0.63      0.62     44893\n",
      "       UDPLag       0.89      0.42      0.57        57\n",
      "\n",
      "     accuracy                           0.75   1723084\n",
      "    macro avg       0.78      0.60      0.64   1723084\n",
      " weighted avg       0.76      0.75      0.73   1723084\n",
      "\n"
     ]
    }
   ],
   "source": [
    "import pandas as pd\n",
    "from sklearn.model_selection import train_test_split\n",
    "from sklearn.ensemble import RandomForestClassifier\n",
    "from sklearn.metrics import classification_report, accuracy_score\n",
    "\n",
    "# Assuming df is already defined and has a 'label' column\n",
    "X = df.drop('label', axis=1)  # Features (drop the label column)\n",
    "y = df['label']  # Labels\n",
    "\n",
    "# Split the data (70% train, 30% test)\n",
    "X_train, X_test, y_train, y_test = train_test_split(X, y, test_size=0.30, random_state=42)\n",
    "\n",
    "# Initialize the Random Forest Classifier\n",
    "clf = RandomForestClassifier(n_estimators=100, random_state=42,n_jobs=-1)\n",
    "\n",
    "# Train the classifier\n",
    "clf.fit(X_train, y_train)\n",
    "\n",
    "# Predict on the test set\n",
    "y_pred = clf.predict(X_test)\n",
    "\n",
    "# Evaluate the model\n",
    "accuracy = accuracy_score(y_test, y_pred)\n",
    "report = classification_report(y_test, y_pred)\n",
    "\n",
    "print(f'Accuracy: {accuracy:.2f}')\n",
    "print('Classification Report:')\n",
    "print(report)"
   ]
  },
  {
   "cell_type": "markdown",
   "id": "c821d7c6-5c0c-4cd3-a364-2a58a6749f91",
   "metadata": {},
   "source": [
    "### Performance Evaluation without contextual Features"
   ]
  },
  {
   "cell_type": "markdown",
   "id": "5af0b9a1-5c25-4781-b773-d14967caf601",
   "metadata": {},
   "source": [
    "To demonstrate the impact of extended contextual features on classification performance, we've removed all such features from our analysis. By doing so, we can observe the potential degradation in classification accuracy when contextual information is limited."
   ]
  },
  {
   "cell_type": "code",
   "execution_count": 10,
   "id": "84afc75c-a49a-4b16-b845-79062571134f",
   "metadata": {},
   "outputs": [],
   "source": [
    "df.drop(['udps.srcdst_packet_size_variation','udps.srcdst_udp_packet_count','udps.udp_packet_count',\n",
    "'udps.srcdst_tcp_packet_count','udps.tcp_packet_count','udps.srcdst_ack_packet_count',\n",
    "'udps.ack_packet_count','udps.srcdst_fin_packet_count','udps.fin_packet_count',\n",
    "'udps.srcdst_rst_packet_count','udps.rst_packet_count','udps.srcdst_psh_packet_count',\n",
    "'udps.psh_packet_count','udps.srcdst_syn_packet_count','udps.syn_packet_count','udps.srcdst_unique_ports_count',\n",
    "'udps.srcdst_icmp_packet_count','udps.icmp_packet_count','udps.srcdst_http_ports_count','udps.http_ports_count',\n",
    "'udps.srcdst_bidirectional_duration_avg','udps.bidirectional_duration_avg','udps.srcdst_dns_port_count',\n",
    "'udps.dns_port_count','udps.srcdst_dns_port_src_count','udps.dns_port_src_count','udps.srcdst_vul_ports_count',\n",
    "'udps.src2dst_packet_count','udps.bidirectional_packet_count','udps.srcdst_src2dst_packet_count',\n",
    "'udps.srcdst_bidirectional_packet_count'],axis=1,inplace=True)"
   ]
  },
  {
   "cell_type": "code",
   "execution_count": 11,
   "id": "dd647470-b8c0-429e-8410-6d078a9e2e1e",
   "metadata": {},
   "outputs": [
    {
     "name": "stdout",
     "output_type": "stream",
     "text": [
      "Accuracy: 0.60\n",
      "Classification Report:\n",
      "               precision    recall  f1-score   support\n",
      "\n",
      "       BENIGN       0.47      0.36      0.41    390512\n",
      "    DrDoS_DNS       0.37      0.95      0.53    261362\n",
      "   DrDoS_LDAP       0.44      0.00      0.00     71965\n",
      "  DrDoS_MSSQL       0.47      0.02      0.04     44958\n",
      "    DrDoS_NTP       0.99      1.00      0.99    274893\n",
      "DrDoS_NetBIOS       0.93      0.02      0.03     18080\n",
      "   DrDoS_SNMP       0.60      0.21      0.32    124904\n",
      "   DrDoS_SSDP       0.42      0.05      0.09     31366\n",
      "    DrDoS_UDP       0.42      0.03      0.05     31209\n",
      "         LDAP       0.47      0.00      0.00     56479\n",
      "        MSSQL       0.49      0.05      0.08     57118\n",
      "      NetBIOS       0.95      0.03      0.06     16421\n",
      "      Portmap       0.17      0.00      0.00      1456\n",
      "          Syn       0.78      0.60      0.68     12280\n",
      "         TFTP       0.91      0.99      0.95    285131\n",
      "          UDP       0.42      0.94      0.58     44893\n",
      "       UDPLag       0.29      0.07      0.11        57\n",
      "\n",
      "     accuracy                           0.60   1723084\n",
      "    macro avg       0.56      0.31      0.29   1723084\n",
      " weighted avg       0.63      0.60      0.54   1723084\n",
      "\n"
     ]
    }
   ],
   "source": [
    "import pandas as pd\n",
    "from sklearn.model_selection import train_test_split\n",
    "from sklearn.ensemble import RandomForestClassifier\n",
    "from sklearn.metrics import classification_report, accuracy_score\n",
    "\n",
    "# Assuming df is already defined and has a 'label' column\n",
    "X = df.drop('label', axis=1)  # Features (drop the label column)\n",
    "y = df['label']  # Labels\n",
    "\n",
    "# Split the data (70% train, 30% test)\n",
    "X_train, X_test, y_train, y_test = train_test_split(X, y, test_size=0.30, random_state=42)\n",
    "\n",
    "# Initialize the Random Forest Classifier\n",
    "clf = RandomForestClassifier(n_estimators=100, random_state=42,n_jobs=-1)\n",
    "\n",
    "# Train the classifier\n",
    "clf.fit(X_train, y_train)\n",
    "\n",
    "# Predict on the test set\n",
    "y_pred = clf.predict(X_test)\n",
    "\n",
    "# Evaluate the model\n",
    "accuracy = accuracy_score(y_test, y_pred)\n",
    "report = classification_report(y_test, y_pred)\n",
    "\n",
    "print(f'Accuracy: {accuracy:.2f}')\n",
    "print('Classification Report:')\n",
    "print(report)"
   ]
  },
  {
   "cell_type": "code",
   "execution_count": null,
   "id": "09d6ce28-ff4b-4843-a122-cb3d34f1f1bb",
   "metadata": {},
   "outputs": [],
   "source": []
  },
  {
   "cell_type": "code",
   "execution_count": 13,
   "id": "0c63cdc2-4b97-43e7-8c99-d815d82f7c85",
   "metadata": {},
   "outputs": [
    {
     "name": "stderr",
     "output_type": "stream",
     "text": [
      "/tmp/job.11300610/ipykernel_237698/1933278323.py:2: DtypeWarning: Columns (85) have mixed types. Specify dtype option on import or set low_memory=False.\n",
      "  df2=pd.read_csv('Datasets/CIC_2019/01-12/DrDoS_DNS.csv')\n"
     ]
    }
   ],
   "source": [
    "import pandas as pd\n",
    "df2=pd.read_csv('Datasets/CIC_2019/01-12/DrDoS_DNS.csv')"
   ]
  },
  {
   "cell_type": "code",
   "execution_count": 14,
   "id": "9feadc2f-0487-4a25-b3f6-c05bba706bff",
   "metadata": {},
   "outputs": [
    {
     "data": {
      "text/plain": [
       "Index(['Unnamed: 0', 'Flow ID', ' Source IP', ' Source Port',\n",
       "       ' Destination IP', ' Destination Port', ' Protocol', ' Timestamp',\n",
       "       ' Flow Duration', ' Total Fwd Packets', ' Total Backward Packets',\n",
       "       'Total Length of Fwd Packets', ' Total Length of Bwd Packets',\n",
       "       ' Fwd Packet Length Max', ' Fwd Packet Length Min',\n",
       "       ' Fwd Packet Length Mean', ' Fwd Packet Length Std',\n",
       "       'Bwd Packet Length Max', ' Bwd Packet Length Min',\n",
       "       ' Bwd Packet Length Mean', ' Bwd Packet Length Std', 'Flow Bytes/s',\n",
       "       ' Flow Packets/s', ' Flow IAT Mean', ' Flow IAT Std', ' Flow IAT Max',\n",
       "       ' Flow IAT Min', 'Fwd IAT Total', ' Fwd IAT Mean', ' Fwd IAT Std',\n",
       "       ' Fwd IAT Max', ' Fwd IAT Min', 'Bwd IAT Total', ' Bwd IAT Mean',\n",
       "       ' Bwd IAT Std', ' Bwd IAT Max', ' Bwd IAT Min', 'Fwd PSH Flags',\n",
       "       ' Bwd PSH Flags', ' Fwd URG Flags', ' Bwd URG Flags',\n",
       "       ' Fwd Header Length', ' Bwd Header Length', 'Fwd Packets/s',\n",
       "       ' Bwd Packets/s', ' Min Packet Length', ' Max Packet Length',\n",
       "       ' Packet Length Mean', ' Packet Length Std', ' Packet Length Variance',\n",
       "       'FIN Flag Count', ' SYN Flag Count', ' RST Flag Count',\n",
       "       ' PSH Flag Count', ' ACK Flag Count', ' URG Flag Count',\n",
       "       ' CWE Flag Count', ' ECE Flag Count', ' Down/Up Ratio',\n",
       "       ' Average Packet Size', ' Avg Fwd Segment Size',\n",
       "       ' Avg Bwd Segment Size', ' Fwd Header Length.1', 'Fwd Avg Bytes/Bulk',\n",
       "       ' Fwd Avg Packets/Bulk', ' Fwd Avg Bulk Rate', ' Bwd Avg Bytes/Bulk',\n",
       "       ' Bwd Avg Packets/Bulk', 'Bwd Avg Bulk Rate', 'Subflow Fwd Packets',\n",
       "       ' Subflow Fwd Bytes', ' Subflow Bwd Packets', ' Subflow Bwd Bytes',\n",
       "       'Init_Win_bytes_forward', ' Init_Win_bytes_backward',\n",
       "       ' act_data_pkt_fwd', ' min_seg_size_forward', 'Active Mean',\n",
       "       ' Active Std', ' Active Max', ' Active Min', 'Idle Mean', ' Idle Std',\n",
       "       ' Idle Max', ' Idle Min', 'SimillarHTTP', ' Inbound', ' Label'],\n",
       "      dtype='object')"
      ]
     },
     "execution_count": 14,
     "metadata": {},
     "output_type": "execute_result"
    }
   ],
   "source": [
    "df2.columns"
   ]
  },
  {
   "cell_type": "code",
   "execution_count": 18,
   "id": "52eb2d9c-81ad-4f5e-9d04-a1bf5ef788bd",
   "metadata": {},
   "outputs": [
    {
     "name": "stdout",
     "output_type": "stream",
     "text": [
      "Processing folder: Datasets/CIC_2019/01-12/\n",
      "Processing file: DrDoS_LDAP.csv\n"
     ]
    },
    {
     "name": "stderr",
     "output_type": "stream",
     "text": [
      "/tmp/job.11300610/ipykernel_237698/1906684815.py:21: DtypeWarning: Columns (85) have mixed types. Specify dtype option on import or set low_memory=False.\n",
      "  df = pd.read_csv(file_path)\n"
     ]
    },
    {
     "name": "stdout",
     "output_type": "stream",
     "text": [
      "Processing file: DrDoS_DNS.csv\n"
     ]
    },
    {
     "name": "stderr",
     "output_type": "stream",
     "text": [
      "/tmp/job.11300610/ipykernel_237698/1906684815.py:21: DtypeWarning: Columns (85) have mixed types. Specify dtype option on import or set low_memory=False.\n",
      "  df = pd.read_csv(file_path)\n"
     ]
    },
    {
     "name": "stdout",
     "output_type": "stream",
     "text": [
      "Processing file: Syn.csv\n"
     ]
    },
    {
     "name": "stderr",
     "output_type": "stream",
     "text": [
      "/tmp/job.11300610/ipykernel_237698/1906684815.py:21: DtypeWarning: Columns (85) have mixed types. Specify dtype option on import or set low_memory=False.\n",
      "  df = pd.read_csv(file_path)\n"
     ]
    },
    {
     "name": "stdout",
     "output_type": "stream",
     "text": [
      "Processing file: DrDoS_SNMP.csv\n"
     ]
    },
    {
     "name": "stderr",
     "output_type": "stream",
     "text": [
      "/tmp/job.11300610/ipykernel_237698/1906684815.py:21: DtypeWarning: Columns (85) have mixed types. Specify dtype option on import or set low_memory=False.\n",
      "  df = pd.read_csv(file_path)\n"
     ]
    },
    {
     "name": "stdout",
     "output_type": "stream",
     "text": [
      "Processing file: DrDoS_NTP.csv\n"
     ]
    },
    {
     "name": "stderr",
     "output_type": "stream",
     "text": [
      "/tmp/job.11300610/ipykernel_237698/1906684815.py:21: DtypeWarning: Columns (85) have mixed types. Specify dtype option on import or set low_memory=False.\n",
      "  df = pd.read_csv(file_path)\n"
     ]
    },
    {
     "name": "stdout",
     "output_type": "stream",
     "text": [
      "Processing file: DrDoS_MSSQL.csv\n"
     ]
    },
    {
     "name": "stderr",
     "output_type": "stream",
     "text": [
      "/tmp/job.11300610/ipykernel_237698/1906684815.py:21: DtypeWarning: Columns (85) have mixed types. Specify dtype option on import or set low_memory=False.\n",
      "  df = pd.read_csv(file_path)\n"
     ]
    },
    {
     "name": "stdout",
     "output_type": "stream",
     "text": [
      "Processing file: DrDoS_UDP.csv\n"
     ]
    },
    {
     "name": "stderr",
     "output_type": "stream",
     "text": [
      "/tmp/job.11300610/ipykernel_237698/1906684815.py:21: DtypeWarning: Columns (85) have mixed types. Specify dtype option on import or set low_memory=False.\n",
      "  df = pd.read_csv(file_path)\n"
     ]
    },
    {
     "name": "stdout",
     "output_type": "stream",
     "text": [
      "Processing file: UDPLag.csv\n"
     ]
    },
    {
     "name": "stderr",
     "output_type": "stream",
     "text": [
      "/tmp/job.11300610/ipykernel_237698/1906684815.py:21: DtypeWarning: Columns (85) have mixed types. Specify dtype option on import or set low_memory=False.\n",
      "  df = pd.read_csv(file_path)\n"
     ]
    },
    {
     "name": "stdout",
     "output_type": "stream",
     "text": [
      "Processing file: DrDoS_NetBIOS.csv\n"
     ]
    },
    {
     "name": "stderr",
     "output_type": "stream",
     "text": [
      "/tmp/job.11300610/ipykernel_237698/1906684815.py:21: DtypeWarning: Columns (85) have mixed types. Specify dtype option on import or set low_memory=False.\n",
      "  df = pd.read_csv(file_path)\n"
     ]
    },
    {
     "name": "stdout",
     "output_type": "stream",
     "text": [
      "Processing file: TFTP.csv\n"
     ]
    },
    {
     "name": "stderr",
     "output_type": "stream",
     "text": [
      "/tmp/job.11300610/ipykernel_237698/1906684815.py:21: DtypeWarning: Columns (85) have mixed types. Specify dtype option on import or set low_memory=False.\n",
      "  df = pd.read_csv(file_path)\n"
     ]
    },
    {
     "name": "stdout",
     "output_type": "stream",
     "text": [
      "Processing file: DrDoS_SSDP.csv\n"
     ]
    },
    {
     "name": "stderr",
     "output_type": "stream",
     "text": [
      "/tmp/job.11300610/ipykernel_237698/1906684815.py:21: DtypeWarning: Columns (85) have mixed types. Specify dtype option on import or set low_memory=False.\n",
      "  df = pd.read_csv(file_path)\n"
     ]
    },
    {
     "name": "stdout",
     "output_type": "stream",
     "text": [
      "Processing folder: Datasets/CIC_2019/03-11/\n",
      "Processing file: MSSQL.csv\n"
     ]
    },
    {
     "name": "stderr",
     "output_type": "stream",
     "text": [
      "/tmp/job.11300610/ipykernel_237698/1906684815.py:21: DtypeWarning: Columns (85) have mixed types. Specify dtype option on import or set low_memory=False.\n",
      "  df = pd.read_csv(file_path)\n"
     ]
    },
    {
     "name": "stdout",
     "output_type": "stream",
     "text": [
      "Processing file: Syn.csv\n"
     ]
    },
    {
     "name": "stderr",
     "output_type": "stream",
     "text": [
      "/tmp/job.11300610/ipykernel_237698/1906684815.py:21: DtypeWarning: Columns (85) have mixed types. Specify dtype option on import or set low_memory=False.\n",
      "  df = pd.read_csv(file_path)\n"
     ]
    },
    {
     "name": "stdout",
     "output_type": "stream",
     "text": [
      "Processing file: NetBIOS.csv\n"
     ]
    },
    {
     "name": "stderr",
     "output_type": "stream",
     "text": [
      "/tmp/job.11300610/ipykernel_237698/1906684815.py:21: DtypeWarning: Columns (85) have mixed types. Specify dtype option on import or set low_memory=False.\n",
      "  df = pd.read_csv(file_path)\n"
     ]
    },
    {
     "name": "stdout",
     "output_type": "stream",
     "text": [
      "Processing file: UDP.csv\n"
     ]
    },
    {
     "name": "stderr",
     "output_type": "stream",
     "text": [
      "/tmp/job.11300610/ipykernel_237698/1906684815.py:21: DtypeWarning: Columns (85) have mixed types. Specify dtype option on import or set low_memory=False.\n",
      "  df = pd.read_csv(file_path)\n"
     ]
    },
    {
     "name": "stdout",
     "output_type": "stream",
     "text": [
      "Processing file: LDAP.csv\n"
     ]
    },
    {
     "name": "stderr",
     "output_type": "stream",
     "text": [
      "/tmp/job.11300610/ipykernel_237698/1906684815.py:21: DtypeWarning: Columns (85) have mixed types. Specify dtype option on import or set low_memory=False.\n",
      "  df = pd.read_csv(file_path)\n"
     ]
    },
    {
     "name": "stdout",
     "output_type": "stream",
     "text": [
      "Processing file: UDPLag.csv\n"
     ]
    },
    {
     "name": "stderr",
     "output_type": "stream",
     "text": [
      "/tmp/job.11300610/ipykernel_237698/1906684815.py:21: DtypeWarning: Columns (85) have mixed types. Specify dtype option on import or set low_memory=False.\n",
      "  df = pd.read_csv(file_path)\n"
     ]
    },
    {
     "name": "stdout",
     "output_type": "stream",
     "text": [
      "Processing file: Portmap.csv\n",
      "All unique labels:\n",
      "['BENIGN', 'DrDoS_DNS', 'DrDoS_LDAP', 'DrDoS_MSSQL', 'DrDoS_NTP', 'DrDoS_NetBIOS', 'DrDoS_SNMP', 'DrDoS_SSDP', 'DrDoS_UDP', 'LDAP', 'MSSQL', 'NetBIOS', 'Portmap', 'Syn', 'TFTP', 'UDP', 'UDP-lag', 'UDPLag', 'WebDDoS']\n"
     ]
    },
    {
     "name": "stderr",
     "output_type": "stream",
     "text": [
      "/tmp/job.11300610/ipykernel_237698/1906684815.py:21: DtypeWarning: Columns (85) have mixed types. Specify dtype option on import or set low_memory=False.\n",
      "  df = pd.read_csv(file_path)\n"
     ]
    }
   ],
   "source": [
    "import os\n",
    "import pandas as pd\n",
    "\n",
    "# List of folder paths\n",
    "folder_paths = ['Datasets/CIC_2019/01-12/', 'Datasets/CIC_2019/03-11/']  # Add more paths as needed\n",
    "\n",
    "# Set to store unique labels (set avoids duplicates automatically)\n",
    "all_unique_labels = set()\n",
    "\n",
    "# Loop through each folder path\n",
    "for folder_path in folder_paths:\n",
    "    print(f\"Processing folder: {folder_path}\")\n",
    "    \n",
    "    # Loop through all files in the current folder\n",
    "    for file_name in os.listdir(folder_path):\n",
    "        if file_name.endswith('.csv'):  # Only process CSV files\n",
    "            file_path = os.path.join(folder_path, file_name)\n",
    "            print(f\"Processing file: {file_name}\")\n",
    "            \n",
    "            # Read the CSV file\n",
    "            df = pd.read_csv(file_path)\n",
    "            \n",
    "            # Check if ' Label' column exists\n",
    "            if ' Label' in df.columns:\n",
    "                # Add unique labels from this file to the set\n",
    "                all_unique_labels.update(df[' Label'].unique())\n",
    "            else:\n",
    "                print(f\"' Label' column not found in {file_name}\")\n",
    "\n",
    "# Show all unique labels found across all files\n",
    "print(\"All unique labels:\")\n",
    "print(sorted(all_unique_labels))  # \n"
   ]
  },
  {
   "cell_type": "code",
   "execution_count": null,
   "id": "d8ef14b4-4694-4aad-bafa-26eb9e29b21b",
   "metadata": {},
   "outputs": [],
   "source": []
  }
 ],
 "metadata": {
  "kernelspec": {
   "display_name": "Python 3 (ipykernel)",
   "language": "python",
   "name": "python3"
  },
  "language_info": {
   "codemirror_mode": {
    "name": "ipython",
    "version": 3
   },
   "file_extension": ".py",
   "mimetype": "text/x-python",
   "name": "python",
   "nbconvert_exporter": "python",
   "pygments_lexer": "ipython3",
   "version": "3.8.6"
  }
 },
 "nbformat": 4,
 "nbformat_minor": 5
}
